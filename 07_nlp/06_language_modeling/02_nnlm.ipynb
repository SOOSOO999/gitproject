{
 "cells": [
  {
   "cell_type": "markdown",
   "id": "3679a3fe",
   "metadata": {},
   "source": [
    "# NNLM (Neural Network Language Model)"
   ]
  },
  {
   "cell_type": "code",
   "execution_count": 1,
   "id": "14433227",
   "metadata": {},
   "outputs": [],
   "source": [
    "import torch\n",
    "import torch.nn as nn\n",
    "import torch.optim as optim"
   ]
  },
  {
   "cell_type": "code",
   "execution_count": 2,
   "id": "759cb48a",
   "metadata": {},
   "outputs": [],
   "source": [
    "class NNLM(nn.Module):\n",
    "    def __init__(self, vocab_size, embed_size, hidden_size, context_size):\n",
    "        super(NNLM, self).__init__()\n",
    "        self.embed = nn.Embedding(vocab_size, embed_size)\n",
    "        self.fc1 = nn.Linear(context_size * embed_size, hidden_size)\n",
    "        self.relu = nn.ReLU()\n",
    "        self.fc2 = nn.Linear(hidden_size, vocab_size)\n",
    "        self.log_softmax = nn.LogSoftmax(dim=1)\n",
    "\n",
    "    def forward(self, x):\n",
    "        embeds = self.embed(x)  # (batch_size, context_size, embed_size) 순으로 들어오게 된다. \n",
    "        embeds = embeds.view(embeds.size(0), -1)    # 평탄화 => (batch_size, context_size * embed_size)\n",
    "        output = self.fc1(embeds)                   # 완결연결층 통과\n",
    "        output = self.relu(output)                  # 활성화함수 통과\n",
    "        output = self.fc2(output)                   # 출력층\n",
    "        log_probs = self.log_softmax(output)        # log_softmax로 확률값 반환\n",
    "        return log_probs"
   ]
  },
  {
   "cell_type": "code",
   "execution_count": null,
   "id": "206b3470",
   "metadata": {},
   "outputs": [
    {
     "name": "stdout",
     "output_type": "stream",
     "text": [
      "NNLM(\n",
      "  (embed): Embedding(5000, 300)\n",
      "  (fc1): Linear(in_features=600, out_features=128, bias=True)\n",
      "  (relu): ReLU()\n",
      "  (fc2): Linear(in_features=128, out_features=5000, bias=True)\n",
      "  (log_softmax): LogSoftmax(dim=1)\n",
      ")\n"
     ]
    }
   ],
   "source": [
    "# 학습\n",
    "VOCAB_SIZE = 5000\n",
    "EMBED_SIZE = 300        # 임베딩 레이어 통과하면 300개로. \n",
    "HIDDEN_SIZE = 128\n",
    "CONTEXT_SIZE = 2\n",
    "\n",
    "model = NNLM(VOCAB_SIZE, EMBED_SIZE, HIDDEN_SIZE, CONTEXT_SIZE)\n",
    "print(model)"
   ]
  },
  {
   "cell_type": "code",
   "execution_count": 24,
   "id": "9a97a8c0",
   "metadata": {},
   "outputs": [],
   "source": [
    "X = torch.randint(0, VOCAB_SIZE, (8, CONTEXT_SIZE))\n",
    "y = torch.randint(0, VOCAB_SIZE, (8,))"
   ]
  },
  {
   "cell_type": "code",
   "execution_count": null,
   "id": "724e4402",
   "metadata": {},
   "outputs": [
    {
     "name": "stdout",
     "output_type": "stream",
     "text": [
      "8.528336524963379\n"
     ]
    }
   ],
   "source": [
    "criterion = nn.NLLLoss()    # Negative Log Likelihood Loss (log_softmax 함수와 짝꿍? 이라고 생각하면 된다고 하심)\n",
    "optimizer = optim.Adam(model.parameters(), lr=0.001)\n",
    "\n",
    "model.train()\n",
    "optimizer.zero_grad()\n",
    "output = model(X)\n",
    "loss = criterion(output, y)\n",
    "loss.backward()\n",
    "optimizer.step()\n",
    "\n",
    "print(loss.item())"
   ]
  }
 ],
 "metadata": {
  "kernelspec": {
   "display_name": "pystudy_env",
   "language": "python",
   "name": "python3"
  },
  "language_info": {
   "codemirror_mode": {
    "name": "ipython",
    "version": 3
   },
   "file_extension": ".py",
   "mimetype": "text/x-python",
   "name": "python",
   "nbconvert_exporter": "python",
   "pygments_lexer": "ipython3",
   "version": "3.12.9"
  }
 },
 "nbformat": 4,
 "nbformat_minor": 5
}
