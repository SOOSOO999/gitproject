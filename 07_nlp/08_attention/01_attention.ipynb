{
 "cells": [
  {
   "cell_type": "markdown",
   "id": "3706f57a",
   "metadata": {},
   "source": [
    "# Attention"
   ]
  },
  {
   "cell_type": "markdown",
   "id": "d1c3f179",
   "metadata": {},
   "source": [
    "| 역할 | 설명 |\n",
    "|------|------|\n",
    "| **Query (Q)** | 내가 \"무엇을 알고 싶은지\"를 표현하는 질문 벡터 |\n",
    "| **Key (K)**   | 각 단어가 \"어떤 정보\"를 갖고 있는지 나타내는 기준 벡터 |\n",
    "| **Value (V)** | 실제 그 단어가 가진 정보 벡터 |\n"
   ]
  },
  {
   "cell_type": "code",
   "execution_count": 1,
   "id": "7c693bf8",
   "metadata": {},
   "outputs": [],
   "source": [
    "import torch\n",
    "import torch.nn as nn\n",
    "\n",
    "import torch.nn.functional as F"
   ]
  },
  {
   "cell_type": "markdown",
   "id": "7dc362ca",
   "metadata": {},
   "source": [
    "### 어텐션 가중치 계산"
   ]
  },
  {
   "cell_type": "code",
   "execution_count": 2,
   "id": "221a3201",
   "metadata": {},
   "outputs": [],
   "source": [
    "def attention(query, key, value):\n",
    "    # 1. 어텐션 스코어 계산 (Query와 Key의 내적)\n",
    "    scores = torch.matmul(query, key.transpose(-2, -1))\n",
    "    print('Attention Score Shape:', scores.shape)\n",
    "\n",
    "    # 2. Softmax를 통해 어텐션 스코어를 확률로 변환 -> 가중치로 사용\n",
    "    attention_weights = F.softmax(scores, dim=-1)\n",
    "    print('Attention weights shape:', attention_weights.shape)\n",
    "\n",
    "    # 3. 어텐션 밸류 계산 (Value 적용 => 최종 Context vector 계산)\n",
    "    context_vector = torch.matmul(attention_weights, value)\n",
    "    print('Context vector shape:', context_vector.shape)\n",
    "\n",
    "    return context_vector"
   ]
  },
  {
   "cell_type": "code",
   "execution_count": 3,
   "id": "2841b48e",
   "metadata": {},
   "outputs": [],
   "source": [
    "# 토큰화 및 임베딩 결과 예시\n",
    "vocab = {\n",
    "    \"나는\": 0,\n",
    "    \"학교에\": 1, \n",
    "    \"간다\": 2,\n",
    "    \"<pad>\": 3\n",
    "}\n",
    "\n",
    "vocab_size = len(vocab)\n",
    "EMBEDDING_DIM = 4"
   ]
  },
  {
   "cell_type": "code",
   "execution_count": 4,
   "id": "29359bdb",
   "metadata": {},
   "outputs": [],
   "source": [
    "# 입력 문장\n",
    "inputs = [\"나는\", \"학교에\", \"간다\"]\n",
    "inputs_ids = torch.tensor([[vocab[word] for word in inputs]]) # (1, 3)으로 배치차원을 맞춤"
   ]
  },
  {
   "cell_type": "code",
   "execution_count": 5,
   "id": "94c7b11a",
   "metadata": {},
   "outputs": [
    {
     "name": "stdout",
     "output_type": "stream",
     "text": [
      "torch.Size([1, 3, 4]) torch.Size([1, 3, 4]) torch.Size([1, 3, 4])\n"
     ]
    }
   ],
   "source": [
    "# 1. 임베딩 적용\n",
    "embedding_layer = nn.Embedding(vocab_size, EMBEDDING_DIM) \n",
    "inputs_embedded = embedding_layer(inputs_ids)\n",
    "# print(inputs_embedded.shape)    # (1, 3, 4) -> 배치 차원, 시퀀스 길이, 임베딩 차원 \n",
    "\n",
    "# 2. 선형 변환 -> Query, Key, Value 생성\n",
    "HIDDEN_DIM = 4\n",
    "W_query = nn.Linear(EMBEDDING_DIM, HIDDEN_DIM)\n",
    "W_key = nn.Linear(EMBEDDING_DIM, HIDDEN_DIM)\n",
    "W_value = nn.Linear(EMBEDDING_DIM, HIDDEN_DIM)\n",
    "\n",
    "input_query = W_query(inputs_embedded)\n",
    "input_key = W_key(inputs_embedded)\n",
    "input_value = W_value(inputs_embedded)\n",
    "\n",
    "print(input_query.shape, input_key.shape, input_value.shape)    # 모두 (1, 3, 4)  (배치 차원, 시퀀스 길이, 히든 차원)\n",
    "\n"
   ]
  },
  {
   "cell_type": "code",
   "execution_count": 6,
   "id": "1d2f3d9f",
   "metadata": {},
   "outputs": [
    {
     "name": "stdout",
     "output_type": "stream",
     "text": [
      "Attention Score Shape: torch.Size([1, 3, 3])\n",
      "Attention weights shape: torch.Size([1, 3, 3])\n",
      "Context vector shape: torch.Size([1, 3, 4])\n"
     ]
    },
    {
     "data": {
      "text/plain": [
       "tensor([[[-0.4807,  0.2982, -0.2995, -0.3445],\n",
       "         [-0.4408,  0.2936, -0.1907, -0.2689],\n",
       "         [-0.3736,  0.3162, -0.2247, -0.3861]]], grad_fn=<UnsafeViewBackward0>)"
      ]
     },
     "execution_count": 6,
     "metadata": {},
     "output_type": "execute_result"
    }
   ],
   "source": [
    "context_vector = attention(input_query, input_key, input_value)\n",
    "context_vector"
   ]
  },
  {
   "cell_type": "markdown",
   "id": "ee9aee60",
   "metadata": {},
   "source": [
    "### seq2seq 모델에 어텐션 추가"
   ]
  },
  {
   "cell_type": "code",
   "execution_count": 7,
   "id": "1c5f68ab",
   "metadata": {},
   "outputs": [],
   "source": [
    "class Attention(nn.Module):\n",
    "    def __init__(self, hidden_size):\n",
    "        super(Attention, self).__init__()\n",
    "        self.attn = nn.Linear(hidden_size * 2, hidden_size) # query와 key를 concat한 후 선형변환 (hidden_size * 2 -> hidden_size)\n",
    "        self.v = nn.Parameter(torch.rand(hidden_size))  # 어텐션의 가중치 벡터 \n",
    "        \n",
    "    def forward(self, hidden, encoder_outputs):\n",
    "        seq_len = encoder_outputs.shape[1]\n",
    "        hidden_expanded = hidden.unsqueeze(1).repeat(1, seq_len, 1) #(batch_size, seq_len, hidden_size)로 확장 (1, seq_len, 1) : 1의 위치는 유지해주면서 seq_len 확장\n",
    "        energy = torch.tanh(self.attn(torch.cat((hidden_expanded, encoder_outputs), dim=2))) # 디코더의 현재 상태와 인코더의 출력을 연결\n",
    "        attention_scores = torch.sum(self.v * energy, dim=2)    # 현재 상태에 가중치를 곱해 합계를 구함 -> attention score\n",
    "        attention_weights = F.softmax(attention_scores, dim=1)  # 어텐션 가중치 계산\n",
    "        context_vector = torch.bmm(attention_weights.unsqueeze(1), encoder_outputs).squeeze(1)  # 최종 context vector계산 \n",
    "        return context_vector, attention_weights"
   ]
  },
  {
   "cell_type": "code",
   "execution_count": 8,
   "id": "4696c5e4",
   "metadata": {},
   "outputs": [],
   "source": [
    "class Seq2SeqWithAttention(nn.Module):\n",
    "    def __init__(self, input_dim, hidden_dim, output_dim):\n",
    "        super(Seq2SeqWithAttention, self).__init__()\n",
    "        self.encoder = nn.GRU(input_dim, hidden_dim, batch_first=True)  # 인코더 GRU\n",
    "        self.decoder = nn.GRU(hidden_dim, hidden_dim, batch_first=True)\n",
    "        self.attention = Attention(hidden_dim)\n",
    "        self.fc = nn.Linear(hidden_dim * 2, output_dim)\n",
    "        self.decoder_input_transform = nn.Linear(input_dim, hidden_dim)  # 디코더 입력 변환 (인코더의 출력과 같은 차원으로 변환)\n",
    "            \n",
    "    def forward(self, encoder_input, decoder_input):\n",
    "        encoder_outputs, hidden = self.encoder(encoder_input)\n",
    "        context_vector, _ = self.attention(hidden[-1], encoder_outputs) # 인코더의 마지막 hidden state와 인코더의 출력을 사용하여 context vector 계산\n",
    "        decoder_input_ = self.decoder_input_transform(decoder_input)\n",
    "        output, _ = self.decoder(decoder_input_, hidden)\n",
    "        combined = torch.cat((output, context_vector.unsqueeze(1)), dim=2)\n",
    "        return self.fc(combined)  # 최종 출력"
   ]
  },
  {
   "cell_type": "code",
   "execution_count": 9,
   "id": "96a609f0",
   "metadata": {},
   "outputs": [
    {
     "name": "stdout",
     "output_type": "stream",
     "text": [
      "tensor([[[ 0.1092,  0.0646,  0.1446, -0.0725,  0.0600, -0.1632, -0.0874,\n",
      "          -0.0095,  0.1874, -0.0808,  0.1002, -0.2474, -0.0165,  0.2120,\n",
      "          -0.0896]]], grad_fn=<ViewBackward0>)\n"
     ]
    }
   ],
   "source": [
    "batch_size = 1\n",
    "seq_len = 5\n",
    "input_dim = 10\n",
    "hidden_dim = 20\n",
    "output_dim = 15\n",
    "encoder_input = torch.randn(batch_size, seq_len, input_dim)\n",
    "decoder_input = torch.randn(batch_size, 1, input_dim)\n",
    "\n",
    "model = Seq2SeqWithAttention(input_dim=input_dim, hidden_dim=hidden_dim, output_dim=output_dim)\n",
    "result = model(encoder_input, decoder_input)\n",
    "print(result)"
   ]
  }
 ],
 "metadata": {
  "kernelspec": {
   "display_name": "pystudy_env",
   "language": "python",
   "name": "python3"
  },
  "language_info": {
   "codemirror_mode": {
    "name": "ipython",
    "version": 3
   },
   "file_extension": ".py",
   "mimetype": "text/x-python",
   "name": "python",
   "nbconvert_exporter": "python",
   "pygments_lexer": "ipython3",
   "version": "3.12.9"
  }
 },
 "nbformat": 4,
 "nbformat_minor": 5
}
