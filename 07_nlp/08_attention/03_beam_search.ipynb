{
 "cells": [
  {
   "cell_type": "markdown",
   "id": "0848c2c9",
   "metadata": {},
   "source": [
    "# Beam search"
   ]
  },
  {
   "cell_type": "code",
   "execution_count": 1,
   "id": "5a0c10f9",
   "metadata": {},
   "outputs": [],
   "source": [
    "import torch\n",
    "import torch.nn.functional as F"
   ]
  },
  {
   "cell_type": "code",
   "execution_count": null,
   "id": "66a0f9a6",
   "metadata": {},
   "outputs": [],
   "source": [
    "def beam_search(decoder, hidden, context, beam_width=3, max_length=10):\n",
    "    \n",
    "    sequences = [[[], 1.0, hidden]] # 초기화\n",
    "    # [[\"나는\", 0.6, hidden1],\n",
    "    #   [\"저는\", 0.4, hidden2]]  # 문장, 확률, hidden state를 담고 있는 배열을 만든다.\n",
    "\n",
    "    for _ in range(max_length):\n",
    "        all_candidates = [] # 후보군 유지를 해준다는 특징 떄문에 문장을 저장해 줄 배열을 만든다.\n",
    "        for seq, score, hidden in sequences:\n",
    "            decoder_input = torch.tensor([seq[-1] if seq else 0])\n",
    "            output, hidden = decoder(decoder_input, hidden, context)\n",
    "            top_probs, top_indices = torch.topk(F.softmax(output, dim=1), beam_width)   # 상위 beam_width 개수의 확률과 인덱스를 가져온다 (torch.topk)\n",
    "\n",
    "            for i in range(beam_width):\n",
    "                candidate = (seq + [top_indices[0][i].item()], score * top_probs[0][i].item(), hidden)\n",
    "                all_candidates.append(candidate)\n",
    "\n",
    "        sequences = sorted(all_candidates, key=lambda x: x[1], reverse=True)[:beam_width] # 후보군을 확률값이 높은 순으로 정렬하여 상위 beam_width 개수만 남긴다.\n",
    "        \n",
    "    return sequences[0][0] # 가장 높은 확률을 가진 문장을 반환한다.\n",
    "\n"
   ]
  }
 ],
 "metadata": {
  "kernelspec": {
   "display_name": "pystudy_env",
   "language": "python",
   "name": "python3"
  },
  "language_info": {
   "codemirror_mode": {
    "name": "ipython",
    "version": 3
   },
   "file_extension": ".py",
   "mimetype": "text/x-python",
   "name": "python",
   "nbconvert_exporter": "python",
   "pygments_lexer": "ipython3",
   "version": "3.12.9"
  }
 },
 "nbformat": 4,
 "nbformat_minor": 5
}
