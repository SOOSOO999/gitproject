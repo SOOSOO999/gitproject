{
 "cells": [
  {
   "cell_type": "markdown",
   "id": "0ba4c53c",
   "metadata": {},
   "source": [
    "# Input Feeding 기법"
   ]
  },
  {
   "cell_type": "code",
   "execution_count": 1,
   "id": "58902b5a",
   "metadata": {},
   "outputs": [],
   "source": [
    "import torch\n",
    "import torch.nn as nn"
   ]
  },
  {
   "cell_type": "code",
   "execution_count": 2,
   "id": "8b16c683",
   "metadata": {},
   "outputs": [],
   "source": [
    "class InputFeedingDecoder(nn.Module):\n",
    "    def __init__(self, input_size, hidden_size, output_size):   # output_size = vocab_size\n",
    "        super(InputFeedingDecoder, self).__init__()\n",
    "        self.hidden_size = hidden_size\n",
    "        self.embedding = nn.Embedding(output_size, input_size)\n",
    "        self.lstm = nn.LSTM(input_size + hidden_size, hidden_size)\n",
    "        self.fc = nn.Linear(hidden_size, output_size)\n",
    "\n",
    "    def forward(self, input, hidden, context):\n",
    "        embedded = self.embedding(input).unsqueeze(0)  # (1, batch_size, input_size)\n",
    "        lstm_input = torch.cat((embedded, context.unsqueeze(0)), dim=2)  # (1, batch_size, input_size + hidden_size)\n",
    "        output, hidden = self.lstm(lstm_input, hidden)  # output: (1, batch_size, hidden_size), hidden: (1, batch_size, hidden_size)\n",
    "        output = self.fc(output.squeeze(0))  # (batch_size, output_size)\n",
    "        return output, hidden"
   ]
  },
  {
   "cell_type": "code",
   "execution_count": 3,
   "id": "8ece32c9",
   "metadata": {},
   "outputs": [
    {
     "data": {
      "text/plain": [
       "(torch.Size([1, 30]), torch.Size([1, 1, 20]))"
      ]
     },
     "execution_count": 3,
     "metadata": {},
     "output_type": "execute_result"
    }
   ],
   "source": [
    "decoder = InputFeedingDecoder(input_size=10, hidden_size=20, output_size=30)\n",
    "hidden = (torch.zeros(1, 1, 20), torch.zeros(1, 1, 20))  # (num_layers, batch_size, hidden_size)\n",
    "context = torch.zeros(1, 20)    \n",
    "input_token = torch.tensor([5]) # Example input token (index in the vocabulary) / 입력값\n",
    "\n",
    "output, hidden = decoder(input_token, hidden, context)\n",
    "output.shape, hidden[0].shape\n"
   ]
  }
 ],
 "metadata": {
  "kernelspec": {
   "display_name": "pystudy_env",
   "language": "python",
   "name": "python3"
  },
  "language_info": {
   "codemirror_mode": {
    "name": "ipython",
    "version": 3
   },
   "file_extension": ".py",
   "mimetype": "text/x-python",
   "name": "python",
   "nbconvert_exporter": "python",
   "pygments_lexer": "ipython3",
   "version": "3.12.9"
  }
 },
 "nbformat": 4,
 "nbformat_minor": 5
}
