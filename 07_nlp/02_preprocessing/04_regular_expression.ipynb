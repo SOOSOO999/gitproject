{
 "cells": [
  {
   "cell_type": "markdown",
   "metadata": {},
   "source": [
    "# 정규표현식 (Regular Expression)"
   ]
  },
  {
   "cell_type": "markdown",
   "metadata": {},
   "source": [
    "- 특정한 규칙을 가진 문자열을 찾기 위한 패턴\n",
    "- 정규 표현식을 사용하면 대량의 텍스트 데이터에서 특정 패턴을 효율적으로 추출, 삭제, 대체 가능 "
   ]
  },
  {
   "cell_type": "code",
   "execution_count": 1,
   "metadata": {},
   "outputs": [],
   "source": [
    "import re"
   ]
  },
  {
   "cell_type": "markdown",
   "metadata": {},
   "source": [
    "### Syntax\n",
    "\n",
    "**정규 표현식 기본 문법**\n",
    "\n",
    "| 특수 문자 | 설명 | 예시 |\n",
    "|---|---|---|\n",
    "| . | 임의의 한 문자 | `a.c` : `abc`, `a1c` 등과 매치 |\n",
    "| ? | 앞 문자가 0개 또는 1개 있을 때 매치 | `ab?c` : `abc`, `ac`와 매치 |\n",
    "| * | 앞 문자가 0개 이상 있을 때 매치 | `ab*c` : `ac`, `abc`, `abbc` |\n",
    "| + | 앞 문자가 1개 이상 있을 때 매치 | `ab+c` : `abc`, `abbc` |\n",
    "| ^ | 문자열이 특정 문자로 시작할 때 매치 | `^abc` : `abcde`, `abc`와 매치 |\n",
    "| $ | 문자열이 특정 문자로 끝날 때 매치 | `abc$` : `deabc`, `abc`와 매치 |\n",
    "| {n} | 문자가 정확히 n번 반복될 때 매치 | `a{2}b` : `aab`와 매치 |\n",
    "| {n,m} | 문자가 n번 이상 m번 이하 반복될 때 매치 | `a{2,4}b` : `aab`, `aaab`, `aaaab` |\n",
    "| [ ] | 대괄호 안의 문자 중 하나와 매치 | `[abc]` : `a`, `b`, `c` |\n",
    "| [^ ] | 대괄호 안의 문자 제외하고 매치 | `[^abc]` : `d`, `e`, `1` |\n",
    "| \\| | OR 연산자로 둘 중 하나와 매치 | `a\\|b` : `a` 또는 `b` |\n"
   ]
  },
  {
   "cell_type": "markdown",
   "metadata": {},
   "source": [
    "##### 임의의 한 글자 . "
   ]
  },
  {
   "cell_type": "code",
   "execution_count": null,
   "metadata": {},
   "outputs": [
    {
     "name": "stdout",
     "output_type": "stream",
     "text": [
      "<re.Match object; span=(0, 3), match='abc'>\n",
      "<re.Match object; span=(11, 14), match='afc'>\n",
      "None\n",
      "<re.Match object; span=(0, 3), match='aXc'>\n",
      "<re.Match object; span=(0, 3), match='a c'>\n",
      "None\n",
      "None\n"
     ]
    }
   ],
   "source": [
    "# 정규표현식 객체 \n",
    "reg_exp = re.compile('a.c')     # 여기서 한 글자는 .을 의미한다 (a와 c 사이에 임의의 한글자가 들어있는 패턴.)\n",
    "# 내가(사람이) 쓴 것을 컴퓨터가 이해할 수 있는 형태로 변환하는 것이 compile \n",
    "print(reg_exp.search('abc'))    # span : 위치를 나타내줌 / span=(0, 3) → 문자열에서 인덱스 0부터 3 이전까지('abc') 일치했다는 의미\n",
    "print(reg_exp.search('aethjawefenafc'))\n",
    "print(reg_exp.search('abbbbbbbbbc'))\n",
    "print(reg_exp.search('aXc'))\n",
    "print(reg_exp.search('a c'))\n",
    "print(reg_exp.search('ac'))\n",
    "print(reg_exp.search('bc'))\n",
    "\n",
    "# search는 하나만 가지고 오고, findall은 매치되는 패턴을 모두 다 가지고 온다. "
   ]
  },
  {
   "cell_type": "markdown",
   "metadata": {},
   "source": [
    "##### 수량자 * : 0개 이상"
   ]
  },
  {
   "cell_type": "code",
   "execution_count": null,
   "metadata": {},
   "outputs": [
    {
     "name": "stdout",
     "output_type": "stream",
     "text": [
      "<re.Match object; span=(0, 2), match='ac'>\n",
      "None\n",
      "<re.Match object; span=(0, 3), match='abc'>\n",
      "None\n",
      "<re.Match object; span=(0, 10), match='abbbbbbbbc'>\n"
     ]
    }
   ],
   "source": [
    "reg_exp = re.compile('ab*c')    # a와 c 사이에 b가 0개 이상 들어가기만 하면 된다. 다만 다른 문자가 들어가는건 안됨 \n",
    "                                # a로 시작 + b가 0개 이상 + c로 끝  (이 조건을 모두 만족해야한다) \n",
    "print(reg_exp.search('ac'))\n",
    "print(reg_exp.search('ab'))\n",
    "print(reg_exp.search('abc'))\n",
    "print(reg_exp.search('adc'))\n",
    "print(reg_exp.search('abbbbbbbbc'))"
   ]
  },
  {
   "cell_type": "markdown",
   "metadata": {},
   "source": [
    "##### 수량자 ? : 0개 또는 1개 "
   ]
  },
  {
   "cell_type": "code",
   "execution_count": null,
   "metadata": {},
   "outputs": [
    {
     "name": "stdout",
     "output_type": "stream",
     "text": [
      "<re.Match object; span=(0, 2), match='ac'>\n",
      "None\n",
      "<re.Match object; span=(0, 3), match='abc'>\n",
      "None\n",
      "None\n"
     ]
    }
   ],
   "source": [
    "reg_exp = re.compile('ab?c')   # a로 시작 + b가 0개 또는 1개 + c로 끝  (이 조건을 모두 만족해야한다)  \n",
    "\n",
    "print(reg_exp.search('ac'))\n",
    "print(reg_exp.search('ab'))\n",
    "print(reg_exp.search('abc'))\n",
    "print(reg_exp.search('adc'))\n",
    "print(reg_exp.search('abbbbbbbbc'))"
   ]
  },
  {
   "cell_type": "markdown",
   "metadata": {},
   "source": [
    "##### 수량자 + : 1개 이상 "
   ]
  },
  {
   "cell_type": "code",
   "execution_count": null,
   "metadata": {},
   "outputs": [
    {
     "name": "stdout",
     "output_type": "stream",
     "text": [
      "None\n",
      "None\n",
      "<re.Match object; span=(0, 3), match='abc'>\n",
      "None\n",
      "<re.Match object; span=(0, 10), match='abbbbbbbbc'>\n"
     ]
    }
   ],
   "source": [
    "reg_exp = re.compile('ab+c')   # a로 시작 + b가 1개 이상 + c로 끝  (이 조건을 모두 만족해야한다)  \n",
    "\n",
    "print(reg_exp.search('ac'))\n",
    "print(reg_exp.search('ab'))\n",
    "print(reg_exp.search('abc'))\n",
    "print(reg_exp.search('adc'))\n",
    "print(reg_exp.search('abbbbbbbbc'))"
   ]
  },
  {
   "cell_type": "markdown",
   "metadata": {},
   "source": [
    "##### 수량자 {n} : 정확히 n개"
   ]
  },
  {
   "cell_type": "code",
   "execution_count": 12,
   "metadata": {},
   "outputs": [
    {
     "name": "stdout",
     "output_type": "stream",
     "text": [
      "None\n",
      "None\n",
      "None\n",
      "<re.Match object; span=(0, 5), match='abbbc'>\n",
      "None\n",
      "None\n"
     ]
    }
   ],
   "source": [
    "reg_exp = re.compile('ab{3}c')   # a로 시작 + b가 n(3)개 + c로 끝  (이 조건을 모두 만족해야한다)  \n",
    "\n",
    "print(reg_exp.search('ac'))\n",
    "print(reg_exp.search('abc'))\n",
    "print(reg_exp.search('abbc'))\n",
    "print(reg_exp.search('abbbc'))\n",
    "print(reg_exp.search('abbbbc'))\n",
    "print(reg_exp.search('abbbbbc'))"
   ]
  },
  {
   "cell_type": "markdown",
   "metadata": {},
   "source": [
    "##### 수량자 {min, max} : min ~ max개"
   ]
  },
  {
   "cell_type": "code",
   "execution_count": null,
   "metadata": {},
   "outputs": [
    {
     "name": "stdout",
     "output_type": "stream",
     "text": [
      "None\n",
      "<re.Match object; span=(0, 3), match='abc'>\n",
      "<re.Match object; span=(0, 4), match='abbc'>\n",
      "<re.Match object; span=(0, 5), match='abbbc'>\n",
      "None\n",
      "None\n"
     ]
    }
   ],
   "source": [
    "reg_exp = re.compile('ab{1,3}c')   # a로 시작 + b가 min(1)개 이상 max(3)개 이하 + c로 끝  / {1,3} 띄어쓰기 X \n",
    "\n",
    "print(reg_exp.search('ac'))\n",
    "print(reg_exp.search('abc'))\n",
    "print(reg_exp.search('abbc'))\n",
    "print(reg_exp.search('abbbc'))\n",
    "print(reg_exp.search('abbbbc'))\n",
    "print(reg_exp.search('abbbbbc'))"
   ]
  },
  {
   "cell_type": "markdown",
   "metadata": {},
   "source": [
    "| 정규식 패턴 | 의미 |\n",
    "|------------|------|\n",
    "| `\\b` | 단어 경계(Word Boundary) |\n",
    "| `\\d` | 숫자(0-9) |\n",
    "| `\\D` | 숫자가 아닌 문자 |\n",
    "| `\\s` | 공백 문자 (스페이스, 탭, 개행 등) |\n",
    "| `\\S` | 공백이 아닌 문자 |\n",
    "| `\\w` | 단어 문자 (알파벳, 숫자, `_`) |\n",
    "| `\\W` | 단어 문자가 아닌 것 (특수 문자 등) |\n",
    "| `.`  | 개행 문자를 제외한 모든 문자 |\n",
    "| `^`  | 문자열의 시작 |\n",
    "| `$`  | 문자열의 끝 |\n",
    "| `*`  | 0회 이상 반복 |\n",
    "| `+`  | 1회 이상 반복 |\n",
    "| `?`  | 0회 또는 1회 존재 |\n",
    "| `{n}` | 정확히 `n`회 반복 |\n",
    "| `{n,}` | `n`회 이상 반복 |\n",
    "| `{n,m}` | `n`회 이상 `m`회 이하 반복 |\n",
    "| `()`  | 그룹화 (서브패턴) |\n",
    "| `|`  | OR 연산자 (예: `cat|dog` → \"cat\" 또는 \"dog\") |\n",
    "| `[]`  | 문자 집합 (예: `[a-z]`, `[0-9]`) |\n",
    "| `[^]` | 부정 문자 집합 (예: `[^a-z]` → 알파벳 소문자가 아닌 문자) |\n"
   ]
  },
  {
   "cell_type": "markdown",
   "metadata": {},
   "source": [
    "##### 정규표현식에 맞는 패턴을 다 찾고 싶다면?"
   ]
  },
  {
   "cell_type": "code",
   "execution_count": null,
   "metadata": {},
   "outputs": [
    {
     "name": "stdout",
     "output_type": "stream",
     "text": [
      "<re.Match object; span=(6, 9), match='abc'>\n",
      "<re.Match object; span=(24, 27), match='abc'>\n"
     ]
    }
   ],
   "source": [
    "reg_exp = re.compile('a.c') # a와 c사이에 한글자 \n",
    "text = 'aiuwbvabcilscjnvpqoejfefabcnawoeifnawof'\n",
    "\n",
    "# reg_exp.search(text) : 하나만 찾음 \n",
    "\n",
    "for temp in re.finditer(reg_exp, text): # finditer : 반복할 수 있는 형태(시퀀스)로 반환  \n",
    "    print(temp)"
   ]
  },
  {
   "cell_type": "markdown",
   "metadata": {},
   "source": [
    "##### 문자 매칭 [] : []안에 있는 것 중 한 글자 "
   ]
  },
  {
   "cell_type": "code",
   "execution_count": null,
   "metadata": {},
   "outputs": [
    {
     "name": "stdout",
     "output_type": "stream",
     "text": [
      "<re.Match object; span=(7, 8), match='a'>\n",
      "<re.Match object; span=(7, 8), match='c'>\n",
      "<re.Match object; span=(7, 8), match='A'>\n"
     ]
    }
   ],
   "source": [
    "reg_exp = re.compile('[abc]', re.IGNORECASE)    # re.IGNORECASE : 대소문자 구분없이  \n",
    "\n",
    "print(reg_exp.search('안녕하세요, abc입니다!'))\n",
    "print(reg_exp.search('안녕하세요, cba입니다!'))\n",
    "print(reg_exp.search('안녕하세요, ABC입니다!'))"
   ]
  },
  {
   "cell_type": "code",
   "execution_count": 24,
   "metadata": {},
   "outputs": [
    {
     "name": "stdout",
     "output_type": "stream",
     "text": [
      "<re.Match object; span=(0, 1), match='3'>\n"
     ]
    }
   ],
   "source": [
    "# reg_exp = re.compile('[abcdefghijklmnopqrstuvwxyz]')\n",
    "reg_exp = re.compile('[a-zA-Z0-9]')\n",
    "\n",
    "print(reg_exp.search('300살 X, 안녕하세요 x!'))"
   ]
  },
  {
   "cell_type": "markdown",
   "metadata": {},
   "source": [
    "##### 시작하는 문자열 ^"
   ]
  },
  {
   "cell_type": "code",
   "execution_count": null,
   "metadata": {},
   "outputs": [
    {
     "name": "stdout",
     "output_type": "stream",
     "text": [
      "<re.Match object; span=(0, 3), match='who'>\n",
      "None\n",
      "['who', 'who']\n",
      "['who']\n",
      "[]\n"
     ]
    }
   ],
   "source": [
    "reg_exp = re.compile('^who')    # (who로 시작하는 문자열을 찾는다)\n",
    "\n",
    "print(reg_exp.search('who is who'))\n",
    "print(reg_exp.search('is who'))\n",
    "\n",
    "print(re.findall('who', 'who is who'))  # findall(찾을 패턴, 찾을 대상)\n",
    "print(re.findall('^who', 'who is who'))\n",
    "print(re.findall('^who', 'is who'))"
   ]
  },
  {
   "cell_type": "markdown",
   "metadata": {},
   "source": [
    "### re 모듈 함수 & re 객체 메소드"
   ]
  },
  {
   "cell_type": "markdown",
   "metadata": {},
   "source": [
    "##### 메소드 search() : 문자열 패턴 검사"
   ]
  },
  {
   "cell_type": "code",
   "execution_count": null,
   "metadata": {},
   "outputs": [
    {
     "name": "stdout",
     "output_type": "stream",
     "text": [
      "<re.Match object; span=(0, 2), match='ab'>\n",
      "None\n",
      "<re.Match object; span=(3, 5), match='ab'>\n"
     ]
    }
   ],
   "source": [
    "reg_exp = re.compile('ab')  # 패턴이기 때문에 'ab'가 포함되기만하면 된다다\n",
    "\n",
    "print(reg_exp.search('abc'))\n",
    "print(reg_exp.search('123'))\n",
    "print(reg_exp.search('123abc'))"
   ]
  },
  {
   "cell_type": "markdown",
   "metadata": {},
   "source": [
    "##### 메소드 match() : 시작하는 문자열 패턴 검사 "
   ]
  },
  {
   "cell_type": "code",
   "execution_count": 30,
   "metadata": {},
   "outputs": [
    {
     "name": "stdout",
     "output_type": "stream",
     "text": [
      "<re.Match object; span=(0, 2), match='ab'>\n",
      "None\n",
      "None\n"
     ]
    }
   ],
   "source": [
    "reg_exp = re.compile('ab')\n",
    "\n",
    "print(reg_exp.match('abc'))\n",
    "print(reg_exp.match('123'))\n",
    "print(reg_exp.match('123abc'))"
   ]
  },
  {
   "cell_type": "markdown",
   "metadata": {},
   "source": [
    "##### 함수 split() : 정규식 패턴으로 분할"
   ]
  },
  {
   "cell_type": "code",
   "execution_count": 37,
   "metadata": {},
   "outputs": [
    {
     "data": {
      "text/plain": [
       "(['Apple ', 'anana ', 'range'],\n",
       " ['Apple Banana Orange'],\n",
       " ['Apple ', 'anana ', 'range'])"
      ]
     },
     "execution_count": 37,
     "metadata": {},
     "output_type": "execute_result"
    }
   ],
   "source": [
    "text = \"Apple Banana Orange\"\n",
    "\n",
    "split_text1 = re.split('[BO]', text) # B와 O를 기준으로 text를 분할 \n",
    "split_text2 = re.split('[bo]', text) \n",
    "split_text3 = re.split('[bo]', text, flags=re.IGNORECASE)\n",
    "split_text1, split_text2, split_text3"
   ]
  },
  {
   "cell_type": "markdown",
   "metadata": {},
   "source": [
    "##### 함수 findall() : 매칭된 결과 모두 반환"
   ]
  },
  {
   "cell_type": "code",
   "execution_count": 39,
   "metadata": {},
   "outputs": [
    {
     "data": {
      "text/plain": [
       "(['0', '1', '0', '1', '2', '3', '4', '5', '6', '7', '8'],\n",
       " ['010', '1234', '5678'],\n",
       " ['010-1234-5678'])"
      ]
     },
     "execution_count": 39,
     "metadata": {},
     "output_type": "execute_result"
    }
   ],
   "source": [
    "text = \"제 전화번호는 010-1234-5678 입니다.\"\n",
    "\n",
    "nums1 = re.findall('[0-9]', text)\n",
    "nums2 = re.findall('[0-9]+', text)\n",
    "nums3 = re.findall('[0-9]+-[0-9]+-[0-9]+', text)\n",
    "nums1, nums2, nums3"
   ]
  },
  {
   "cell_type": "markdown",
   "metadata": {},
   "source": [
    "##### 함수 sub() : 문자열 대체"
   ]
  },
  {
   "cell_type": "code",
   "execution_count": null,
   "metadata": {},
   "outputs": [
    {
     "data": {
      "text/plain": [
       "(',!🤖🤖🤖',\n",
       " 'Hello everyone Welcome to NLP',\n",
       " 'Hello👍 everyone👍 Welcome to NLP👍👍👍')"
      ]
     },
     "execution_count": 43,
     "metadata": {},
     "output_type": "execute_result"
    }
   ],
   "source": [
    "text = \"Hello, everyone! Welcome to NLP🤖🤖🤖\"\n",
    "\n",
    "sub_text1 = re.sub('[a-zA-Z ]', '', text)       # [XX ] : XX패턴인 것에 대해 매칭 / 매칭된 것을 '' 즉, 공백으로 대체\n",
    "sub_text2 = re.sub('[^a-zA-Z ]', '', text)      # [^XX ] : XX패턴이 아닌 것에 대해 매칭, 즉 알파벳과 공백이 아닌 것에 대해 매칭 / 매칭된 것은 '' 즉, 공백으로 대체 \n",
    "sub_text3 = re.sub('[^a-zA-Z ]', '👍', text)    # 매칭된 것을 👍로 대체 \n",
    "sub_text1, sub_text2, sub_text3"
   ]
  },
  {
   "cell_type": "markdown",
   "metadata": {},
   "source": [
    "### 정규표현식 토큰화 "
   ]
  },
  {
   "cell_type": "code",
   "execution_count": null,
   "metadata": {},
   "outputs": [
    {
     "data": {
      "text/plain": [
       "['He',\n",
       " 's',\n",
       " 'a',\n",
       " 'runner',\n",
       " 'but',\n",
       " 'not',\n",
       " 'a',\n",
       " 'long_distance',\n",
       " 'runner',\n",
       " 'His',\n",
       " 'number',\n",
       " 'is',\n",
       " '1234']"
      ]
     },
     "execution_count": 48,
     "metadata": {},
     "output_type": "execute_result"
    }
   ],
   "source": [
    "from nltk.tokenize import RegexpTokenizer\n",
    "\n",
    "text = \"He's a runner, but not a long_distance runner. His number is 1234.\"\n",
    "\n",
    "# tokenizer = RegexpTokenizer('[a-zA-Z0-9_]+')\n",
    "tokenizer = RegexpTokenizer(r'\\w+') # \\w = 영문자, 숫자, _를 허용. 따라서 위의 것과 같은 결과를 출력한다 \n",
    "tokens = tokenizer.tokenize(text)\n",
    "tokens"
   ]
  }
 ],
 "metadata": {
  "kernelspec": {
   "display_name": "pystudy_env",
   "language": "python",
   "name": "python3"
  },
  "language_info": {
   "codemirror_mode": {
    "name": "ipython",
    "version": 3
   },
   "file_extension": ".py",
   "mimetype": "text/x-python",
   "name": "python",
   "nbconvert_exporter": "python",
   "pygments_lexer": "ipython3",
   "version": "3.12.9"
  }
 },
 "nbformat": 4,
 "nbformat_minor": 2
}
