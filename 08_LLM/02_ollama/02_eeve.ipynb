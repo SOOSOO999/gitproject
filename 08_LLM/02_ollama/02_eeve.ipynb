{
 "cells": [
  {
   "cell_type": "markdown",
   "id": "7fc889ac-590d-4d38-a56c-6c676536f350",
   "metadata": {},
   "source": [
    "# EEVE-Korean-10.8b 모델 사용 (한국어 특화)"
   ]
  },
  {
   "cell_type": "code",
   "execution_count": 1,
   "id": "c0950062-6201-4a02-bba9-6f9deffca666",
   "metadata": {},
   "outputs": [],
   "source": [
    "import ollama\n",
    "\n",
    "response = ollama.chat(\n",
    "    model=\"EEVE-Korean-10.8B\", \n",
    "    messages=[\n",
    "        {\"role\":\"user\", \"content\":\"안녕하세요. 좋은 저녁입니다!\"}\n",
    "    ]\n",
    ")  # generate와 응용되는 범위 정도에서 차이가 있다.  generate는 단일 프롬프트에 대한 질의에 사용\n",
    "   # chat: 지속적인 대화, 즉 이전 대화를 기억하고 문맥을 이어나갈 수 있게 하려면 chat 사용"
   ]
  },
  {
   "cell_type": "code",
   "execution_count": 2,
   "id": "58f9aed8-e712-4c53-9b91-fb36afd2668d",
   "metadata": {},
   "outputs": [
    {
     "data": {
      "text/plain": [
       "ChatResponse(model='EEVE-Korean-10.8B', created_at='2025-04-17T08:32:21.512869258Z', done=True, done_reason='stop', total_duration=766302009, load_duration=22303049, prompt_eval_count=55, prompt_eval_duration=45133214, eval_count=39, eval_duration=697039148, message=Message(role='assistant', content='안녕하세요! 좋은 저녁 되세요! 도와드릴 일이 있으신가요? 궁금한 점이 있거나 해결하고자 하는 문제가 있다면 언제든지 알려주세요. 정확하고 유용한 정보를 제공하기 위해 최선을 다하겠습니다.', images=None, tool_calls=None))"
      ]
     },
     "execution_count": 2,
     "metadata": {},
     "output_type": "execute_result"
    }
   ],
   "source": [
    "response"
   ]
  },
  {
   "cell_type": "code",
   "execution_count": 4,
   "id": "f9ea0b3a-5b7f-4019-acea-02d66d7db1d9",
   "metadata": {},
   "outputs": [
    {
     "data": {
      "text/plain": [
       "'안녕하세요! 좋은 저녁 되세요! 도와드릴 일이 있으신가요? 궁금한 점이 있거나 해결하고자 하는 문제가 있다면 언제든지 알려주세요. 정확하고 유용한 정보를 제공하기 위해 최선을 다하겠습니다.'"
      ]
     },
     "execution_count": 4,
     "metadata": {},
     "output_type": "execute_result"
    }
   ],
   "source": [
    "response['message']['content']"
   ]
  },
  {
   "cell_type": "markdown",
   "id": "fb4c290d-d3d0-4f94-8625-e2ee7312bd55",
   "metadata": {},
   "source": [
    "### 간단한 한국어 채팅 시스템 구현\n",
    "\n",
    "- 사용자 입력 input() 사용\n",
    "- 응답 print()로 출력\n",
    "- 이전 대화의 문맥을 반영하며 채팅 이어갈 것\n",
    "- '종료' 입력 시 대화 종료"
   ]
  },
  {
   "cell_type": "code",
   "execution_count": 8,
   "id": "c504239a-cc2e-4074-b0ee-b215a5620a8c",
   "metadata": {},
   "outputs": [
    {
     "name": "stdin",
     "output_type": "stream",
     "text": [
      " 안녕\n"
     ]
    },
    {
     "name": "stdout",
     "output_type": "stream",
     "text": [
      ">>>물론이죠, 도움이 되고 존중하는 조수로서 여러분을 위해 여기 있습니다. 무엇을 도와드릴까요? 궁금한 점이나 해결하고 싶은 문제를 알려주세요. 저는 정확하고 유용한 정보를 제공하기 위해 노력하며, 안전하고 사회적으로 편견 없는 방식으로 답변을 드리려고 최선을 다하겠습니다. 답변이 확실하지 않거나 잘못된 정보일 경우 알려드리며, 다른 관점이나 자료를 찾아보도록 안내해 드리겠습니다. 항상 여러분의 질문에 관심을 가지고 존중하는 태도로 최선을 다해 답하려고 합니다. 또한 제가 제공할 수 있는 정보와 제 능력의 한계를 명확히 해드릴게요. 함께 의미 있고 유익한 대화를 나누기를 기대합니다!\n",
      "\n"
     ]
    },
    {
     "name": "stdin",
     "output_type": "stream",
     "text": [
      " 짧게 대화좀\n"
     ]
    },
    {
     "name": "stdout",
     "output_type": "stream",
     "text": [
      ">>>당신의 친절한 말씀에 감사드립니다! 저는 여러분을 도와드리기 위해 여기 있습니다. 궁금한 점이나 해결하고 싶은 문제가 있다면 언제든지 물어보세요. 정확하고 유용한 정보를 제공하기 위해 최선을 다하며, 사회적 편견 없이 존중하는 태도를 유지하려고 노력하겠습니다. 제 답변이 확실하지 않거나 잘못된 정보일 경우 알려드릴게요. 다른 관점을 제시하거나 자료를 찾아보도록 안내해 드릴 수도 있습니다. 항상 여러분의 질문에 관심을 가지고 도움을 드리기 위해 최선을 다할 것이며, 제가 제공할 수 있는 정보와 제 능력 한계를 분명하게 해드리겠습니다. 함께 의미 있고 유익한 대화를 나누는 것을 기대합니다!\n",
      "\n"
     ]
    },
    {
     "name": "stdin",
     "output_type": "stream",
     "text": [
      " 종료\n"
     ]
    }
   ],
   "source": [
    "import ollama\n",
    "\n",
    "while True:\n",
    "    prompt = input()\n",
    "    if prompt == '종료':\n",
    "        break\n",
    "\n",
    "    response = ollama.chat(\n",
    "    model=\"EEVE-Korean-10.8B\", \n",
    "    messages=[\n",
    "        {\"role\":\"user\", \"content\":\"안녕하세요. 좋은 저녁입니다!\"}\n",
    "        ]\n",
    "    )\n",
    "    \n",
    "    print(\">>>\" + response['message']['content'] + \"\\n\")\n"
   ]
  }
 ],
 "metadata": {
  "kernelspec": {
   "display_name": "Python 3 (ipykernel)",
   "language": "python",
   "name": "python3"
  },
  "language_info": {
   "codemirror_mode": {
    "name": "ipython",
    "version": 3
   },
   "file_extension": ".py",
   "mimetype": "text/x-python",
   "name": "python",
   "nbconvert_exporter": "python",
   "pygments_lexer": "ipython3",
   "version": "3.10.12"
  }
 },
 "nbformat": 4,
 "nbformat_minor": 5
}
