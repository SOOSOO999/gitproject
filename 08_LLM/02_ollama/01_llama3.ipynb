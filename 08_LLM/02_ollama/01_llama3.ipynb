{
 "cells": [
  {
   "cell_type": "markdown",
   "id": "7b0d0a61",
   "metadata": {},
   "source": [
    "# Ollama를 이용한 LLaMA3 모델 사용"
   ]
  },
  {
   "cell_type": "code",
   "execution_count": 9,
   "id": "adffe4a8",
   "metadata": {},
   "outputs": [
    {
     "name": "stdout",
     "output_type": "stream",
     "text": [
      "Requirement already satisfied: ollama in /usr/local/lib/python3.10/dist-packages (0.4.8)\n",
      "Requirement already satisfied: httpx<0.29,>=0.27 in /usr/local/lib/python3.10/dist-packages (from ollama) (0.28.1)\n",
      "Requirement already satisfied: pydantic<3.0.0,>=2.9.0 in /usr/local/lib/python3.10/dist-packages (from ollama) (2.11.3)\n",
      "Requirement already satisfied: anyio in /usr/local/lib/python3.10/dist-packages (from httpx<0.29,>=0.27->ollama) (4.0.0)\n",
      "Requirement already satisfied: certifi in /usr/local/lib/python3.10/dist-packages (from httpx<0.29,>=0.27->ollama) (2022.12.7)\n",
      "Requirement already satisfied: httpcore==1.* in /usr/local/lib/python3.10/dist-packages (from httpx<0.29,>=0.27->ollama) (1.0.8)\n",
      "Requirement already satisfied: idna in /usr/local/lib/python3.10/dist-packages (from httpx<0.29,>=0.27->ollama) (3.4)\n",
      "Requirement already satisfied: h11<0.15,>=0.13 in /usr/local/lib/python3.10/dist-packages (from httpcore==1.*->httpx<0.29,>=0.27->ollama) (0.14.0)\n",
      "Requirement already satisfied: annotated-types>=0.6.0 in /usr/local/lib/python3.10/dist-packages (from pydantic<3.0.0,>=2.9.0->ollama) (0.7.0)\n",
      "Requirement already satisfied: pydantic-core==2.33.1 in /usr/local/lib/python3.10/dist-packages (from pydantic<3.0.0,>=2.9.0->ollama) (2.33.1)\n",
      "Requirement already satisfied: typing-extensions>=4.12.2 in /usr/local/lib/python3.10/dist-packages (from pydantic<3.0.0,>=2.9.0->ollama) (4.13.2)\n",
      "Requirement already satisfied: typing-inspection>=0.4.0 in /usr/local/lib/python3.10/dist-packages (from pydantic<3.0.0,>=2.9.0->ollama) (0.4.0)\n",
      "Requirement already satisfied: sniffio>=1.1 in /usr/local/lib/python3.10/dist-packages (from anyio->httpx<0.29,>=0.27->ollama) (1.3.0)\n",
      "Requirement already satisfied: exceptiongroup>=1.0.2 in /usr/local/lib/python3.10/dist-packages (from anyio->httpx<0.29,>=0.27->ollama) (1.1.3)\n",
      "\u001b[33mWARNING: Running pip as the 'root' user can result in broken permissions and conflicting behaviour with the system package manager. It is recommended to use a virtual environment instead: https://pip.pypa.io/warnings/venv\u001b[0m\u001b[33m\n",
      "\u001b[0m\n",
      "\u001b[1m[\u001b[0m\u001b[34;49mnotice\u001b[0m\u001b[1;39;49m]\u001b[0m\u001b[39;49m A new release of pip is available: \u001b[0m\u001b[31;49m23.3.1\u001b[0m\u001b[39;49m -> \u001b[0m\u001b[32;49m25.0.1\u001b[0m\n",
      "\u001b[1m[\u001b[0m\u001b[34;49mnotice\u001b[0m\u001b[1;39;49m]\u001b[0m\u001b[39;49m To update, run: \u001b[0m\u001b[32;49mpython -m pip install --upgrade pip\u001b[0m\n"
     ]
    }
   ],
   "source": [
    "!pip install ollama"
   ]
  },
  {
   "cell_type": "markdown",
   "id": "6d714f78",
   "metadata": {},
   "source": [
    "### 1. 간단한 질의"
   ]
  },
  {
   "cell_type": "code",
   "execution_count": 10,
   "id": "6ce2f134",
   "metadata": {},
   "outputs": [
    {
     "data": {
      "text/plain": [
       "GenerateResponse(model='llama3', created_at='2025-04-17T07:06:08.91620255Z', done=True, done_reason='stop', total_duration=4185547659, load_duration=2192090926, prompt_eval_count=29, prompt_eval_duration=166301708, eval_count=168, eval_duration=1825771717, response='안녕하세요! 😊\\n\\nAI(Artificial Intelligence)는 인공 지능을 의미합니다. 컴퓨터가 인간처럼 생각하고 행동하는 것을 목표로 하는 기술입니다.\\n\\nAI는 머신 러닝(Machine Learning), 딥 러닝(Deep Learning) 등 다양한 알고리즘과 데이터 분석 등을 통해 발전하고 있습니다.\\n\\n현재 AI는 다음과 같은 분야에서 활용되고 있습니다.\\n\\n* 자연 언어 처리(NLP): 문장 이해, 대화 possível\\n*computer vision: 이미지 인식, 객체识別\\n* 로보틱스(Robotics): 로봇 제어, 자동화\\n* 추천 시스템: 사용자 선호도 예측\\n\\nAI는 다양한 산업과 생활에서 도움이 되고 있으며, 향후에도 further 개발을 기대할 것입니다! 🚀', context=[128006, 882, 128007, 271, 101193, 116024, 13, 15592, 18918, 104008, 32179, 17835, 49011, 100, 35495, 105131, 89881, 102893, 114942, 34983, 59269, 246, 13, 128009, 128006, 78191, 128007, 271, 101193, 124409, 0, 27623, 232, 271, 15836, 83584, 16895, 22107, 114484, 59777, 79225, 67890, 67119, 18359, 117460, 61938, 13, 118209, 126692, 20565, 118623, 107335, 103894, 101360, 127224, 44005, 107387, 103504, 102260, 17835, 105365, 113094, 80052, 382, 15836, 16969, 107802, 83628, 116849, 117254, 3269, 3899, 21579, 705, 77597, 98, 116849, 117254, 7, 34564, 21579, 8, 78102, 118696, 115877, 29102, 117354, 54780, 55348, 109862, 120908, 110155, 97096, 66965, 101360, 103924, 382, 35859, 80979, 15592, 16969, 121686, 105718, 127290, 57575, 120952, 116039, 103924, 382, 9, 124110, 116918, 82158, 8368, 12852, 1680, 54535, 41953, 117210, 11, 62060, 57390, 64281, 198, 9, 44211, 11376, 25, 127501, 59777, 77437, 11, 76332, 105388, 103283, 198, 9, 72115, 42771, 125567, 25941, 2855, 45739, 1233, 1680, 72115, 103850, 229, 63171, 32179, 11, 114153, 57390, 198, 9, 109336, 117022, 25, 41820, 26799, 101585, 48424, 49085, 96717, 115394, 271, 15836, 16969, 118696, 124763, 54780, 120376, 57575, 101703, 38389, 103618, 98243, 35495, 117097, 11, 110578, 102252, 109018, 4726, 111426, 18359, 55216, 67945, 48936, 123263, 0, 11410, 248, 222])"
      ]
     },
     "execution_count": 10,
     "metadata": {},
     "output_type": "execute_result"
    }
   ],
   "source": [
    "import ollama\n",
    "\n",
    "# prompt = \"Explain AI in simple term\"\n",
    "prompt = \"안녕. AI를 한국어로 짧고 간결하게 설명해줘.\"\n",
    "response = ollama.generate(model='llama3', prompt=prompt)\n",
    "\n",
    "response"
   ]
  },
  {
   "cell_type": "code",
   "execution_count": 11,
   "id": "e51b7d74",
   "metadata": {},
   "outputs": [
    {
     "data": {
      "text/plain": [
       "'안녕하세요! 😊\\n\\nAI(Artificial Intelligence)는 인공 지능을 의미합니다. 컴퓨터가 인간처럼 생각하고 행동하는 것을 목표로 하는 기술입니다.\\n\\nAI는 머신 러닝(Machine Learning), 딥 러닝(Deep Learning) 등 다양한 알고리즘과 데이터 분석 등을 통해 발전하고 있습니다.\\n\\n현재 AI는 다음과 같은 분야에서 활용되고 있습니다.\\n\\n* 자연 언어 처리(NLP): 문장 이해, 대화 possível\\n*computer vision: 이미지 인식, 객체识別\\n* 로보틱스(Robotics): 로봇 제어, 자동화\\n* 추천 시스템: 사용자 선호도 예측\\n\\nAI는 다양한 산업과 생활에서 도움이 되고 있으며, 향후에도 further 개발을 기대할 것입니다! 🚀'"
      ]
     },
     "execution_count": 11,
     "metadata": {},
     "output_type": "execute_result"
    }
   ],
   "source": [
    "response['response']"
   ]
  },
  {
   "cell_type": "markdown",
   "id": "61f57f23",
   "metadata": {},
   "source": [
    "### 2. 입력 프롬프트에 따른 출력 변화"
   ]
  },
  {
   "cell_type": "code",
   "execution_count": 12,
   "id": "f2593799",
   "metadata": {},
   "outputs": [
    {
     "name": "stdout",
     "output_type": "stream",
     "text": [
      "[ Explain AI in simple terms. ]\n",
      "Artificial Intelligence (AI) is like a super smart computer program that can think and learn like humans do.\n",
      "\n",
      "Imagine you're playing chess with a friend, and they're really good at making moves that make sense. An AI program works similarly, but instead of making chess moves, it makes decisions based on information it's been trained on.\n",
      "\n",
      "Here are some simple ways to understand AI:\n",
      "\n",
      "1. **Learning from data**: AI programs learn by looking at lots of examples or \"data\" and finding patterns. Just like how you might learn to recognize a friend's face after seeing many pictures of them.\n",
      "2. **Making decisions**: AI can make choices based on what it's learned, just like your friend would make chess moves. It's not just following rules, but using its knowledge to decide what to do next.\n",
      "3. **Improving over time**: The more data an AI program sees, the better it gets at making decisions. It's like practicing a skill and getting more accurate with each try.\n",
      "4. **Not being human (yet!)**: AI isn't conscious or self-aware like humans are. It doesn't have feelings, emotions, or opinions. It just does its job based on its programming and data.\n",
      "\n",
      "Examples of AI in action:\n",
      "\n",
      "* Virtual assistants like Siri, Alexa, or Google Assistant can understand voice commands and answer questions.\n",
      "* Self-driving cars use AI to analyze roads, recognize objects, and make decisions about where to go.\n",
      "* Online recommendation systems (like those on Netflix or Amazon) suggest products based on your viewing or purchasing history.\n",
      "\n",
      "AI is all around us, making our lives easier, more efficient, and often quite impressive!\n",
      "====================================================================================================\n",
      "[ What is artificial intelligence? ]\n",
      "Artificial intelligence (AI) refers to the development of computer systems that can perform tasks that would typically require human intelligence, such as:\n",
      "\n",
      "1. Learning: AI systems can learn from data and improve their performance over time.\n",
      "2. Reasoning: AI systems can use logic and rules to draw conclusions and make decisions.\n",
      "3. Problem-solving: AI systems can identify problems and develop solutions.\n",
      "4. Perception: AI systems can interpret and understand sensory data, such as images, speech, and text.\n",
      "\n",
      "AI involves a range of techniques, including:\n",
      "\n",
      "1. Machine learning (ML): A subset of AI that enables machines to learn from data without being explicitly programmed.\n",
      "2. Deep learning (DL): A type of ML that uses neural networks to analyze data.\n",
      "3. Natural language processing (NLP): The ability of computers to understand, interpret, and generate human-like text.\n",
      "4. Computer vision: The ability of computers to interpret and understand visual information from images or videos.\n",
      "\n",
      "AI has many applications across industries, including:\n",
      "\n",
      "1. Healthcare: AI can help diagnose diseases, analyze medical images, and develop personalized treatment plans.\n",
      "2. Finance: AI can assist with risk analysis, portfolio management, and customer service.\n",
      "3. Retail: AI can help optimize inventory, predict demand, and personalize customer experiences.\n",
      "4. Transportation: AI can improve traffic flow, route planning, and autonomous driving.\n",
      "\n",
      "The types of AI include:\n",
      "\n",
      "1. Narrow or weak AI: Designed to perform a specific task, such as facial recognition or language translation.\n",
      "2. General or strong AI: Able to perform any intellectual task that a human can.\n",
      "3. Superintelligence: Far surpassing human intelligence in terms of reasoning, problem-solving, and learning.\n",
      "\n",
      "Some examples of AI in action include:\n",
      "\n",
      "1. Virtual assistants like Siri, Alexa, and Google Assistant.\n",
      "2. Chatbots for customer service and support.\n",
      "3. Self-driving cars and drones.\n",
      "4. Personalized product recommendations based on user behavior.\n",
      "5. Predictive maintenance for machines and equipment.\n",
      "\n",
      "Overall, artificial intelligence has the potential to revolutionize many aspects of our lives by automating tasks, improving efficiency, and enhancing decision-making capabilities.\n",
      "====================================================================================================\n",
      "[ Can you describe how AI works? ]\n",
      "Artificial Intelligence (AI) is a broad field that encompasses various techniques and approaches to create machines that can perform tasks that typically require human intelligence, such as:\n",
      "\n",
      "1. **Learning**: AI systems can learn from data, improve their performance over time, and adapt to new situations.\n",
      "2. **Reasoning**: AI systems can draw conclusions based on the information they have been trained on and make decisions accordingly.\n",
      "3. **Perception**: AI systems can interpret and understand data from various sources, such as images, speech, or text.\n",
      "\n",
      "To achieve these abilities, AI systems typically rely on a combination of algorithms, software, and hardware components. Here's a simplified overview of how AI works:\n",
      "\n",
      "**Machine Learning (ML) Algorithms**\n",
      "\n",
      "Most AI systems are based on machine learning (ML) algorithms, which enable the system to learn from data without being explicitly programmed. There are several types of ML algorithms, including:\n",
      "\n",
      "1. **Supervised Learning**: The algorithm learns from labeled data, where the correct output is already known.\n",
      "2. **Unsupervised Learning**: The algorithm finds patterns and relationships in unlabeled data.\n",
      "3. **Reinforcement Learning**: The algorithm learns by interacting with an environment and receiving feedback in the form of rewards or penalties.\n",
      "\n",
      "**Key Components**\n",
      "\n",
      "1. **Data**: AI systems need large amounts of high-quality data to learn from. This data can be structured (e.g., databases) or unstructured (e.g., images, text).\n",
      "2. **Model**: The AI system's underlying architecture, which defines how the data is processed and learned. Examples include neural networks, decision trees, and support vector machines.\n",
      "3. **Training**: The process of feeding the model with data to learn from. This can be done using various techniques, such as gradient descent or stochastic gradient descent.\n",
      "4. **Inference**: The process of applying the learned knowledge to make predictions or take decisions.\n",
      "\n",
      "**Neural Networks**\n",
      "\n",
      "Many AI systems rely on neural networks, a type of ML algorithm inspired by the human brain. Neural networks consist of layers of interconnected nodes (neurons) that process and transmit information. There are two primary types:\n",
      "\n",
      "1. **Feedforward Networks**: Information flows only in one direction, from input to output.\n",
      "2. **Recurrent Networks**: Information can flow in both directions, allowing for feedback loops.\n",
      "\n",
      "**Other AI Technologies**\n",
      "\n",
      "1. **Rule-Based Systems**: AI systems based on pre-defined rules and logical operations.\n",
      "2. **Expert Systems**: AI systems that mimic the decision-making abilities of a human expert in a specific domain.\n",
      "3. **Natural Language Processing (NLP)**: AI systems designed to understand, generate, and process human language.\n",
      "\n",
      "**Challenges and Limitations**\n",
      "\n",
      "1. **Explainability**: AI systems can be difficult to interpret and explain their decisions.\n",
      "2. **Fairness**: AI systems may perpetuate biases in the data they were trained on.\n",
      "3. **Robustness**: AI systems may not perform well when faced with unexpected or noisy data.\n",
      "\n",
      "This is a high-level overview of how AI works, but I hope it gives you a good starting point for understanding this fascinating field!\n",
      "====================================================================================================\n",
      "[ Give me a short introduction to artificial intelligence. ]\n",
      "Artificial Intelligence (AI) refers to the development of computer systems that can perform tasks that would typically require human intelligence, such as learning, problem-solving, decision-making, and perception. AI systems are designed to mimic human thought processes and behaviors, but operate on a much larger scale and at incredibly fast speeds.\n",
      "\n",
      "The term \"Artificial Intelligence\" was coined in the 1950s by computer scientist John McCarthy, who defined it as \"the science and engineering of making intelligent machines.\" Since then, AI has evolved significantly, driven by advances in computing power, data storage, and machine learning algorithms.\n",
      "\n",
      "There are many types of AI, including:\n",
      "\n",
      "1. **Machine Learning (ML)**: AI systems that can learn from data without being explicitly programmed.\n",
      "2. **Deep Learning (DL)**: A type of ML that uses neural networks to analyze complex data patterns.\n",
      "3. **Natural Language Processing (NLP)**: AI systems that can understand and generate human language, such as speech recognition and text summarization.\n",
      "4. **Computer Vision**: AI systems that can interpret and understand visual data from images and videos.\n",
      "\n",
      "AI has numerous applications across industries, including:\n",
      "\n",
      "1. **Healthcare**: AI-powered medical diagnosis, treatment planning, and patient monitoring.\n",
      "2. **Finance**: AI-driven investment analysis, risk management, and customer service chatbots.\n",
      "3. **Manufacturing**: AI-optimized supply chain management, quality control, and predictive maintenance.\n",
      "4. **Transportation**: AI-controlled autonomous vehicles, route optimization, and traffic management.\n",
      "\n",
      "The potential benefits of AI include:\n",
      "\n",
      "1. **Increased efficiency**: Automating repetitive tasks and processes.\n",
      "2. **Improved accuracy**: Reducing errors and biases in decision-making.\n",
      "3. **New insights**: Analyzing large datasets to uncover hidden patterns and trends.\n",
      "4. **Enhanced customer experience**: Personalized services and tailored recommendations.\n",
      "\n",
      "As AI continues to evolve, it's likely to transform many aspects of our lives, from education to entertainment.\n",
      "====================================================================================================\n"
     ]
    }
   ],
   "source": [
    "prompts = [\n",
    "    \"Explain AI in simple terms.\",\n",
    "    \"What is artificial intelligence?\",\n",
    "    \"Can you describe how AI works?\",\n",
    "    \"Give me a short introduction to artificial intelligence.\"\n",
    "]\n",
    "\n",
    "for prompt in prompts:\n",
    "    response = ollama.generate(model='llama3', prompt=prompt)\n",
    "    print(\"[\", prompt, \"]\")\n",
    "    print(response['response'])\n",
    "    print(\"=\" * 100)"
   ]
  },
  {
   "cell_type": "markdown",
   "id": "546d4de8",
   "metadata": {},
   "source": [
    "### 3. 파라미터 조절"
   ]
  },
  {
   "cell_type": "code",
   "execution_count": 33,
   "id": "6836342c",
   "metadata": {},
   "outputs": [],
   "source": [
    "import ollama\n",
    "import time\n",
    "\n",
    "def generate_text_with_params(prompt, max_length=50, temperature=0.7, top_p=1):\n",
    "    print(f\"[Prompt: {prompt} | max_length({max_length}), temperature({temperature}), top_p({top_p})]\")\n",
    "    \n",
    "    start_time = time.time()\n",
    "    response = ollama.generate(\n",
    "        model=\"llama3\",\n",
    "        prompt=prompt,\n",
    "        options={\n",
    "            \"max_length\": max_length,\n",
    "            \"temperature\": temperature,\n",
    "            \"top_p\": top_p\n",
    "        }\n",
    "    )\n",
    "    end_time = time.time()\n",
    "    print(response['response'])\n",
    "    print(end_time - start_time)"
   ]
  },
  {
   "cell_type": "code",
   "execution_count": 34,
   "id": "6047c75b",
   "metadata": {},
   "outputs": [
    {
     "name": "stdout",
     "output_type": "stream",
     "text": [
      "[Prompt: 오늘 저녁 메뉴 추천해줘 | max_length(20), temperature(0.3), top_p(1)]\n",
      "2.3182625770568848\n",
      "I'd be happy to recommend a dinner menu for you today! 🍴 Here are a few options:\n",
      "\n",
      "**Option 1: Classic Comfort Food**\n",
      "\n",
      "* Grilled chicken breast with roasted vegetables (carrots, broccoli, and potatoes)\n",
      "* Creamy mashed potatoes\n",
      "* Garlic bread\n",
      "\n",
      "**Option 2: International Flair**\n",
      "\n",
      "* Korean-style BBQ beef with rice and kimchi\n",
      "* Steamed edamame\n",
      "* Spicy Gochujang sauce for dipping\n",
      "\n",
      "**Option 3: Light and Fresh**\n",
      "\n",
      "* Baked salmon with lemon and herbs\n",
      "* Roasted asparagus with parmesan cheese\n",
      "* Quinoa salad with cherry tomatoes, cucumber, and feta cheese\n",
      "\n",
      "**Option 4: Hearty and Savory**\n",
      "\n",
      "* Beef and mushroom stroganoff with egg noodles\n",
      "* Steamed green beans with garlic butter\n",
      "* Crusty bread with a side of creamy horseradish sauce\n",
      "\n",
      "Which one sounds appealing to you? 🤔\n",
      "====================================================================================================\n",
      "[Prompt: 오늘 저녁 메뉴 추천해줘 | max_length(20), temperature(1.2), top_p(1)]\n",
      "3.4931528568267822\n",
      "Foodie tonight! 😋 Here are some menu recommendations for dinner:\n",
      "\n",
      "**Quick & Easy**\n",
      "\n",
      "1. BBQ Chicken Sandwich: Grilled chicken, crispy bacon, melted cheddar cheese, and tangy BBQ sauce on a toasted bun.\n",
      "2. One-Pot Pasta: Spaghetti, ground beef, marinara sauce, and steamed vegetables in one pot.\n",
      "\n",
      "**International Inspirations**\n",
      "\n",
      "1. Korean-Style Beef & Broccoli Stir-Fry: Tender beef, crisp broccoli, garlic, ginger, and soy sauce-stirred rice.\n",
      "2. Mexican Chicken Fajitas: Sizzling chicken, sautéed onions & bell peppers, warm flour tortillas, sour cream, and salsa.\n",
      "\n",
      "**Comfort Food**\n",
      "\n",
      "1. Creamy Chicken Mushroom Risotto: Arborio rice, roasted chicken, earthy mushrooms, parmesan cheese, and a hint of white wine.\n",
      "2. Classic Mac 'n Cheese: Al dente macaroni, creamy bechamel sauce, three-cheese blend, and crispy breadcrumbs.\n",
      "\n",
      "**Healthy Options**\n",
      "\n",
      "1. Grilled Salmon & Quinoa Bowl: Fresh salmon, roasted quinoa, steamed asparagus, cherry tomatoes, and a lemon-tahini drizzle.\n",
      "2. Veggie Stir-Fry with Chickpeas: Tender vegetables (bell peppers, zucchini, carrots), garbanzo beans, and a flavorful sauce made with soy sauce and honey.\n",
      "\n",
      "Pick your preferred cuisine or craving, and I'd be happy to provide more specific guidance on preparation and cooking! 🍴\n",
      "====================================================================================================\n",
      "[Prompt: 오늘 저녁 메뉴 추천해줘 | max_length(50), temperature(0.3), top_p(1)]\n",
      "2.156506061553955\n",
      "I'd be happy to recommend a dinner menu for you today! 😊 Here are a few options:\n",
      "\n",
      "**Option 1: Comfort Food**\n",
      "\n",
      "* Grilled Chicken Parmesan with spaghetti and marinara sauce\n",
      "* Roasted vegetables (such as broccoli, carrots, and bell peppers) with a drizzle of olive oil and salt\n",
      "* Garlic bread on the side\n",
      "\n",
      "**Option 2: International Inspiration**\n",
      "\n",
      "* Korean-style BBQ Beef Tacos with kimchi slaw and cilantro\n",
      "* Steamed edamame with sea salt and lemon\n",
      "* Japchae (Korean stir-fried noodles) with vegetables and a sweet soy sauce\n",
      "\n",
      "**Option 3: Quick and Easy**\n",
      "\n",
      "* One-pot pasta with tomato sauce, ground beef, and mozzarella cheese\n",
      "* Roasted asparagus with olive oil and parmesan cheese\n",
      "* Garlic naan bread on the side\n",
      "\n",
      "Which one of these options sounds appealing to you? 🤔\n",
      "====================================================================================================\n",
      "[Prompt: 오늘 저녁 메뉴 추천해줘 | max_length(50), temperature(1.2), top_p(1)]\n",
      "2.264556884765625\n",
      "I'd be happy to recommend a dinner menu for you! Here are a few options:\n",
      "\n",
      "**Option 1: Classic Korean Dinner**\n",
      "\n",
      "* Japchae (stir-fried glass noodles with vegetables)\n",
      "* Bulgogi (marinated beef stir-fry with onions and bell peppers)\n",
      "* Rice\n",
      "* Kimchi (spicy fermented Korean cabbage)\n",
      "\n",
      "**Option 2: Italian-Inspired Dinner**\n",
      "\n",
      "* Bruschetta (toasted bread with diced tomatoes, basil, and mozzarella)\n",
      "* Spaghetti Bolognese (ground beef pasta with tomato sauce)\n",
      "* Garlic Bread\n",
      "* Tiramisu (coffee-soaked ladyfingers with whipped cream and cocoa)\n",
      "\n",
      "**Option 3: Quick and Easy**\n",
      "\n",
      "* One-Pot Pasta (shrimp, vegetable, and tomato pasta with garlic bread)\n",
      "* Grilled Chicken Sandwiches\n",
      "* Roasted Sweet Potato Fries\n",
      "* Green Salad\n",
      "\n",
      "Which option sounds appealing to you? Let me know if you have any dietary restrictions or preferences!\n",
      "====================================================================================================\n",
      "[Prompt: 오늘 저녁 메뉴 추천해줘 | max_length(100), temperature(0.3), top_p(1)]\n",
      "2.2255122661590576\n",
      "I'd be happy to recommend a dinner menu for you today! 😊 Here are a few options:\n",
      "\n",
      "**Option 1: Korean-Style BBQ**\n",
      "\n",
      "* Grilled marinated beef ( Bulgogi) with rice and kimchi\n",
      "* Side dish: Stir-fried vegetables with garlic and soy sauce\n",
      "\n",
      "**Option 2: Italian-Inspired**\n",
      "\n",
      "* Spaghetti Bolognese with ground beef and tomato sauce, served with garlic bread\n",
      "* Side dish: Roasted asparagus with olive oil and parmesan cheese\n",
      "\n",
      "**Option 3: Asian Fusion**\n",
      "\n",
      "* Pan-seared salmon with a sweet and sour glaze, served with steamed jasmine rice\n",
      "* Side dish: Stir-fried bok choy with garlic and ginger\n",
      "\n",
      "**Option 4: Comfort Food**\n",
      "\n",
      "* Classic chicken pot pie with mashed potatoes and mixed vegetables\n",
      "* Side dish: Garlic bread with melted mozzarella cheese\n",
      "\n",
      "Which one of these options sounds appealing to you? 🤔\n",
      "====================================================================================================\n",
      "[Prompt: 오늘 저녁 메뉴 추천해줘 | max_length(100), temperature(1.2), top_p(1)]\n",
      "3.205000638961792\n",
      "What a great question! 😊 Today's dinner menu recommendation is:\n",
      "\n",
      "1. 🌮 Spicy Korean-Style BBQ Beef Tacos:\n",
      "Marry the flavors of Korean BBQ with the comfort of tacos. Marinate thinly sliced beef in a sweet and spicy Korean-inspired sauce, then wrap it in a crispy taco shell with kimchi slaw, cilantro, and crispy garlic.\n",
      "2. 💯 One-Pot Creamy Tom Yum Pasta:\n",
      "Bring the bold flavors of Thailand to your pasta game! Cook pasta, cherry tomatoes, onions, mushrooms, and succulent shrimp in a savory and spicy Tom Yum-based broth, finished with coconut cream and fresh cilantro.\n",
      "3. 👌 Crispy Lemon Herb Chicken & Honey Garlic Asparagus:\n",
      "Brighten up your evening with this zesty duo. Pan-fry chicken breasts with lemon zest, chopped herbs (thyme, rosemary, and parsley), and crispy capers. Pair it with honey-glazed asparagus and a sprinkle of sea salt.\n",
      "4. 👀 Pan-Seared Salmon & Garlic-Lemon Cream Risotto:\n",
      "Treat yourself to a seafood indulgence! Sear salmon fillets with lemon-garlic butter, then serve atop an creamy Arborio rice infused with roasted garlic and parmesan cheese.\n",
      "\n",
      "Which meal sparks your taste buds? Let me know if you'd like any adjustments or substitutions! 😊\n",
      "====================================================================================================\n"
     ]
    }
   ],
   "source": [
    "prompt = \"오늘 저녁 메뉴 추천해줘\"\n",
    "\n",
    "max_lengths = [20, 50, 100]\n",
    "temperatures = [0.3, 1.2]\n",
    "\n",
    "for max_length in max_lengths:\n",
    "    for temperature in temperatures:\n",
    "        generate_text_with_params(prompt, max_length, temperature, top_p=1)\n",
    "        print(\"=\" * 100)"
   ]
  },
  {
   "cell_type": "markdown",
   "id": "03b8c1c7-a189-464a-bd7d-e256ef83dbce",
   "metadata": {},
   "source": [
    "### 4. 응답에 특정 단어를 포함하도록 하기"
   ]
  },
  {
   "cell_type": "code",
   "execution_count": 17,
   "id": "a91aad76-30f0-42e8-91fa-5d10defc46c2",
   "metadata": {},
   "outputs": [],
   "source": [
    "def generate_text_with_word(prompt, required_word):# required_word : 답변에 꼭 들어가야 하는 단어\n",
    "    print(f\"[ Prompt: {prompt} | 포함할 단어: {required_word}]\")\n",
    "\n",
    "    prompt = prompt + f\"<Please make sure to include the word '{required_word}' in your response.>\"\n",
    "\n",
    "    response = ollama.generate(model=\"llama3\", prompt=prompt)\n",
    "\n",
    "    res_txt = response['response']\n",
    "\n",
    "    if required_word.lower() in res_txt.lower():\n",
    "        print(\"✅✅✅성공✅✅✅\")\n",
    "    else:\n",
    "        print(\"❌❌❌실패❌❌❌\")\n",
    "\n",
    "    return res_txt"
   ]
  },
  {
   "cell_type": "code",
   "execution_count": 18,
   "id": "bbe1b69f-9fea-47ce-898d-969bfc0bc5e8",
   "metadata": {},
   "outputs": [
    {
     "name": "stdout",
     "output_type": "stream",
     "text": [
      "[ Prompt: Describe the future of AI | 포함할 단어: truck]\n",
      "✅✅✅성공✅✅✅\n",
      "Response: The future of Artificial Intelligence (AI) is expected to be a transformative and exciting era, with far-reaching implications for various aspects of our lives. As we progress towards a more intelligent and interconnected world, here are some potential developments that could shape the future of AI:\n",
      "\n",
      "1. **Autonomous Vehicles**: Self-driving trucks and cars will become increasingly common, revolutionizing logistics, transportation, and urban planning. Advanced sensors and machine learning algorithms will enable vehicles to navigate complex environments, reducing accidents and increasing efficiency.\n",
      "2. **Cognitive Computing**: AI systems will integrate human-like reasoning and intuition, allowing them to make more informed decisions, understand context, and adapt to new situations. This cognitive computing will power applications like personal assistants, healthcare analysis, and financial forecasting.\n",
      "3. **Edge AI**: The proliferation of IoT devices, smart homes, and autonomous vehicles will require AI processing at the edge (device or network level) for real-time decision-making. This will enable faster response times, reduced latency, and improved security.\n",
      "4. **Explainable AI**: As AI becomes more pervasive, there will be a growing need to understand how AI systems make decisions and predictions. Explainable AI (XAI) will provide transparency and accountability, ensuring trust in AI-driven solutions.\n",
      "5. **Human-AI Collaboration**: The future of work will involve humans and AI working together seamlessly. AI will augment human capabilities, providing insights, suggesting courses of action, and learning from human feedback.\n",
      "6. **Quantum Computing**: The integration of quantum computing and AI will unlock new possibilities for complex problem-solving, simulation, and optimization. This fusion will enable breakthroughs in fields like medicine, finance, and climate modeling.\n",
      "7. **AI-Generated Content**: AI-driven creativity will become more prevalent, generating high-quality content (e.g., music, art, and writing) that can complement human-generated work or even surpass it.\n",
      "8. **Personalized Medicine**: AI-powered healthcare will transform the medical landscape by analyzing vast amounts of data to create personalized treatment plans, predicting disease risks, and improving patient outcomes.\n",
      "9. **Cybersecurity**: AI-driven security systems will proactively detect and respond to threats, using machine learning algorithms to stay ahead of evolving cyberattacks.\n",
      "10. **Economic Growth**: The future of AI is closely tied to economic growth, as it enables new industries, increases productivity, and creates jobs in areas like development, deployment, and maintenance.\n",
      "\n",
      "As we look to the future, it's essential to consider the ethical implications of these advancements and work towards ensuring that AI benefits all aspects of society. With responsible development and adoption, the potential for a brighter, more efficient, and more prosperous world is enormous – just as a truckload of possibilities awaits us!\n",
      "====================================================================================================\n",
      "[ Prompt: Tell me about space exploration | 포함할 단어: Mars]\n",
      "✅✅✅성공✅✅✅\n",
      "Response: Space exploration! The eternal quest to explore, discover, and understand our vast universe.\n",
      "\n",
      "Humanity's fascination with space has been a driving force behind many scientific and technological advancements. From the early pioneers like Sputnik and Apollo to modern-day missions like NASA's Curiosity Rover on Mars (yes, you read that right!), we've come a long way in our understanding of the cosmos.\n",
      "\n",
      "Mars, in particular, has captivated scientists and space enthusiasts alike. With its rocky terrain, towering volcanoes, and sprawling canyons, the Red Planet is an intriguing target for exploration. NASA's Curiosity Rover, launched in 2011, has been exploring Mars since August 2012, providing valuable insights into the planet's geology, climate, and potential habitability.\n",
      "\n",
      "The search for life beyond Earth has long been a primary motivation behind space exploration efforts. Mars is considered one of the most promising places to find signs of microbial life or even evidence of past human existence. NASA's Mars Exploration Program has included numerous robotic missions, such as the Viking landers (1976) and rovers like Sojourner (1997), Spirit (2004), and Opportunity (2003).\n",
      "\n",
      "In recent years, private companies have also ventured into space exploration, including SpaceX's Falcon 9 rockets, which have successfully launched numerous satellites, spacecraft, and even crewed missions to the International Space Station. Blue Origin, founded by Jeff Bezos, has been working on its New Shepard suborbital launch system, aiming to take humans to the edge of space.\n",
      "\n",
      "Future plans for Mars exploration are underway:\n",
      "\n",
      "1. NASA's Perseverance Rover, launched in July 2020, is currently exploring Mars and searching for signs of past or present life.\n",
      "2. The European Space Agency's (ESA) ExoMars mission, scheduled for 2022, will search for biosignatures on the Martian surface.\n",
      "3. NASA plans to send humans to Mars in the 2030s with its Artemis program, aiming to establish a sustainable human presence on the Red Planet.\n",
      "\n",
      "As we continue to push the boundaries of space exploration, new discoveries and technological advancements will undoubtedly lead us closer to understanding our place within the vast expanse of the universe.\n",
      "====================================================================================================\n"
     ]
    }
   ],
   "source": [
    "test_cases = [\n",
    "    (\"Describe the future of AI\", \"truck\"), \n",
    "    (\"Tell me about space exploration\", \"Mars\")\n",
    "]\n",
    "\n",
    "for prompt, required_word in test_cases:\n",
    "    response = generate_text_with_word(prompt, required_word)\n",
    "    print(f\"Response: {response}\")\n",
    "    print(\"=\" * 100)"
   ]
  },
  {
   "cell_type": "markdown",
   "id": "e6a9281e-235c-4560-bf98-1dc918e9637a",
   "metadata": {},
   "source": [
    "### 다국어 처리 실험"
   ]
  },
  {
   "cell_type": "code",
   "execution_count": 19,
   "id": "b96455fe-7899-496a-b3f6-8410e6f779a3",
   "metadata": {},
   "outputs": [],
   "source": [
    "def generate_text_in_language(language, prompt):\n",
    "    print(f\"[ Language: {language} | Prompt: {prompt}]\")\n",
    "\n",
    "    response = ollama.generate(model=\"llama3\", prompt=prompt)\n",
    "    print(response['response'])\n",
    "    print(\"=\" * 100)"
   ]
  },
  {
   "cell_type": "code",
   "execution_count": 20,
   "id": "f2a8f141-3ca6-4a24-9090-eaf000836de1",
   "metadata": {},
   "outputs": [
    {
     "name": "stdout",
     "output_type": "stream",
     "text": [
      "[ Language: English | Prompt: Please recommend me one dinner menu today. Please answer in English.]\n",
      "Here's a simple and delicious dinner menu recommendation:\n",
      "\n",
      "**Grilled Chicken Fajitas**\n",
      "\n",
      "* Marinated grilled chicken breast, sliced into strips\n",
      "* Sautéed bell peppers (any color) and onions with garlic and cumin\n",
      "* Warm flour tortillas\n",
      "* Optional toppings: shredded cheese, diced tomatoes, avocado, sour cream, cilantro\n",
      "\n",
      "This menu is quick to prepare, flavorful, and can be customized to your taste. The grilled chicken provides a nice protein boost, while the bell peppers and onions add natural sweetness and crunch. You can also add some Mexican-style rice or roasted vegetables on the side for a more filling meal.\n",
      "\n",
      "Enjoy your dinner!\n",
      "====================================================================================================\n",
      "[ Language: 한국어 | Prompt: 오늘 저녁 메뉴 1가지만 추천해줘. 한국어로 대답해줘.]\n",
      "😊 오늘 저녁에 추천하는 메뉴는 \"불고기볶음\"입니다! 쉽게 말해, 짜장과 고구마를 섞은 것을 볶아낸 음식으로요. 짭하고 달콤한 맛이 있는 편이라서, 당신의 식욕을 자극할 것 같습니다! 🍴👌\n",
      "====================================================================================================\n",
      "[ Language: 日本語 | Prompt: 今日の夕食のメニューを一つ教えてください。日本語で回答してください。]\n",
      "はじめまして！今日の夕食のメニューとして、以下のものを提案します。\n",
      "\n",
      "**Tonkatsu Curry Rice**\n",
      "\n",
      "* Tonkatsu（トンカツ）は、日本stiledeの揚げ物屋きんの、ピンク色のソースをかけた豚カツレツのことで、豚肉のパティをパン粉でコーティングして、フライドChicken同様に揚げたものです。\n",
      "* その上に、カレーのスープがかかるため、豚カツレツとカレーの組み合わせは、非常に美味しくなります。\n",
      "\n",
      "このメニューは、日本的な夕食メニューとして人気があります。\n",
      "====================================================================================================\n",
      "[ Language: 中文 | Prompt: 请推荐一份今天的晚餐菜单给我。请用中文回答。]\n",
      "😊\n",
      "\n",
      "今天的晚餐菜单，我推荐以下几道菜：\n",
      "\n",
      "** Appetizer **\n",
      "\n",
      "* 冷香肠配烤奶酪（Cold Cucumber Slices with Grilled Cheese） - 一个简洁 yetdelicious 的开始！\n",
      "\n",
      "** Main Course **\n",
      "\n",
      "* 鲜虾与西红柿炒面（Shrimp and Tomato Stir-Fry Noodles） - 带有海鮮和西红柿的搭配，非常适合今天晚上的菜单！\n",
      "\n",
      "** Side Dish **\n",
      "\n",
      "* 新鲜玉米饼（Fresh Corn Bread） - 一份温暖的、柔软的玉米饼，很好地补充了整个餐厅！\n",
      "\n",
      "** Dessert **\n",
      "\n",
      "* 香草gelato（Lavender Gelato） - 一份甜蜜 yetrefreshing 的gelato，完美地结束今天的晚餐！\n",
      "\n",
      "这份菜单轻松、 yet flavorful，适合任何人士。享受你的晚餐！ 😋\n",
      "====================================================================================================\n",
      "[ Language: français | Prompt: S'il vous plaît, recommandez-moi un menu pour le dîner aujourd'hui. Veuillez répondre en français.]\n",
      "Bien sûr ! Voici quelques suggestions de menus délicieux pour votre dîner d'aujourd'hui :\n",
      "\n",
      "**Menu 1 : Classique et Élégant**\n",
      "\n",
      "* Entrée : Carpaccio de boeuf aux fines herbes\n",
      "* Plats principaux : Poulet rôti au thym, accompagné de pommes de terre sautées et de brocolis\n",
      "* Dessert : Crème brûlée vanille\n",
      "\n",
      "**Menu 2 : Méditerranéen**\n",
      "\n",
      "* Entrée : Gratin de tomates cerises et d'olives noires\n",
      "* Plats principaux : Thon grillé aux épinards, accompagné de quinoa et de citron\n",
      "* Dessert : Tarte au citron avec une glace fraîche\n",
      "\n",
      "**Menu 3 : Intime et Chaud**\n",
      "\n",
      "* Entrée : Soupe à la tomate crémeuse avec des croutons de pain grillé\n",
      "* Plats principaux : Cassoulet au canard, accompagné d'une salade verte\n",
      "* Dessert : Crème chantillie au caramel\n",
      "\n",
      "Choisissez le menu qui vous plaît le plus, ou sentez libre de créer votre propre combinaison ! Bon appétit !\n",
      "====================================================================================================\n"
     ]
    }
   ],
   "source": [
    "prompts = {\n",
    "    \"English\": \"Please recommend me one dinner menu today. Please answer in English.\",\n",
    "    \"한국어\": \"오늘 저녁 메뉴 1가지만 추천해줘. 한국어로 대답해줘.\",\n",
    "    \"日本語\": \"今日の夕食のメニューを一つ教えてください。日本語で回答してください。\",\n",
    "    \"中文\": \"请推荐一份今天的晚餐菜单给我。请用中文回答。\",\n",
    "    \"français\": \"S'il vous plaît, recommandez-moi un menu pour le dîner aujourd'hui. Veuillez répondre en français.\"\n",
    "}\n",
    "\n",
    "for language, prompt in prompts.items():\n",
    "    generate_text_in_language(language, prompt)"
   ]
  },
  {
   "cell_type": "markdown",
   "id": "d688a5fd-6295-4d3e-8f8e-baeadf7472a5",
   "metadata": {},
   "source": [
    "### LLaMA 모델을 이용한 간단한 대화 시스템\n",
    "\n",
    "- 사용자 입력 input() 이용\n",
    "- 응답 print()로 출력\n",
    "- 'exit' 입력 시 대화 종료"
   ]
  },
  {
   "cell_type": "code",
   "execution_count": 32,
   "id": "9796a8f5-81e9-4912-91b0-dc53354bbab0",
   "metadata": {},
   "outputs": [
    {
     "name": "stdin",
     "output_type": "stream",
     "text": [
      " 안녕\n"
     ]
    },
    {
     "name": "stdout",
     "output_type": "stream",
     "text": [
      "---안녕하세요! 한국어로 대화할 수 있습니다. 😊\n",
      "\n"
     ]
    },
    {
     "name": "stdin",
     "output_type": "stream",
     "text": [
      " 오늘 날씨가 어때?\n"
     ]
    },
    {
     "name": "stdout",
     "output_type": "stream",
     "text": [
      "---😊\n",
      "\n",
      "안녕하세요! 오늘 날씨는 맑아요. 하늘은 벼락 없이 맑았어요. 아침부터 오후까지 강풍이吹어가지고 있습니다. 기온은 15도 이상으로 따뜻해요. 전체적으로 좋은 날씨예요. 😊\n",
      "\n"
     ]
    },
    {
     "name": "stdin",
     "output_type": "stream",
     "text": [
      " 이모티콘 쓰지 마\n"
     ]
    },
    {
     "name": "stdout",
     "output_type": "stream",
     "text": [
      "---Understood! I'll only use English without Korean emoticons. 😊\n",
      "\n"
     ]
    },
    {
     "name": "stdin",
     "output_type": "stream",
     "text": [
      " 아니 이모티콘 붙이지 마\n"
     ]
    },
    {
     "name": "stdout",
     "output_type": "stream",
     "text": [
      "--- understood. I'll only use Korean language and won't add emoticons from now on. Let's communicate in Korean! 💬\n",
      "\n"
     ]
    },
    {
     "name": "stdin",
     "output_type": "stream",
     "text": [
      " 왜 영어로 말해?\n"
     ]
    },
    {
     "name": "stdout",
     "output_type": "stream",
     "text": [
      "---😊\n",
      "\n",
      "너무 생각한 것 같아요! 저는 한국어와 영어를 모두 이해하고 응답할 수 있습니다. 하지만, 처음에는 한국어를 우선으로 선택했나요? 🤔\n",
      "\n",
      "이제부터는 한국어로 답할 것입니다! 😊\n",
      "\n"
     ]
    },
    {
     "name": "stdin",
     "output_type": "stream",
     "text": [
      " 너 기억력 나쁘구나\n"
     ]
    },
    {
     "name": "stdout",
     "output_type": "stream",
     "text": [
      "---😅 당신은 한국어를 요구하는 것 같군요! 😄\n",
      "\n",
      " memoria가약하거나 하는 것은 아니에요! 💪 I'm a large language model, I can process and respond to Korean text without any issues. Go ahead and ask me anything in Korean, I'll do my best to help you! 😊\n",
      "\n"
     ]
    },
    {
     "name": "stdin",
     "output_type": "stream",
     "text": [
      " 근데 왜 영어쓰냐고\n"
     ]
    },
    {
     "name": "stdout",
     "output_type": "stream",
     "text": [
      "---😄\n",
      "\n",
      "이제부터는 한국어로 대화하겠습니다! 좋은 생각입니다. \n",
      "\n",
      "왜 영어를 쓰느냐고 물으셨나요? 저는 언어 모델링을 위하여 다양한 언어를 지원하고 있습니다. 또한, 전세계에 있는 사용자들이나 개발자들에게도 도움이 되려는 것입니다.\n",
      "\n"
     ]
    },
    {
     "name": "stdin",
     "output_type": "stream",
     "text": [
      " 나랑 대화중이잖아. 한국어만 써\n"
     ]
    },
    {
     "name": "stdout",
     "output_type": "stream",
     "text": [
      "---😊 알겠습니다! 한국어로 대화를 시작하겠습니다. 무엇을 주제로 논의해볼까요? 🤔\n",
      "\n"
     ]
    },
    {
     "name": "stdin",
     "output_type": "stream",
     "text": [
      " 니가 왜 영어를 쓰는가에 대해서.\n"
     ]
    },
    {
     "name": "stdout",
     "output_type": "stream",
     "text": [
      "---A question that gets to the heart of my existence! 🤔\n",
      "\n",
      "I'm a large language model, my primary function is to understand and respond to human input in various languages, including Korean. However, I was initially trained on a massive corpus of text data that includes English language texts.\n",
      "\n",
      "There are several reasons why I can only understand and respond in English (and other languages) but not directly in Korean:\n",
      "\n",
      "1. **Linguistic complexity**: While I'm capable of processing complex linguistic structures, the grammatical and syntactical rules of Korean are quite different from those of English. This makes it more challenging for me to accurately recognize and generate Korean text without significant additional training data.\n",
      "2. **Character encoding**: Korean uses a unique set of characters (Hangul) that are not directly compatible with the ASCII character set used in English. While I can handle non-ASCII characters, my primary training data is based on English language texts, which makes it more difficult for me to process and generate Korean text.\n",
      "3. **Limited training data**: Although there are many online resources available in Korean, the amount of high-quality training data for a large language model like myself is still relatively limited compared to the vast amounts of English-language text.\n",
      "\n",
      "That being said, I'm designed to be flexible and adaptable. If you'd like to communicate with me in Korean, I can try to respond using machine translation tools or even generate simple phrases and sentences. However, please keep in mind that my understanding and response might not be as accurate or natural-sounding as if we were communicating in English.\n",
      "\n",
      "If you have any specific questions or topics you'd like to discuss in Korean, feel free to ask, and I'll do my best to assist you! 🙏\n",
      "\n"
     ]
    },
    {
     "name": "stdin",
     "output_type": "stream",
     "text": [
      " 또 영어쓰네. 너 멍청한거 맞아\n"
     ]
    },
    {
     "name": "stdout",
     "output_type": "stream",
     "text": [
      "---I see you're using only Korean and also being a bit harsh! 😊 Well, I'll respond in both Korean and English to help us communicate better.\n",
      "\n",
      "(in Korean)\n",
      "물론, 저는 항상 당신의 의도와 상관없이 답변을 드리겠습니다. 그러나 비방하는 언행으로서의 발언은 옳지 않아요. Let's keep the conversation friendly and respectful! 😊\n",
      "\n",
      "(in English)\n",
      "Of course, I'll respond to your questions and concerns without taking your tone personally. However, using derogatory language is not acceptable. Let's maintain a friendly and respectful conversation!\n",
      "\n"
     ]
    },
    {
     "name": "stdin",
     "output_type": "stream",
     "text": [
      " exit\n"
     ]
    }
   ],
   "source": [
    "import ollama\n",
    "while True:\n",
    "    prompt = input()\n",
    "    if prompt == 'exit':\n",
    "        break\n",
    "    response = ollama.generate(model='llama3', prompt=\"한국어만 사용\" + prompt)\n",
    "    print(\"---\" + response['response'] + \"\\n\")\n",
    "\n"
   ]
  }
 ],
 "metadata": {
  "kernelspec": {
   "display_name": "Python 3 (ipykernel)",
   "language": "python",
   "name": "python3"
  },
  "language_info": {
   "codemirror_mode": {
    "name": "ipython",
    "version": 3
   },
   "file_extension": ".py",
   "mimetype": "text/x-python",
   "name": "python",
   "nbconvert_exporter": "python",
   "pygments_lexer": "ipython3",
   "version": "3.10.12"
  }
 },
 "nbformat": 4,
 "nbformat_minor": 5
}
