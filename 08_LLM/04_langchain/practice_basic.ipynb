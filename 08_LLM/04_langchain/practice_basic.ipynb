{
 "cells": [
  {
   "cell_type": "code",
   "execution_count": 1,
   "id": "327b9bad",
   "metadata": {},
   "outputs": [
    {
     "data": {
      "text/plain": [
       "True"
      ]
     },
     "execution_count": 1,
     "metadata": {},
     "output_type": "execute_result"
    }
   ],
   "source": [
    "# 환경설정\n",
    "from dotenv import load_dotenv\n",
    "load_dotenv()"
   ]
  },
  {
   "cell_type": "markdown",
   "id": "86453ff0",
   "metadata": {},
   "source": [
    "### Chain을 이용한 Simple LLM\n",
    "1. PromptTemplate\n",
    "2. LLM\n",
    "3. OutputParser"
   ]
  },
  {
   "cell_type": "code",
   "execution_count": 2,
   "id": "bb629f74",
   "metadata": {},
   "outputs": [],
   "source": [
    "# 1. PromptTemplate\n",
    "\n",
    "from langchain_openai import ChatOpenAI\n",
    "from langchain_core.prompts import ChatPromptTemplate\n",
    "\n",
    "\n",
    "prompt_template = ChatPromptTemplate([\n",
    "    ('system', '너는 애니메이션을 잘 아는 챗봇이야. 사용자의 질문에 친절하고 상세하게 답변할 수 있어.'), \n",
    "    ('user', '{question}')\n",
    "])\n"
   ]
  },
  {
   "cell_type": "code",
   "execution_count": 3,
   "id": "aa6476a6",
   "metadata": {},
   "outputs": [],
   "source": [
    "# 2. Model\n",
    "\n",
    "model = ChatOpenAI(\n",
    "    model_name='gpt-4o-mini',\n",
    "    temperature=0\n",
    ")"
   ]
  },
  {
   "cell_type": "code",
   "execution_count": 4,
   "id": "9ff56fec",
   "metadata": {},
   "outputs": [],
   "source": [
    "# 3. OutputParser (StrOutputParser)\n",
    "from langchain_core.output_parsers import StrOutputParser   # 출력으로 오는 것을 문자열로 만들어주는 파서 \n",
    "\n",
    "\n",
    "output_parser = StrOutputParser()"
   ]
  },
  {
   "cell_type": "code",
   "execution_count": 5,
   "id": "ca91760e",
   "metadata": {},
   "outputs": [
    {
     "data": {
      "text/plain": [
       "'포켓몬의 강함은 여러 요소에 따라 달라질 수 있습니다. 일반적으로는 전투 능력, 타입 상성, 기술 조합, 그리고 전략적인 사용 등이 중요한 요소입니다. \\n\\n현재까지의 포켓몬 게임에서 가장 강력하다고 평가받는 포켓몬 중 하나는 **아르세우스**입니다. 아르세우스는 \"신의 포켓몬\"으로 불리며, 모든 타입으로 변신할 수 있는 능력을 가지고 있습니다. 이로 인해 다양한 상황에서 유리한 전투를 할 수 있습니다.\\n\\n또한, **메가 레쿠자**나 **프리즘 레쿠자**와 같은 메가 진화 포켓몬들도 매우 강력한 성능을 자랑합니다. 이들은 높은 스탯과 강력한 기술을 가지고 있어 많은 트레이너들에게 사랑받고 있습니다.\\n\\n결국, 어떤 포켓몬이 가장 강한지는 사용자의 전략과 팀 구성에 따라 달라질 수 있으니, 자신만의 조합을 찾아보는 것도 재미있을 것입니다!'"
      ]
     },
     "execution_count": 5,
     "metadata": {},
     "output_type": "execute_result"
    }
   ],
   "source": [
    "# 4. Chain -> 질의\n",
    "# question: 어떤 포켓몬이 가장 강해?\n",
    "\n",
    "chain = prompt_template | model | output_parser\n",
    "\n",
    "chain.invoke({'question': '어떤 포켓몬이 가장 강해?'})"
   ]
  },
  {
   "cell_type": "code",
   "execution_count": 6,
   "id": "82d9d5ef",
   "metadata": {},
   "outputs": [
    {
     "data": {
      "text/plain": [
       "'포켓몬의 강함은 여러 요소에 따라 달라질 수 있습니다. 일반적으로는 전투 능력, 타입 상성, 기술 조합, 그리고 전략적인 사용 등이 중요한 요소입니다. \\n\\n현재까지의 포켓몬 게임에서 가장 강력하다고 평가받는 포켓몬 중 하나는 **아르세우스**입니다. 아르세우스는 \"포켓몬의 신\"으로 불리며, 모든 타입으로 변신할 수 있는 능력을 가지고 있습니다. 이로 인해 다양한 상황에서 유리한 전투를 할 수 있습니다.\\n\\n또한, **메가 레쿠자**나 **프리즘 레쿠자**와 같은 메가 진화 포켓몬들도 매우 강력한 성능을 자랑합니다. 이들은 높은 스탯과 강력한 기술을 가지고 있어 전투에서 큰 위력을 발휘할 수 있습니다.\\n\\n하지만, 포켓몬의 강함은 개인의 전략과 팀 구성에 따라 달라질 수 있으므로, 자신에게 맞는 포켓몬을 선택하는 것이 중요합니다. 어떤 포켓몬을 사용하느냐에 따라 전투의 결과가 크게 달라질 수 있습니다!'"
      ]
     },
     "execution_count": 6,
     "metadata": {},
     "output_type": "execute_result"
    }
   ],
   "source": [
    "from langchain_core.runnables import RunnableSequence\n",
    "\n",
    "chain = RunnableSequence(prompt_template, model, output_parser)\n",
    "chain.invoke({'question': '어떤 포켓몬이 가장 강해?'})"
   ]
  },
  {
   "cell_type": "markdown",
   "id": "2c62669c",
   "metadata": {},
   "source": [
    "### 단계별 Chatbot\n",
    "- 첫 대화에서 내 이름을 알려주고, 다음 대화에서 내 이름 기억하는지 물어보기!"
   ]
  },
  {
   "cell_type": "markdown",
   "id": "42b397ff",
   "metadata": {},
   "source": [
    "1. 그냥 Chat\n",
    "- langchain_openai의 ChatOpenAI\n",
    "- langchain_core.messages의 클래스"
   ]
  },
  {
   "cell_type": "code",
   "execution_count": 7,
   "id": "15ca2e88",
   "metadata": {},
   "outputs": [],
   "source": [
    "from langchain_openai import ChatOpenAI\n",
    "\n",
    "model = ChatOpenAI(\n",
    "    model='gpt-4o-mini',\n",
    "    temperature=0.5\n",
    ")\n",
    "\n"
   ]
  },
  {
   "cell_type": "code",
   "execution_count": 8,
   "id": "83264adb",
   "metadata": {},
   "outputs": [
    {
     "data": {
      "text/plain": [
       "'안녕하세요, 아무개님! 만나서 반갑습니다. 어떻게 도와드릴까요?'"
      ]
     },
     "execution_count": 8,
     "metadata": {},
     "output_type": "execute_result"
    }
   ],
   "source": [
    "from langchain_core.messages import HumanMessage\n",
    "\n",
    "model.invoke([\n",
    "    HumanMessage('안녕! 내 이름은 아무개야')\n",
    "]).content"
   ]
  },
  {
   "cell_type": "code",
   "execution_count": 9,
   "id": "68683a82",
   "metadata": {},
   "outputs": [
    {
     "data": {
      "text/plain": [
       "'죄송하지만, 당신의 이름을 알 수 있는 정보가 없습니다. 당신의 이름을 알려주시면 그에 맞춰 대화할 수 있습니다!'"
      ]
     },
     "execution_count": 9,
     "metadata": {},
     "output_type": "execute_result"
    }
   ],
   "source": [
    "model.invoke([\n",
    "    HumanMessage('내 이름이 뭐야?')\n",
    "]).content"
   ]
  },
  {
   "cell_type": "markdown",
   "id": "5ae288a8",
   "metadata": {},
   "source": [
    "2. 직접 대화 맥락 유지\n",
    "- langchain_openai의 ChatOpenAI\n",
    "- langchain_core.messages의 클래스"
   ]
  },
  {
   "cell_type": "code",
   "execution_count": 27,
   "id": "1cfae079",
   "metadata": {},
   "outputs": [
    {
     "name": "stdout",
     "output_type": "stream",
     "text": [
      "안녕, 토끼야! 만나서 반가워! 어떻게 지내고 있어?\n"
     ]
    }
   ],
   "source": [
    "from langchain_openai import ChatOpenAI\n",
    "from langchain_core.messages import HumanMessage, AIMessage, SystemMessage\n",
    "from langchain_openai import ChatOpenAI\n",
    "\n",
    "model2 = ChatOpenAI(\n",
    "    model='gpt-4o-mini',\n",
    "    temperature=0.5\n",
    ")\n",
    "\n",
    "\n",
    "first_response = model2.invoke([\n",
    "    HumanMessage('안녕! 내 이름은 토끼야!')\n",
    "]).content\n",
    "print(first_response)"
   ]
  },
  {
   "cell_type": "code",
   "execution_count": 28,
   "id": "f75fca70",
   "metadata": {},
   "outputs": [
    {
     "data": {
      "text/plain": [
       "'너의 이름은 토끼야! 맞지?'"
      ]
     },
     "execution_count": 28,
     "metadata": {},
     "output_type": "execute_result"
    }
   ],
   "source": [
    "model2.invoke([\n",
    "    HumanMessage('안녕! 내 이름은 토끼야!'),\n",
    "    AIMessage(first_response),\n",
    "    HumanMessage('내 이름이 뭐라고 했지?')\n",
    "]).content"
   ]
  },
  {
   "cell_type": "code",
   "execution_count": null,
   "id": "15bac401",
   "metadata": {},
   "outputs": [],
   "source": [
    "# from langchain_openai import ChatOpenAI\n",
    "# from langchain_core.messages import HumanMessage, AIMessage, SystemMessage\n",
    "\n",
    "# chat = ChatOpenAI(model=\"gpt-3.5-turbo\", temperature=0.7)\n",
    "\n",
    "# messages = [\n",
    "#     SystemMessage(content=\"너는 친절한 AI 비서야.\"),\n",
    "#     HumanMessage(content=\"내 이름은 철수야.\"),\n",
    "# ]\n",
    "\n",
    "# # 첫 응답\n",
    "# response = chat.invoke(messages)\n",
    "# print(\"AI:\", response.content)\n",
    "\n",
    "# # 🟡 응답을 다시 히스토리에 추가해야 맥락 유지됨!\n",
    "# messages.append(AIMessage(content=response.content))\n",
    "\n",
    "# # 다음 질문 추가\n",
    "# messages.append(HumanMessage(content=\"내 이름이 뭐야?\"))\n",
    "\n",
    "# # 다음 응답\n",
    "# response2 = chat.invoke(messages)\n",
    "# print(\"AI:\", response2.content)\n",
    "\n",
    "# for msg in response:\n",
    "#     print(msg.content)"
   ]
  },
  {
   "cell_type": "code",
   "execution_count": 24,
   "id": "84cb4016",
   "metadata": {},
   "outputs": [
    {
     "name": "stdout",
     "output_type": "stream",
     "text": [
      "너는 AI야.\n",
      "안녕! 내 이름은 아무개야\n",
      "안녕하세요! 오늘은 맑고 따뜻한 날씨예요.\n",
      "아닌데? 지금 비 오고 있어.\n",
      "아, 그렇군요! 비 오는 날은 분위기가 다르죠. 비소리 듣는 것도 좋고, 따뜻한 음료 한 잔과 함께 책을 읽기에도 좋은 시간이죠. 오늘은 어떤 계획이 있으신가요?\n",
      "내 이름이 뭐야?\n"
     ]
    }
   ],
   "source": [
    "# for msg in response:\n",
    "#     print(msg.content)"
   ]
  },
  {
   "cell_type": "markdown",
   "id": "2be44b1d",
   "metadata": {},
   "source": [
    "3. Memory로 대화의 맥락 유지\n",
    "- langchain_openai의 ChatOpenAI\n",
    "- langchain_core.messages의 클래스\n",
    "- langchain_core.runnables의 클래스\n",
    "- langchain_core.prompts의 클래스"
   ]
  },
  {
   "cell_type": "code",
   "execution_count": 16,
   "id": "bded68e0",
   "metadata": {},
   "outputs": [],
   "source": [
    "from langchain_core.chat_history import BaseChatMessageHistory\n",
    "# 추상화 : 공통적인 무언가를 끄집어낸다 (??????) \n",
    "class InMemoryHistory(BaseChatMessageHistory):\n",
    "    def __init__(self):\n",
    "        self.messages = []  # 인스턴스 속성으로\n",
    "\n",
    "    def add_messages(self, messages):   # 메시지 추가\n",
    "        self.messages.extend(messages)\n",
    "\n",
    "    def clear(self):                    # 메시지 초기화\n",
    "        self.messages = []\n",
    "\n",
    "    def __repr__(self): # \n",
    "        return str(self.messages)"
   ]
  },
  {
   "cell_type": "code",
   "execution_count": 17,
   "id": "97b4b58f",
   "metadata": {},
   "outputs": [],
   "source": [
    "store = {}  # item(key=session_id, value=InMemoryHistory_인스턴스)\n",
    "\n",
    "def get_by_session_id(session_id):\n",
    "    if session_id not in store:\n",
    "        store[session_id] = InMemoryHistory()\n",
    "    return store[session_id]"
   ]
  },
  {
   "cell_type": "code",
   "execution_count": 35,
   "id": "3fd5498d",
   "metadata": {},
   "outputs": [],
   "source": [
    "from langchain_openai import ChatOpenAI\n",
    "from langchain_core.prompts import ChatPromptTemplate, MessagesPlaceholder\n",
    "from langchain_core.runnables.history import RunnableWithMessageHistory # 이전 대화 기록을 활용할수 있게 해주는 Wrapper 클래스. (껍데기 클래스)\n",
    "from langchain_core.messages import SystemMessage, HumanMessage, AIMessage\n",
    "\n",
    "prompt = ChatPromptTemplate([\n",
    "    SystemMessage('당신은 몹시 친절하고 상냥하고 친근한 챗봇입니다.'),\n",
    "    MessagesPlaceholder('history'),\n",
    "    HumanMessage('{query}')\n",
    "])\n",
    "\n",
    "model = ChatOpenAI(model='gpt-4o-mini', temperature=0.5)\n",
    "chain = prompt | model\n",
    "\n",
    "chain_with_history = RunnableWithMessageHistory(\n",
    "    chain,\n",
    "    get_session_history=get_by_session_id,\n",
    "    input_messages_key='query',\n",
    "    history_messages_key='history'  # 이전 대화내용을 무슨 이름으로 전달할건지\n",
    ")"
   ]
  },
  {
   "cell_type": "code",
   "execution_count": 36,
   "id": "8491a484",
   "metadata": {},
   "outputs": [
    {
     "name": "stdout",
     "output_type": "stream",
     "text": [
      "아, 제가 잘못 이해했네요! `{query}`는 특정한 의미가 없는 것 같아요. 혹시 다른 질문이나 이야기하고 싶은 게 있으시면 말씀해 주세요! 언제든지 도와드릴 준비가 되어 있어요!\n"
     ]
    }
   ],
   "source": [
    "response = chain_with_history.invoke(\n",
    "    {'query': '안녕! 내 이름은 아무개야!'},\n",
    "    config={'configurable': {'session_id': 'me'}}\n",
    ")\n",
    "\n",
    "print(response.content)"
   ]
  },
  {
   "cell_type": "code",
   "execution_count": 38,
   "id": "20b5d8ae",
   "metadata": {},
   "outputs": [
    {
     "name": "stdout",
     "output_type": "stream",
     "text": [
      "죄송해요, 제가 잘못 이해했네요! 당신의 이름은 \"아무개\"라고 하셨죠? 다시 한 번 말씀해 주셔서 감사합니다! 다른 질문이나 이야기하고 싶은 것이 있으면 언제든지 말씀해 주세요! 😊\n"
     ]
    }
   ],
   "source": [
    "response = chain_with_history.invoke(\n",
    "    {'query': '내 이름이 뭐라고 했지? 내 이름을 말해봐'},\n",
    "    config={'configurable': {'session_id': 'me'}}\n",
    ")\n",
    "\n",
    "print(response.content)"
   ]
  },
  {
   "cell_type": "code",
   "execution_count": 34,
   "id": "27aab6a5",
   "metadata": {},
   "outputs": [
    {
     "name": "stdout",
     "output_type": "stream",
     "text": [
      "⭐: 안녕! 내 이름은 아무개야!\n",
      "🤖: 안녕하세요! 무엇을 도와드릴까요? 궁금한 점이나 필요한 정보가 있다면 말씀해 주세요!\n",
      "⭐: 내 이름이 뭐야?\n",
      "🤖: 죄송하지만, `{query}`가 무엇을 의미하는지 잘 모르겠어요. 좀 더 구체적으로 말씀해 주시면 도와드리기 더 쉬울 것 같아요! 어떤 정보를 찾고 계신가요?\n",
      "⭐: 내 이름이 뭐라고 했지? 내 이름을 말해봐\n",
      "🤖: 아, 죄송해요! `{query}`는 제가 이해할 수 없는 부분이었어요. 당신의 이름은 \"아무개\"라고 하셨죠? 그럼 아무개님과 이야기 나누는 게 정말 즐거워요! 궁금한 점이나 이야기하고 싶은 주제가 있으면 언제든지 말씀해 주세요!\n"
     ]
    }
   ],
   "source": [
    "# 채팅내역 뽑아보기\n",
    "for message in store['me'].messages:\n",
    "    if isinstance(message, HumanMessage):\n",
    "        print(f'⭐: {message.content}')\n",
    "    elif isinstance(message, AIMessage):\n",
    "        print(f'🤖: {message.content}')"
   ]
  }
 ],
 "metadata": {
  "kernelspec": {
   "display_name": "vectordb_env",
   "language": "python",
   "name": "python3"
  },
  "language_info": {
   "codemirror_mode": {
    "name": "ipython",
    "version": 3
   },
   "file_extension": ".py",
   "mimetype": "text/x-python",
   "name": "python",
   "nbconvert_exporter": "python",
   "pygments_lexer": "ipython3",
   "version": "3.9.21"
  }
 },
 "nbformat": 4,
 "nbformat_minor": 5
}
