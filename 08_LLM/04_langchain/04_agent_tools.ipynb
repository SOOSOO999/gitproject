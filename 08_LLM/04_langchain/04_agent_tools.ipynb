{
 "cells": [
  {
   "cell_type": "markdown",
   "id": "25db0b06",
   "metadata": {},
   "source": [
    "# Agent & Tools"
   ]
  },
  {
   "cell_type": "code",
   "execution_count": 7,
   "id": "432145c3",
   "metadata": {},
   "outputs": [
    {
     "data": {
      "text/plain": [
       "True"
      ]
     },
     "execution_count": 7,
     "metadata": {},
     "output_type": "execute_result"
    }
   ],
   "source": [
    "from dotenv import load_dotenv\n",
    "load_dotenv()"
   ]
  },
  {
   "cell_type": "code",
   "execution_count": 8,
   "id": "c3b7c552",
   "metadata": {},
   "outputs": [],
   "source": [
    "# !pip install wikipedia\n",
    "# !pip install langchain-community\n",
    "# !pip install numexpr"
   ]
  },
  {
   "cell_type": "code",
   "execution_count": 9,
   "id": "87fd51bb",
   "metadata": {},
   "outputs": [],
   "source": [
    "from langchain_openai import ChatOpenAI\n",
    "\n",
    "model = ChatOpenAI(\n",
    "    model_name='gpt-4o-mini',\n",
    "    temperature=0\n",
    ")"
   ]
  },
  {
   "cell_type": "code",
   "execution_count": 10,
   "id": "895c76fa",
   "metadata": {},
   "outputs": [
    {
     "data": {
      "text/plain": [
       "AIMessage(content='USPEER는 2023년에 데뷔한 걸그룹으로, 멤버들은 다음과 같습니다:\\n\\n1. **유나 (Yuna)**\\n2. **지아 (Jia)**\\n3. **하린 (Harin)**\\n4. **미래 (Mirae)**\\n5. **소희 (Sohee)**\\n\\n각 멤버는 다양한 매력과 개성을 가지고 있으며, 그룹 활동을 통해 팬들과 소통하고 있습니다. 더 궁금한 점이 있으면 말씀해 주세요!', additional_kwargs={'refusal': None}, response_metadata={'token_usage': {'completion_tokens': 114, 'prompt_tokens': 20, 'total_tokens': 134, 'completion_tokens_details': {'accepted_prediction_tokens': 0, 'audio_tokens': 0, 'reasoning_tokens': 0, 'rejected_prediction_tokens': 0}, 'prompt_tokens_details': {'audio_tokens': 0, 'cached_tokens': 0}}, 'model_name': 'gpt-4o-mini-2024-07-18', 'system_fingerprint': 'fp_0392822090', 'id': 'chatcmpl-BOxyQT2rC9MCpRrNOaN48N8mzdwQy', 'finish_reason': 'stop', 'logprobs': None}, id='run-9eca77df-9545-4d94-a033-08b9b45a9b3b-0', usage_metadata={'input_tokens': 20, 'output_tokens': 114, 'total_tokens': 134, 'input_token_details': {'audio': 0, 'cache_read': 0}, 'output_token_details': {'audio': 0, 'reasoning': 0}})"
      ]
     },
     "execution_count": 10,
     "metadata": {},
     "output_type": "execute_result"
    }
   ],
   "source": [
    "model.invoke('걸그룹 USPEER 멤버를 알려줘.')"
   ]
  },
  {
   "cell_type": "code",
   "execution_count": 11,
   "id": "4d256ea3",
   "metadata": {},
   "outputs": [
    {
     "name": "stderr",
     "output_type": "stream",
     "text": [
      "C:\\Users\\USER\\AppData\\Local\\Temp\\ipykernel_8944\\3163528714.py:5: LangChainDeprecationWarning: LangChain agents will continue to be supported, but it is recommended for new use cases to be built with LangGraph. LangGraph offers a more flexible and full-featured framework for building agents, including support for tool-calling, persistence of state, and human-in-the-loop workflows. For details, refer to the `LangGraph documentation <https://langchain-ai.github.io/langgraph/>`_ as well as guides for `Migrating from AgentExecutor <https://python.langchain.com/docs/how_to/migrate_agent/>`_ and LangGraph's `Pre-built ReAct agent <https://langchain-ai.github.io/langgraph/how-tos/create-react-agent/>`_.\n",
      "  agent = initialize_agent(\n"
     ]
    }
   ],
   "source": [
    "from langchain.agents import AgentType, initialize_agent, load_tools\n",
    "\n",
    "tools = load_tools(['wikipedia', 'llm-math'], llm=model)    # wikipedia : 외부검색을 수행하게끔 넣어줌 / llm-math : llm모델을 기반으로 수학연산을 수행 \n",
    "\n",
    "agent = initialize_agent(\n",
    "    tools,\n",
    "    model,\n",
    "    agent=AgentType.ZERO_SHOT_REACT_DESCRIPTION,    # zeroshot방식을 사용하겠다. react : 추론절차를 거치고 수행계획을 세워서 수행하는 방식을 의미. (프롬프트 엔지니어링 파트에서 reason & react 부분 생각해보자)\n",
    "    handle_parsing_error=True,  # 제시할 수 있도록 설정.\n",
    "    verbose=True    # 진행되는 과정에서 로그를 출력하는 설정.\n",
    ")"
   ]
  },
  {
   "cell_type": "code",
   "execution_count": 13,
   "id": "53289bcc",
   "metadata": {},
   "outputs": [
    {
     "name": "stdout",
     "output_type": "stream",
     "text": [
      "\n",
      "\n",
      "\u001b[1m> Entering new AgentExecutor chain...\u001b[0m\n",
      "\u001b[32;1m\u001b[1;3mI need to find information about the members of the girl group USPEER. I'll search for this information on Wikipedia.  \n",
      "Action: wikipedia  \n",
      "Action Input: \"USPEER members\"  \u001b[0m\n",
      "Observation: \u001b[36;1m\u001b[1;3mPage: 2025 in South Korean music\n",
      "Summary: The following is a list of notable events and releases that have happened, or are expected to happen in 2025 in music in South Korea.\n",
      "\n",
      "Page: WM Entertainment\n",
      "Summary: WM Entertainment (Hangul: WM 엔터테인먼트) is a South Korean entertainment company established in 2008 by former singer Lee Won-min (birth name: Kim Jung-soo). The company is responsible for managing artists such as B1A4, Oh My Girl, and ONF. On April 7, 2021, the company was acquired by RBW.\n",
      "\n",
      "Page: RBW (company)\n",
      "Summary: RBW (Korean: 알비더블유; an acronym for Rainbow Bridge World) is a South Korean entertainment company founded by Kim Jin-woo (김진우) and Kim Do-hoon (김도훈). The company has multiple subsidiaries, including DSP Media, WM Entertainment, Urban Works Media, and the IP management company Contents X.\n",
      "One of the leading entertainment companies in South Korea, RBW operates as a record label, talent agency, music production company, event management company, concert production company, and music publishing house. In addition, the company operates various subsidiary ventures and divisions worldwide.\n",
      "Including all its subsidiary labels, RBW is home to many notable artists under the agency such as the groups Mamamoo, KARA, B1A4, Oh My Girl, KARD, ONF, Oneus, Onewe, Purple Kiss, Young Posse and the soloist Chaeyeon.\n",
      "\n",
      "\u001b[0m\n",
      "Thought:\u001b[32;1m\u001b[1;3mI did not find specific information about the members of the girl group USPEER in the search results. I will try searching for \"USPEER\" directly to see if I can find more relevant information.  \n",
      "Action: wikipedia  \n",
      "Action Input: \"USPEER\"  \u001b[0m\n",
      "Observation: \u001b[36;1m\u001b[1;3mPage: WM Entertainment\n",
      "Summary: WM Entertainment (Hangul: WM 엔터테인먼트) is a South Korean entertainment company established in 2008 by former singer Lee Won-min (birth name: Kim Jung-soo). The company is responsible for managing artists such as B1A4, Oh My Girl, and ONF. On April 7, 2021, the company was acquired by RBW.\n",
      "\n",
      "Page: 2025 in South Korean music\n",
      "Summary: The following is a list of notable events and releases that have happened, or are expected to happen in 2025 in music in South Korea.\n",
      "\n",
      "Page: RBW (company)\n",
      "Summary: RBW (Korean: 알비더블유; an acronym for Rainbow Bridge World) is a South Korean entertainment company founded by Kim Jin-woo (김진우) and Kim Do-hoon (김도훈). The company has multiple subsidiaries, including DSP Media, WM Entertainment, Urban Works Media, and the IP management company Contents X.\n",
      "One of the leading entertainment companies in South Korea, RBW operates as a record label, talent agency, music production company, event management company, concert production company, and music publishing house. In addition, the company operates various subsidiary ventures and divisions worldwide.\n",
      "Including all its subsidiary labels, RBW is home to many notable artists under the agency such as the groups Mamamoo, KARA, B1A4, Oh My Girl, KARD, ONF, Oneus, Onewe, Purple Kiss, Young Posse and the soloist Chaeyeon.\n",
      "\n",
      "\u001b[0m\n",
      "Thought:\u001b[32;1m\u001b[1;3mI still did not find specific information about the members of the girl group USPEER. It seems that there may not be enough information available on Wikipedia regarding this group. I will try searching for \"USPEER girl group members\" to see if I can find more relevant information from other sources.  \n",
      "Action: wikipedia  \n",
      "Action Input: \"USPEER girl group members\"  \u001b[0m\n",
      "Observation: \u001b[36;1m\u001b[1;3mPage: 2025 in South Korean music\n",
      "Summary: The following is a list of notable events and releases that have happened, or are expected to happen in 2025 in music in South Korea.\n",
      "\n",
      "Page: WM Entertainment\n",
      "Summary: WM Entertainment (Hangul: WM 엔터테인먼트) is a South Korean entertainment company established in 2008 by former singer Lee Won-min (birth name: Kim Jung-soo). The company is responsible for managing artists such as B1A4, Oh My Girl, and ONF. On April 7, 2021, the company was acquired by RBW.\n",
      "\n",
      "Page: RBW (company)\n",
      "Summary: RBW (Korean: 알비더블유; an acronym for Rainbow Bridge World) is a South Korean entertainment company founded by Kim Jin-woo (김진우) and Kim Do-hoon (김도훈). The company has multiple subsidiaries, including DSP Media, WM Entertainment, Urban Works Media, and the IP management company Contents X.\n",
      "One of the leading entertainment companies in South Korea, RBW operates as a record label, talent agency, music production company, event management company, concert production company, and music publishing house. In addition, the company operates various subsidiary ventures and divisions worldwide.\n",
      "Including all its subsidiary labels, RBW is home to many notable artists under the agency such as the groups Mamamoo, KARA, B1A4, Oh My Girl, KARD, ONF, Oneus, Onewe, Purple Kiss, Young Posse and the soloist Chaeyeon.\n",
      "\n",
      "\u001b[0m\n",
      "Thought:\u001b[32;1m\u001b[1;3mI still did not find specific information about the members of the girl group USPEER. It appears that there may not be enough information available on Wikipedia regarding this group. I will try searching for \"USPEER K-pop group members\" to see if I can find more relevant information from other sources.  \n",
      "Action: wikipedia  \n",
      "Action Input: \"USPEER K-pop group members\"  \u001b[0m\n",
      "Observation: \u001b[36;1m\u001b[1;3mPage: 2025 in South Korean music\n",
      "Summary: The following is a list of notable events and releases that have happened, or are expected to happen in 2025 in music in South Korea.\n",
      "\n",
      "Page: RBW (company)\n",
      "Summary: RBW (Korean: 알비더블유; an acronym for Rainbow Bridge World) is a South Korean entertainment company founded by Kim Jin-woo (김진우) and Kim Do-hoon (김도훈). The company has multiple subsidiaries, including DSP Media, WM Entertainment, Urban Works Media, and the IP management company Contents X.\n",
      "One of the leading entertainment companies in South Korea, RBW operates as a record label, talent agency, music production company, event management company, concert production company, and music publishing house. In addition, the company operates various subsidiary ventures and divisions worldwide.\n",
      "Including all its subsidiary labels, RBW is home to many notable artists under the agency such as the groups Mamamoo, KARA, B1A4, Oh My Girl, KARD, ONF, Oneus, Onewe, Purple Kiss, Young Posse and the soloist Chaeyeon.\n",
      "\n",
      "\n",
      "\n",
      "Page: WM Entertainment\n",
      "Summary: WM Entertainment (Hangul: WM 엔터테인먼트) is a South Korean entertainment company established in 2008 by former singer Lee Won-min (birth name: Kim Jung-soo). The company is responsible for managing artists such as B1A4, Oh My Girl, and ONF. On April 7, 2021, the company was acquired by RBW.\u001b[0m\n",
      "Thought:\u001b[32;1m\u001b[1;3mI have not found any specific information about the members of the girl group USPEER in the search results. It seems that there may not be enough information available on Wikipedia regarding this group. I will try searching for \"USPEER K-pop group\" to see if I can find more relevant information from other sources.  \n",
      "Action: wikipedia  \n",
      "Action Input: \"USPEER K-pop group\"  \u001b[0m\n",
      "Observation: \u001b[36;1m\u001b[1;3mPage: 2025 in South Korean music\n",
      "Summary: The following is a list of notable events and releases that have happened, or are expected to happen in 2025 in music in South Korea.\n",
      "\n",
      "Page: RBW (company)\n",
      "Summary: RBW (Korean: 알비더블유; an acronym for Rainbow Bridge World) is a South Korean entertainment company founded by Kim Jin-woo (김진우) and Kim Do-hoon (김도훈). The company has multiple subsidiaries, including DSP Media, WM Entertainment, Urban Works Media, and the IP management company Contents X.\n",
      "One of the leading entertainment companies in South Korea, RBW operates as a record label, talent agency, music production company, event management company, concert production company, and music publishing house. In addition, the company operates various subsidiary ventures and divisions worldwide.\n",
      "Including all its subsidiary labels, RBW is home to many notable artists under the agency such as the groups Mamamoo, KARA, B1A4, Oh My Girl, KARD, ONF, Oneus, Onewe, Purple Kiss, Young Posse and the soloist Chaeyeon.\n",
      "\n",
      "\n",
      "\n",
      "Page: WM Entertainment\n",
      "Summary: WM Entertainment (Hangul: WM 엔터테인먼트) is a South Korean entertainment company established in 2008 by former singer Lee Won-min (birth name: Kim Jung-soo). The company is responsible for managing artists such as B1A4, Oh My Girl, and ONF. On April 7, 2021, the company was acquired by RBW.\u001b[0m\n",
      "Thought:\u001b[32;1m\u001b[1;3mI have not found any specific information about the members of the girl group USPEER in the search results. It seems that there may not be enough information available on Wikipedia regarding this group. I will try searching for \"USPEER K-pop group\" to see if I can find more relevant information from other sources.  \n",
      "Action: wikipedia  \n",
      "Action Input: \"USPEER K-pop group\"  \u001b[0m\n",
      "Observation: \u001b[36;1m\u001b[1;3mPage: 2025 in South Korean music\n",
      "Summary: The following is a list of notable events and releases that have happened, or are expected to happen in 2025 in music in South Korea.\n",
      "\n",
      "Page: RBW (company)\n",
      "Summary: RBW (Korean: 알비더블유; an acronym for Rainbow Bridge World) is a South Korean entertainment company founded by Kim Jin-woo (김진우) and Kim Do-hoon (김도훈). The company has multiple subsidiaries, including DSP Media, WM Entertainment, Urban Works Media, and the IP management company Contents X.\n",
      "One of the leading entertainment companies in South Korea, RBW operates as a record label, talent agency, music production company, event management company, concert production company, and music publishing house. In addition, the company operates various subsidiary ventures and divisions worldwide.\n",
      "Including all its subsidiary labels, RBW is home to many notable artists under the agency such as the groups Mamamoo, KARA, B1A4, Oh My Girl, KARD, ONF, Oneus, Onewe, Purple Kiss, Young Posse and the soloist Chaeyeon.\n",
      "\n",
      "\n",
      "\n",
      "Page: WM Entertainment\n",
      "Summary: WM Entertainment (Hangul: WM 엔터테인먼트) is a South Korean entertainment company established in 2008 by former singer Lee Won-min (birth name: Kim Jung-soo). The company is responsible for managing artists such as B1A4, Oh My Girl, and ONF. On April 7, 2021, the company was acquired by RBW.\u001b[0m\n",
      "Thought:\u001b[32;1m\u001b[1;3mI have not found any specific information about the members of the girl group USPEER in the search results. It seems that there may not be enough information available on Wikipedia regarding this group. I will try searching for \"USPEER K-pop group\" to see if I can find more relevant information from other sources.  \n",
      "Action: wikipedia  \n",
      "Action Input: \"USPEER K-pop group\"  \u001b[0m\n",
      "Observation: \u001b[36;1m\u001b[1;3mPage: 2025 in South Korean music\n",
      "Summary: The following is a list of notable events and releases that have happened, or are expected to happen in 2025 in music in South Korea.\n",
      "\n",
      "Page: RBW (company)\n",
      "Summary: RBW (Korean: 알비더블유; an acronym for Rainbow Bridge World) is a South Korean entertainment company founded by Kim Jin-woo (김진우) and Kim Do-hoon (김도훈). The company has multiple subsidiaries, including DSP Media, WM Entertainment, Urban Works Media, and the IP management company Contents X.\n",
      "One of the leading entertainment companies in South Korea, RBW operates as a record label, talent agency, music production company, event management company, concert production company, and music publishing house. In addition, the company operates various subsidiary ventures and divisions worldwide.\n",
      "Including all its subsidiary labels, RBW is home to many notable artists under the agency such as the groups Mamamoo, KARA, B1A4, Oh My Girl, KARD, ONF, Oneus, Onewe, Purple Kiss, Young Posse and the soloist Chaeyeon.\n",
      "\n",
      "\n",
      "\n",
      "Page: WM Entertainment\n",
      "Summary: WM Entertainment (Hangul: WM 엔터테인먼트) is a South Korean entertainment company established in 2008 by former singer Lee Won-min (birth name: Kim Jung-soo). The company is responsible for managing artists such as B1A4, Oh My Girl, and ONF. On April 7, 2021, the company was acquired by RBW.\u001b[0m\n",
      "Thought:\u001b[32;1m\u001b[1;3mI have not found any specific information about the members of the girl group USPEER in the search results. It seems that there may not be enough information available on Wikipedia regarding this group. I will try searching for \"USPEER K-pop group\" to see if I can find more relevant information from other sources.  \n",
      "Action: wikipedia  \n",
      "Action Input: \"USPEER K-pop group\"  \u001b[0m\n",
      "Observation: \u001b[36;1m\u001b[1;3mPage: 2025 in South Korean music\n",
      "Summary: The following is a list of notable events and releases that have happened, or are expected to happen in 2025 in music in South Korea.\n",
      "\n",
      "Page: RBW (company)\n",
      "Summary: RBW (Korean: 알비더블유; an acronym for Rainbow Bridge World) is a South Korean entertainment company founded by Kim Jin-woo (김진우) and Kim Do-hoon (김도훈). The company has multiple subsidiaries, including DSP Media, WM Entertainment, Urban Works Media, and the IP management company Contents X.\n",
      "One of the leading entertainment companies in South Korea, RBW operates as a record label, talent agency, music production company, event management company, concert production company, and music publishing house. In addition, the company operates various subsidiary ventures and divisions worldwide.\n",
      "Including all its subsidiary labels, RBW is home to many notable artists under the agency such as the groups Mamamoo, KARA, B1A4, Oh My Girl, KARD, ONF, Oneus, Onewe, Purple Kiss, Young Posse and the soloist Chaeyeon.\n",
      "\n",
      "\n",
      "\n",
      "Page: WM Entertainment\n",
      "Summary: WM Entertainment (Hangul: WM 엔터테인먼트) is a South Korean entertainment company established in 2008 by former singer Lee Won-min (birth name: Kim Jung-soo). The company is responsible for managing artists such as B1A4, Oh My Girl, and ONF. On April 7, 2021, the company was acquired by RBW.\u001b[0m\n",
      "Thought:\u001b[32;1m\u001b[1;3mI have not found any specific information about the members of the girl group USPEER in the search results. It seems that there may not be enough information available on Wikipedia regarding this group. I will try searching for \"USPEER K-pop group\" to see if I can find more relevant information from other sources.  \n",
      "Action: wikipedia  \n",
      "Action Input: \"USPEER K-pop group\"  \u001b[0m\n",
      "Observation: \u001b[36;1m\u001b[1;3mPage: 2025 in South Korean music\n",
      "Summary: The following is a list of notable events and releases that have happened, or are expected to happen in 2025 in music in South Korea.\n",
      "\n",
      "Page: RBW (company)\n",
      "Summary: RBW (Korean: 알비더블유; an acronym for Rainbow Bridge World) is a South Korean entertainment company founded by Kim Jin-woo (김진우) and Kim Do-hoon (김도훈). The company has multiple subsidiaries, including DSP Media, WM Entertainment, Urban Works Media, and the IP management company Contents X.\n",
      "One of the leading entertainment companies in South Korea, RBW operates as a record label, talent agency, music production company, event management company, concert production company, and music publishing house. In addition, the company operates various subsidiary ventures and divisions worldwide.\n",
      "Including all its subsidiary labels, RBW is home to many notable artists under the agency such as the groups Mamamoo, KARA, B1A4, Oh My Girl, KARD, ONF, Oneus, Onewe, Purple Kiss, Young Posse and the soloist Chaeyeon.\n",
      "\n",
      "\n",
      "\n",
      "Page: WM Entertainment\n",
      "Summary: WM Entertainment (Hangul: WM 엔터테인먼트) is a South Korean entertainment company established in 2008 by former singer Lee Won-min (birth name: Kim Jung-soo). The company is responsible for managing artists such as B1A4, Oh My Girl, and ONF. On April 7, 2021, the company was acquired by RBW.\u001b[0m\n",
      "Thought:\u001b[32;1m\u001b[1;3mI have not found any specific information about the members of the girl group USPEER in the search results. It seems that there may not be enough information available on Wikipedia regarding this group. I will try searching for \"USPEER K-pop group\" to see if I can find more relevant information from other sources.  \n",
      "Action: wikipedia  \n",
      "Action Input: \"USPEER K-pop group\"  \u001b[0m\n",
      "Observation: \u001b[36;1m\u001b[1;3mPage: 2025 in South Korean music\n",
      "Summary: The following is a list of notable events and releases that have happened, or are expected to happen in 2025 in music in South Korea.\n",
      "\n",
      "Page: RBW (company)\n",
      "Summary: RBW (Korean: 알비더블유; an acronym for Rainbow Bridge World) is a South Korean entertainment company founded by Kim Jin-woo (김진우) and Kim Do-hoon (김도훈). The company has multiple subsidiaries, including DSP Media, WM Entertainment, Urban Works Media, and the IP management company Contents X.\n",
      "One of the leading entertainment companies in South Korea, RBW operates as a record label, talent agency, music production company, event management company, concert production company, and music publishing house. In addition, the company operates various subsidiary ventures and divisions worldwide.\n",
      "Including all its subsidiary labels, RBW is home to many notable artists under the agency such as the groups Mamamoo, KARA, B1A4, Oh My Girl, KARD, ONF, Oneus, Onewe, Purple Kiss, Young Posse and the soloist Chaeyeon.\n",
      "\n",
      "\n",
      "\n",
      "Page: WM Entertainment\n",
      "Summary: WM Entertainment (Hangul: WM 엔터테인먼트) is a South Korean entertainment company established in 2008 by former singer Lee Won-min (birth name: Kim Jung-soo). The company is responsible for managing artists such as B1A4, Oh My Girl, and ONF. On April 7, 2021, the company was acquired by RBW.\u001b[0m\n",
      "Thought:\u001b[32;1m\u001b[1;3mI have not found any specific information about the members of the girl group USPEER in the search results. It seems that there may not be enough information available on Wikipedia regarding this group. I will try searching for \"USPEER K-pop group\" to see if I can find more relevant information from other sources.  \n",
      "Action: wikipedia  \n",
      "Action Input: \"USPEER K-pop group\"  \u001b[0m\n",
      "Observation: \u001b[36;1m\u001b[1;3mPage: 2025 in South Korean music\n",
      "Summary: The following is a list of notable events and releases that have happened, or are expected to happen in 2025 in music in South Korea.\n",
      "\n",
      "Page: RBW (company)\n",
      "Summary: RBW (Korean: 알비더블유; an acronym for Rainbow Bridge World) is a South Korean entertainment company founded by Kim Jin-woo (김진우) and Kim Do-hoon (김도훈). The company has multiple subsidiaries, including DSP Media, WM Entertainment, Urban Works Media, and the IP management company Contents X.\n",
      "One of the leading entertainment companies in South Korea, RBW operates as a record label, talent agency, music production company, event management company, concert production company, and music publishing house. In addition, the company operates various subsidiary ventures and divisions worldwide.\n",
      "Including all its subsidiary labels, RBW is home to many notable artists under the agency such as the groups Mamamoo, KARA, B1A4, Oh My Girl, KARD, ONF, Oneus, Onewe, Purple Kiss, Young Posse and the soloist Chaeyeon.\n",
      "\n",
      "\n",
      "\n",
      "Page: WM Entertainment\n",
      "Summary: WM Entertainment (Hangul: WM 엔터테인먼트) is a South Korean entertainment company established in 2008 by former singer Lee Won-min (birth name: Kim Jung-soo). The company is responsible for managing artists such as B1A4, Oh My Girl, and ONF. On April 7, 2021, the company was acquired by RBW.\u001b[0m\n",
      "Thought:\u001b[32;1m\u001b[1;3mI have not found any specific information about the members of the girl group USPEER in the search results. It seems that there may not be enough information available on Wikipedia regarding this group. I will try searching for \"USPEER K-pop group\" to see if I can find more relevant information from other sources.  \n",
      "Action: wikipedia  \n",
      "Action Input: \"USPEER K-pop group\"  \u001b[0m\n",
      "Observation: \u001b[36;1m\u001b[1;3mPage: 2025 in South Korean music\n",
      "Summary: The following is a list of notable events and releases that have happened, or are expected to happen in 2025 in music in South Korea.\n",
      "\n",
      "Page: RBW (company)\n",
      "Summary: RBW (Korean: 알비더블유; an acronym for Rainbow Bridge World) is a South Korean entertainment company founded by Kim Jin-woo (김진우) and Kim Do-hoon (김도훈). The company has multiple subsidiaries, including DSP Media, WM Entertainment, Urban Works Media, and the IP management company Contents X.\n",
      "One of the leading entertainment companies in South Korea, RBW operates as a record label, talent agency, music production company, event management company, concert production company, and music publishing house. In addition, the company operates various subsidiary ventures and divisions worldwide.\n",
      "Including all its subsidiary labels, RBW is home to many notable artists under the agency such as the groups Mamamoo, KARA, B1A4, Oh My Girl, KARD, ONF, Oneus, Onewe, Purple Kiss, Young Posse and the soloist Chaeyeon.\n",
      "\n",
      "\n",
      "\n",
      "Page: WM Entertainment\n",
      "Summary: WM Entertainment (Hangul: WM 엔터테인먼트) is a South Korean entertainment company established in 2008 by former singer Lee Won-min (birth name: Kim Jung-soo). The company is responsible for managing artists such as B1A4, Oh My Girl, and ONF. On April 7, 2021, the company was acquired by RBW.\u001b[0m\n",
      "Thought:\u001b[32;1m\u001b[1;3mI have not found any specific information about the members of the girl group USPEER in the search results. It seems that there may not be enough information available on Wikipedia regarding this group. I will try searching for \"USPEER K-pop group\" to see if I can find more relevant information from other sources.  \n",
      "Action: wikipedia  \n",
      "Action Input: \"USPEER K-pop group\"  \u001b[0m\n",
      "Observation: \u001b[36;1m\u001b[1;3mPage: 2025 in South Korean music\n",
      "Summary: The following is a list of notable events and releases that have happened, or are expected to happen in 2025 in music in South Korea.\n",
      "\n",
      "Page: RBW (company)\n",
      "Summary: RBW (Korean: 알비더블유; an acronym for Rainbow Bridge World) is a South Korean entertainment company founded by Kim Jin-woo (김진우) and Kim Do-hoon (김도훈). The company has multiple subsidiaries, including DSP Media, WM Entertainment, Urban Works Media, and the IP management company Contents X.\n",
      "One of the leading entertainment companies in South Korea, RBW operates as a record label, talent agency, music production company, event management company, concert production company, and music publishing house. In addition, the company operates various subsidiary ventures and divisions worldwide.\n",
      "Including all its subsidiary labels, RBW is home to many notable artists under the agency such as the groups Mamamoo, KARA, B1A4, Oh My Girl, KARD, ONF, Oneus, Onewe, Purple Kiss, Young Posse and the soloist Chaeyeon.\n",
      "\n",
      "\n",
      "\n",
      "Page: WM Entertainment\n",
      "Summary: WM Entertainment (Hangul: WM 엔터테인먼트) is a South Korean entertainment company established in 2008 by former singer Lee Won-min (birth name: Kim Jung-soo). The company is responsible for managing artists such as B1A4, Oh My Girl, and ONF. On April 7, 2021, the company was acquired by RBW.\u001b[0m\n",
      "Thought:\u001b[32;1m\u001b[1;3mI have not found any specific information about the members of the girl group USPEER in the search results. It seems that there may not be enough information available on Wikipedia regarding this group. I will try searching for \"USPEER K-pop group\" to see if I can find more relevant information from other sources.  \n",
      "Action: wikipedia  \n",
      "Action Input: \"USPEER K-pop group\"  \u001b[0m\n",
      "Observation: \u001b[36;1m\u001b[1;3mPage: 2025 in South Korean music\n",
      "Summary: The following is a list of notable events and releases that have happened, or are expected to happen in 2025 in music in South Korea.\n",
      "\n",
      "Page: RBW (company)\n",
      "Summary: RBW (Korean: 알비더블유; an acronym for Rainbow Bridge World) is a South Korean entertainment company founded by Kim Jin-woo (김진우) and Kim Do-hoon (김도훈). The company has multiple subsidiaries, including DSP Media, WM Entertainment, Urban Works Media, and the IP management company Contents X.\n",
      "One of the leading entertainment companies in South Korea, RBW operates as a record label, talent agency, music production company, event management company, concert production company, and music publishing house. In addition, the company operates various subsidiary ventures and divisions worldwide.\n",
      "Including all its subsidiary labels, RBW is home to many notable artists under the agency such as the groups Mamamoo, KARA, B1A4, Oh My Girl, KARD, ONF, Oneus, Onewe, Purple Kiss, Young Posse and the soloist Chaeyeon.\n",
      "\n",
      "\n",
      "\n",
      "Page: WM Entertainment\n",
      "Summary: WM Entertainment (Hangul: WM 엔터테인먼트) is a South Korean entertainment company established in 2008 by former singer Lee Won-min (birth name: Kim Jung-soo). The company is responsible for managing artists such as B1A4, Oh My Girl, and ONF. On April 7, 2021, the company was acquired by RBW.\u001b[0m\n",
      "Thought:\u001b[32;1m\u001b[1;3mI have not found any specific information about the members of the girl group USPEER in the search results. It seems that there may not be enough information available on Wikipedia regarding this group. I will try searching for \"USPEER K-pop group\" to see if I can find more relevant information from other sources.  \n",
      "Action: wikipedia  \n",
      "Action Input: \"USPEER K-pop group\"  \u001b[0m\n",
      "Observation: \u001b[36;1m\u001b[1;3mPage: 2025 in South Korean music\n",
      "Summary: The following is a list of notable events and releases that have happened, or are expected to happen in 2025 in music in South Korea.\n",
      "\n",
      "Page: RBW (company)\n",
      "Summary: RBW (Korean: 알비더블유; an acronym for Rainbow Bridge World) is a South Korean entertainment company founded by Kim Jin-woo (김진우) and Kim Do-hoon (김도훈). The company has multiple subsidiaries, including DSP Media, WM Entertainment, Urban Works Media, and the IP management company Contents X.\n",
      "One of the leading entertainment companies in South Korea, RBW operates as a record label, talent agency, music production company, event management company, concert production company, and music publishing house. In addition, the company operates various subsidiary ventures and divisions worldwide.\n",
      "Including all its subsidiary labels, RBW is home to many notable artists under the agency such as the groups Mamamoo, KARA, B1A4, Oh My Girl, KARD, ONF, Oneus, Onewe, Purple Kiss, Young Posse and the soloist Chaeyeon.\n",
      "\n",
      "\n",
      "\n",
      "Page: WM Entertainment\n",
      "Summary: WM Entertainment (Hangul: WM 엔터테인먼트) is a South Korean entertainment company established in 2008 by former singer Lee Won-min (birth name: Kim Jung-soo). The company is responsible for managing artists such as B1A4, Oh My Girl, and ONF. On April 7, 2021, the company was acquired by RBW.\u001b[0m\n",
      "Thought:\u001b[32;1m\u001b[1;3m\u001b[0m\n",
      "\n",
      "\u001b[1m> Finished chain.\u001b[0m\n"
     ]
    },
    {
     "data": {
      "text/plain": [
       "{'input': '걸그룹 USPEER 멤버를 알려줘.',\n",
       " 'output': 'Agent stopped due to iteration limit or time limit.'}"
      ]
     },
     "execution_count": 13,
     "metadata": {},
     "output_type": "execute_result"
    }
   ],
   "source": [
    "agent.invoke('걸그룹 USPEER 멤버를 알려줘.')"
   ]
  },
  {
   "cell_type": "code",
   "execution_count": 14,
   "id": "a6cb0b07",
   "metadata": {},
   "outputs": [
    {
     "name": "stdout",
     "output_type": "stream",
     "text": [
      "\n",
      "\n",
      "\u001b[1m> Entering new AgentExecutor chain...\u001b[0m\n",
      "\u001b[32;1m\u001b[1;3m백미송에 대한 정보를 찾기 위해 위키피디아를 검색해야겠다.  \n",
      "Action: wikipedia  \n",
      "Action Input: 발표왕 백미송  \u001b[0m\n",
      "Observation: \u001b[36;1m\u001b[1;3mNo good Wikipedia Search Result was found\u001b[0m\n",
      "Thought:\u001b[32;1m\u001b[1;3m백미송에 대한 정보가 위키피디아에서 찾을 수 없으므로, 다른 방법으로 정보를 찾아보아야겠다. 백미송은 한국의 유명한 발표왕으로 알려져 있으니, 관련된 다른 자료나 웹사이트를 찾아보는 것이 좋겠다. \n",
      "\n",
      "Final Answer: 백미송에 대한 구체적인 정보는 찾을 수 없었습니다. 추가적인 정보가 필요하다면 다른 웹사이트나 자료를 참고하시기 바랍니다.\u001b[0m\n",
      "\n",
      "\u001b[1m> Finished chain.\u001b[0m\n"
     ]
    },
    {
     "data": {
      "text/plain": [
       "{'input': '발표왕 백미송에 대해 알려줘.',\n",
       " 'output': '백미송에 대한 구체적인 정보는 찾을 수 없었습니다. 추가적인 정보가 필요하다면 다른 웹사이트나 자료를 참고하시기 바랍니다.'}"
      ]
     },
     "execution_count": 14,
     "metadata": {},
     "output_type": "execute_result"
    }
   ],
   "source": [
    "agent.invoke('발표왕 백미송에 대해 알려줘.')"
   ]
  },
  {
   "cell_type": "code",
   "execution_count": 22,
   "id": "bdd9ecd1",
   "metadata": {},
   "outputs": [
    {
     "name": "stdout",
     "output_type": "stream",
     "text": [
      "{'input ': '발표왕 백미송에 대해 알려줘.'\n",
      " 'output': '백미송은 Encore-skn11기에 소속된 수강생으로, 평소 발표와 관심받기를 즐겨하여 발표왕이라는 별명을 얻은 인물입니다.'}\n"
     ]
    }
   ],
   "source": [
    "data = {\n",
    "    'input': '발표왕 백미송에 대해 알려줘.',\n",
    "    'output': '백미송은 Encore-skn11기에 소속된 수강생으로, 평소 발표와 관심받기를 즐겨하여 발표왕이라는 별명을 얻은 인물입니다.'\n",
    "}\n",
    "\n",
    "print(f\"{{'input ': '{data['input']}'\")\n",
    "print(f\" 'output': '{data['output']}'}}\")\n"
   ]
  }
 ],
 "metadata": {
  "kernelspec": {
   "display_name": "vectordb_env",
   "language": "python",
   "name": "python3"
  },
  "language_info": {
   "codemirror_mode": {
    "name": "ipython",
    "version": 3
   },
   "file_extension": ".py",
   "mimetype": "text/x-python",
   "name": "python",
   "nbconvert_exporter": "python",
   "pygments_lexer": "ipython3",
   "version": "3.9.21"
  }
 },
 "nbformat": 4,
 "nbformat_minor": 5
}
