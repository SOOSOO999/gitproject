{
 "cells": [
  {
   "cell_type": "markdown",
   "metadata": {
    "id": "80i60cqZ_Tm0"
   },
   "source": [
    "# TTS (Text to Speech)\n",
    "\n",
    "- TTS 모델은 텍스트를 자연스러운 음성으로 변환하는 AI 모델이다.\n",
    "  - tts-1 : 실시간 텍스트-음성 변환에 최적화된 최신 모델로 속도에 중점. 텍스트를 음성으로 빠르게 변환하는 기능 제공.\n",
    "  - tts-1-hd : 품질에 최적화된 최신 텍스트-음성 변환 모델로 높은 품질에 중점. 음성의 자연스러움과 선명도 강조.\n",
    "  </br>\n",
    "  </br>\n",
    "- 음성 선택지\n",
    "  - Alloy: 부드럽고 자연스러운 톤의 음성\n",
    "  - Echo: 명확하고 자신감 있는 음성\n",
    "  - Fable: 이야기 전달에 적합한 서정적인 음성\n",
    "  - Onyx: 전문적이고 신뢰감을 주는 음성\n",
    "  - Nova: 활기차고 에너지 넘치는 음성\n",
    "  - Shimmer: 부드럽고 진정시키는 음성"
   ]
  },
  {
   "cell_type": "code",
   "execution_count": 4,
   "metadata": {
    "colab": {
     "base_uri": "https://localhost:8080/"
    },
    "executionInfo": {
     "elapsed": 2922,
     "status": "ok",
     "timestamp": 1744780496553,
     "user": {
      "displayName": "JS B",
      "userId": "14406863337187805558"
     },
     "user_tz": -540
    },
    "id": "G7M_rSXoBVwV",
    "outputId": "4b7befb9-d34e-4880-e75b-ad5fcd604cd2"
   },
   "outputs": [
    {
     "name": "stdout",
     "output_type": "stream",
     "text": [
      "Requirement already satisfied: dotenv in c:\\users\\user\\anaconda3\\envs\\pystudy_env\\lib\\site-packages (0.9.9)\n",
      "Requirement already satisfied: python-dotenv in c:\\users\\user\\anaconda3\\envs\\pystudy_env\\lib\\site-packages (from dotenv) (1.1.0)\n"
     ]
    }
   ],
   "source": [
    "!pip install dotenv"
   ]
  },
  {
   "cell_type": "code",
   "execution_count": 5,
   "metadata": {
    "colab": {
     "base_uri": "https://localhost:8080/"
    },
    "executionInfo": {
     "elapsed": 8,
     "status": "ok",
     "timestamp": 1744780496565,
     "user": {
      "displayName": "JS B",
      "userId": "14406863337187805558"
     },
     "user_tz": -540
    },
    "id": "my10uKDtBQwY",
    "outputId": "817124f3-5d4f-47ea-cbd9-9a796a18f217"
   },
   "outputs": [
    {
     "data": {
      "text/plain": [
       "False"
      ]
     },
     "execution_count": 5,
     "metadata": {},
     "output_type": "execute_result"
    }
   ],
   "source": [
    "from dotenv import load_dotenv\n",
    "\n",
    "load_dotenv()"
   ]
  },
  {
   "cell_type": "code",
   "execution_count": 6,
   "metadata": {
    "executionInfo": {
     "elapsed": 6558,
     "status": "ok",
     "timestamp": 1744781205730,
     "user": {
      "displayName": "JS B",
      "userId": "14406863337187805558"
     },
     "user_tz": -540
    },
    "id": "rycff0ZtBafC"
   },
   "outputs": [
    {
     "ename": "ModuleNotFoundError",
     "evalue": "No module named 'openai'",
     "output_type": "error",
     "traceback": [
      "\u001b[1;31m---------------------------------------------------------------------------\u001b[0m",
      "\u001b[1;31mModuleNotFoundError\u001b[0m                       Traceback (most recent call last)",
      "Cell \u001b[1;32mIn[6], line 1\u001b[0m\n\u001b[1;32m----> 1\u001b[0m \u001b[38;5;28;01mfrom\u001b[39;00m\u001b[38;5;250m \u001b[39m\u001b[38;5;21;01mopenai\u001b[39;00m\u001b[38;5;250m \u001b[39m\u001b[38;5;28;01mimport\u001b[39;00m OpenAI\n\u001b[0;32m      3\u001b[0m client \u001b[38;5;241m=\u001b[39m OpenAI()\n\u001b[0;32m      5\u001b[0m input_text \u001b[38;5;241m=\u001b[39m \u001b[38;5;124m\"\u001b[39m\u001b[38;5;124m사람의 귀천은 행실이 가늠하는 것이지. 신분의 고하에 구애되지를 않는다. 신분의 한계를 핑계 삼아서 헛되이 살지 말거라. 의원이라고 자처하는 하고 많은 부류 중에 내가 진실로 의원으로 인정하는 것은 심의뿐이다. 마음심자 \u001b[39m\u001b[38;5;124m'\u001b[39m\u001b[38;5;124m심의\u001b[39m\u001b[38;5;124m'\u001b[39m\u001b[38;5;124m. 병자를 대하여 진실로 긍휼히 여기는 마음가짐이 있어야 심의야. 허명만 좇지 말고. 세상에 진실로 기다리고 있는 의원은 오로지 심의 뿐이라는 것을 명심해라.\u001b[39m\u001b[38;5;124m\"\u001b[39m\n",
      "\u001b[1;31mModuleNotFoundError\u001b[0m: No module named 'openai'"
     ]
    }
   ],
   "source": [
    "from openai import OpenAI\n",
    "\n",
    "client = OpenAI()\n",
    "\n",
    "input_text = \"사람의 귀천은 행실이 가늠하는 것이지. 신분의 고하에 구애되지를 않는다. 신분의 한계를 핑계 삼아서 헛되이 살지 말거라. 의원이라고 자처하는 하고 많은 부류 중에 내가 진실로 의원으로 인정하는 것은 심의뿐이다. 마음심자 '심의'. 병자를 대하여 진실로 긍휼히 여기는 마음가짐이 있어야 심의야. 허명만 좇지 말고. 세상에 진실로 기다리고 있는 의원은 오로지 심의 뿐이라는 것을 명심해라.\"\n",
    "\n",
    "with client.audio.speech.with_streaming_response.create(\n",
    "    model=\"tts-1\",\n",
    "    voice=\"fable\",\n",
    "    input=input_text\n",
    ") as response:\n",
    "  response.stream_to_file(\"tts_output.mp3\")"
   ]
  },
  {
   "cell_type": "markdown",
   "metadata": {
    "id": "ftgORu1d_S85"
   },
   "source": [
    "# STT (Speech to Text)\n",
    "\n",
    "- Whisper는 OpenAI에서 개발한 범용 음성 인식 모델로, 다양한 오디오 데이터셋을 학습하여 다국어 음성 인식, 음성 번역, 언어 식별 등의 작업을 수행할 수 있다."
   ]
  },
  {
   "cell_type": "code",
   "execution_count": null,
   "metadata": {
    "colab": {
     "base_uri": "https://localhost:8080/"
    },
    "executionInfo": {
     "elapsed": 2120,
     "status": "ok",
     "timestamp": 1744782151833,
     "user": {
      "displayName": "JS B",
      "userId": "14406863337187805558"
     },
     "user_tz": -540
    },
    "id": "0mNXmYt7G909",
    "outputId": "d9afdcc1-a316-46f3-ab8d-4ad9ceac1d42"
   },
   "outputs": [
    {
     "name": "stdout",
     "output_type": "stream",
     "text": [
      "Transcription(text='사람의 귀천은 행실이 가늠하는 것이지 신분의 고아에 구애되지를 않는다. 신분의 한계를 핑계삼아서 헛되이 살지 말거라. 의원이라고 자처하는 하고 많은 부류 중에 내가 진실로 의원으로 인정하는 것은 심의뿐이다. 마음심자 심의. 병자를 대하여 진실로 근큐리 여기는 마음가짐이 있어야 심의야. 허명만 접지 말고 세상의 진실로 기다리고 있는 의원은 오로지 심의뿐이라는 것을 명심해라.', logprobs=None)\n"
     ]
    }
   ],
   "source": [
    "from openai import OpenAI\n",
    "\n",
    "client = OpenAI()\n",
    "\n",
    "with open(\"tts_output.mp3\", \"rb\") as f:\n",
    "  transcriptions = client.audio.transcriptions.create(\n",
    "      model=\"whisper-1\",\n",
    "      file=f\n",
    "  )\n",
    "  print(transcriptions)"
   ]
  },
  {
   "cell_type": "markdown",
   "metadata": {},
   "source": [
    "---"
   ]
  },
  {
   "cell_type": "markdown",
   "metadata": {},
   "source": [
    "# gTTS"
   ]
  },
  {
   "cell_type": "code",
   "execution_count": null,
   "metadata": {},
   "outputs": [
    {
     "name": "stdout",
     "output_type": "stream",
     "text": [
      "Collecting gtts\n",
      "  Downloading gTTS-2.5.4-py3-none-any.whl.metadata (4.1 kB)\n",
      "Requirement already satisfied: requests<3,>=2.27 in c:\\users\\user\\anaconda3\\envs\\pystudy_env\\lib\\site-packages (from gtts) (2.32.3)\n",
      "Requirement already satisfied: click<8.2,>=7.1 in c:\\users\\user\\anaconda3\\envs\\pystudy_env\\lib\\site-packages (from gtts) (8.1.7)\n",
      "Requirement already satisfied: colorama in c:\\users\\user\\anaconda3\\envs\\pystudy_env\\lib\\site-packages (from click<8.2,>=7.1->gtts) (0.4.6)\n",
      "Requirement already satisfied: charset-normalizer<4,>=2 in c:\\users\\user\\anaconda3\\envs\\pystudy_env\\lib\\site-packages (from requests<3,>=2.27->gtts) (3.4.1)\n",
      "Requirement already satisfied: idna<4,>=2.5 in c:\\users\\user\\anaconda3\\envs\\pystudy_env\\lib\\site-packages (from requests<3,>=2.27->gtts) (3.10)\n",
      "Requirement already satisfied: urllib3<3,>=1.21.1 in c:\\users\\user\\anaconda3\\envs\\pystudy_env\\lib\\site-packages (from requests<3,>=2.27->gtts) (2.3.0)\n",
      "Requirement already satisfied: certifi>=2017.4.17 in c:\\users\\user\\anaconda3\\envs\\pystudy_env\\lib\\site-packages (from requests<3,>=2.27->gtts) (2025.1.31)\n",
      "Downloading gTTS-2.5.4-py3-none-any.whl (29 kB)\n",
      "Installing collected packages: gtts\n",
      "Successfully installed gtts-2.5.4\n"
     ]
    }
   ],
   "source": [
    "# !pip install gtts"
   ]
  },
  {
   "cell_type": "code",
   "execution_count": null,
   "metadata": {},
   "outputs": [],
   "source": [
    "from gtts import gTTS\n",
    "\n",
    "tts = gTTS(text=\"안녕하세요, 저는 래빗입니다. 좋은 하루입니다!\", lang=\"ko\")\n",
    "\n",
    "tts.save('gtts_output.mp3')"
   ]
  },
  {
   "cell_type": "markdown",
   "metadata": {},
   "source": [
    "# SpeechRecognition"
   ]
  },
  {
   "attachments": {
    "image.png": {
     "image/png": "[encoded data removed]"
    }
   },
   "cell_type": "markdown",
   "metadata": {},
   "source": [
    "![image.png](attachment:image.png)"
   ]
  },
  {
   "cell_type": "code",
   "execution_count": null,
   "metadata": {},
   "outputs": [
    {
     "name": "stdout",
     "output_type": "stream",
     "text": [
      "Requirement already satisfied: SpeechRecognition in c:\\users\\user\\anaconda3\\envs\\pystudy_env\\lib\\site-packages (3.14.2)\n",
      "Requirement already satisfied: typing-extensions in c:\\users\\user\\anaconda3\\envs\\pystudy_env\\lib\\site-packages (from SpeechRecognition) (4.12.2)\n",
      "Note: you may need to restart the kernel to use updated packages.\n"
     ]
    }
   ],
   "source": [
    "# %pip install SpeechRecognition"
   ]
  },
  {
   "cell_type": "code",
   "execution_count": null,
   "metadata": {},
   "outputs": [
    {
     "name": "stdout",
     "output_type": "stream",
     "text": [
      "Requirement already satisfied: pydub in c:\\users\\user\\anaconda3\\envs\\pystudy_env\\lib\\site-packages (0.25.1)\n",
      "Requirement already satisfied: pyaudio in c:\\users\\user\\anaconda3\\envs\\pystudy_env\\lib\\site-packages (0.2.14)\n",
      "Note: you may need to restart the kernel to use updated packages.\n"
     ]
    }
   ],
   "source": [
    "# %pip install pydub pyaudio"
   ]
  },
  {
   "cell_type": "code",
   "execution_count": 8,
   "metadata": {},
   "outputs": [
    {
     "name": "stdout",
     "output_type": "stream",
     "text": [
      "말씀하세요.\n",
      "아아아\n",
      "말씀하세요.\n"
     ]
    },
    {
     "ename": "UnknownValueError",
     "evalue": "",
     "output_type": "error",
     "traceback": [
      "\u001b[1;31m---------------------------------------------------------------------------\u001b[0m",
      "\u001b[1;31mUnknownValueError\u001b[0m                         Traceback (most recent call last)",
      "Cell \u001b[1;32mIn[8], line 10\u001b[0m\n\u001b[0;32m      8\u001b[0m \u001b[38;5;28mprint\u001b[39m(\u001b[38;5;124m\"\u001b[39m\u001b[38;5;124m말씀하세요.\u001b[39m\u001b[38;5;124m\"\u001b[39m)\n\u001b[0;32m      9\u001b[0m audio \u001b[38;5;241m=\u001b[39m recognizer\u001b[38;5;241m.\u001b[39mlisten(source)   \u001b[38;5;66;03m# 음성 데이터 수집 \u001b[39;00m\n\u001b[1;32m---> 10\u001b[0m txt \u001b[38;5;241m=\u001b[39m \u001b[43mrecognizer\u001b[49m\u001b[38;5;241;43m.\u001b[39;49m\u001b[43mrecognize_google\u001b[49m\u001b[43m(\u001b[49m\u001b[43maudio\u001b[49m\u001b[43m,\u001b[49m\u001b[43m \u001b[49m\u001b[43mlanguage\u001b[49m\u001b[38;5;241;43m=\u001b[39;49m\u001b[38;5;124;43m\"\u001b[39;49m\u001b[38;5;124;43mko-KR\u001b[39;49m\u001b[38;5;124;43m\"\u001b[39;49m\u001b[43m)\u001b[49m   \u001b[38;5;66;03m# 음성 -> 텍스트 변환\u001b[39;00m\n\u001b[0;32m     11\u001b[0m \u001b[38;5;28mprint\u001b[39m(txt)\n",
      "File \u001b[1;32mc:\\Users\\USER\\anaconda3\\envs\\pystudy_env\\Lib\\site-packages\\speech_recognition\\recognizers\\google.py:262\u001b[0m, in \u001b[0;36mrecognize_legacy\u001b[1;34m(recognizer, audio_data, key, language, pfilter, show_all, with_confidence, endpoint)\u001b[0m\n\u001b[0;32m    255\u001b[0m response_text \u001b[38;5;241m=\u001b[39m obtain_transcription(\n\u001b[0;32m    256\u001b[0m     request, timeout\u001b[38;5;241m=\u001b[39mrecognizer\u001b[38;5;241m.\u001b[39moperation_timeout\n\u001b[0;32m    257\u001b[0m )\n\u001b[0;32m    259\u001b[0m output_parser \u001b[38;5;241m=\u001b[39m OutputParser(\n\u001b[0;32m    260\u001b[0m     show_all\u001b[38;5;241m=\u001b[39mshow_all, with_confidence\u001b[38;5;241m=\u001b[39mwith_confidence\n\u001b[0;32m    261\u001b[0m )\n\u001b[1;32m--> 262\u001b[0m \u001b[38;5;28;01mreturn\u001b[39;00m \u001b[43moutput_parser\u001b[49m\u001b[38;5;241;43m.\u001b[39;49m\u001b[43mparse\u001b[49m\u001b[43m(\u001b[49m\u001b[43mresponse_text\u001b[49m\u001b[43m)\u001b[49m\n",
      "File \u001b[1;32mc:\\Users\\USER\\anaconda3\\envs\\pystudy_env\\Lib\\site-packages\\speech_recognition\\recognizers\\google.py:134\u001b[0m, in \u001b[0;36mOutputParser.parse\u001b[1;34m(self, response_text)\u001b[0m\n\u001b[0;32m    133\u001b[0m \u001b[38;5;28;01mdef\u001b[39;00m\u001b[38;5;250m \u001b[39m\u001b[38;5;21mparse\u001b[39m(\u001b[38;5;28mself\u001b[39m, response_text: \u001b[38;5;28mstr\u001b[39m):\n\u001b[1;32m--> 134\u001b[0m     actual_result \u001b[38;5;241m=\u001b[39m \u001b[38;5;28;43mself\u001b[39;49m\u001b[38;5;241;43m.\u001b[39;49m\u001b[43mconvert_to_result\u001b[49m\u001b[43m(\u001b[49m\u001b[43mresponse_text\u001b[49m\u001b[43m)\u001b[49m\n\u001b[0;32m    135\u001b[0m     \u001b[38;5;28;01mif\u001b[39;00m \u001b[38;5;28mself\u001b[39m\u001b[38;5;241m.\u001b[39mshow_all:\n\u001b[0;32m    136\u001b[0m         \u001b[38;5;28;01mreturn\u001b[39;00m actual_result\n",
      "File \u001b[1;32mc:\\Users\\USER\\anaconda3\\envs\\pystudy_env\\Lib\\site-packages\\speech_recognition\\recognizers\\google.py:183\u001b[0m, in \u001b[0;36mOutputParser.convert_to_result\u001b[1;34m(response_text)\u001b[0m\n\u001b[0;32m    181\u001b[0m             \u001b[38;5;28;01mraise\u001b[39;00m UnknownValueError()\n\u001b[0;32m    182\u001b[0m         \u001b[38;5;28;01mreturn\u001b[39;00m result[\u001b[38;5;241m0\u001b[39m]\n\u001b[1;32m--> 183\u001b[0m \u001b[38;5;28;01mraise\u001b[39;00m UnknownValueError()\n",
      "\u001b[1;31mUnknownValueError\u001b[0m: "
     ]
    }
   ],
   "source": [
    "# 음성 입력 -> 텍스트 출력 \n",
    "import speech_recognition as sr\n",
    "\n",
    "recognizer = sr.Recognizer()\n",
    "\n",
    "while True: # 마이크로부터 음성을 계속 입력받기 위한 무한 루프\n",
    "    with sr.Microphone() as source: # 마이크로부터 음성 감지\n",
    "        print(\"말씀하세요.\")\n",
    "        audio = recognizer.listen(source)   # 음성 데이터 수집 \n",
    "        txt = recognizer.recognize_google(audio, language=\"ko-KR\")   # 음성 -> 텍스트 변환\n",
    "        print(txt)"
   ]
  },
  {
   "cell_type": "code",
   "execution_count": null,
   "metadata": {},
   "outputs": [],
   "source": [
    "from pydub import AudioSegment\n",
    "import speech_recognition as sr\n",
    "\n",
    "# .mp3 파일을 .wav로 변환 \n",
    "audio = AudioSegment.from_mp3('gtts_output.mp3')\n",
    "audio.export('gtts_output_wav.wav', format='wav')\n",
    "\n",
    "# 파일 로드\n",
    "r = sr.Recognizer()\n",
    "input_audio = sr.AudioFile('gtts_output_wav.wav')\n",
    "\n",
    "# 음성 데이터 -> 텍스트 변환\n",
    "with input_audio as source: \n",
    "    audio = r.record(source) \n",
    "\n",
    "result_txt = r.recognize_google(audio_data=audio, language='ko-KR')"
   ]
  }
 ],
 "metadata": {
  "accelerator": "GPU",
  "colab": {
   "authorship_tag": "ABX9TyN3Crs9X1QMHDC1zkyQDtk8",
   "gpuType": "T4",
   "provenance": []
  },
  "kernelspec": {
   "display_name": "pystudy_env",
   "language": "python",
   "name": "python3"
  },
  "language_info": {
   "codemirror_mode": {
    "name": "ipython",
    "version": 3
   },
   "file_extension": ".py",
   "mimetype": "text/x-python",
   "name": "python",
   "nbconvert_exporter": "python",
   "pygments_lexer": "ipython3",
   "version": "3.12.9"
  }
 },
 "nbformat": 4,
 "nbformat_minor": 0
}
