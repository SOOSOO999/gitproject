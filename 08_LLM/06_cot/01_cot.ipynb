{
 "cells": [
  {
   "cell_type": "markdown",
   "id": "831c6b70",
   "metadata": {},
   "source": [
    "# CoT (Chain of Thought)"
   ]
  },
  {
   "cell_type": "code",
   "execution_count": 3,
   "id": "18a91441",
   "metadata": {},
   "outputs": [
    {
     "data": {
      "text/plain": [
       "True"
      ]
     },
     "execution_count": 3,
     "metadata": {},
     "output_type": "execute_result"
    }
   ],
   "source": [
    "from dotenv import load_dotenv\n",
    "load_dotenv()"
   ]
  },
  {
   "cell_type": "code",
   "execution_count": 4,
   "id": "d34be031",
   "metadata": {},
   "outputs": [],
   "source": [
    "import openai\n",
    "client = openai.OpenAI()"
   ]
  },
  {
   "cell_type": "markdown",
   "id": "8a028844",
   "metadata": {},
   "source": [
    "### 일반 프롬프트 vs Zero-shot CoT"
   ]
  },
  {
   "cell_type": "code",
   "execution_count": 9,
   "id": "2a88ab76",
   "metadata": {},
   "outputs": [],
   "source": [
    "# 일반 프롬프트\n",
    "prompt = '123 x 31은 얼마인가요?'\n",
    "\n",
    "\n",
    "# Zero-shot CoT 적용 프롬프트\n",
    "cot_prompt = '단계별로 생각해보세요: 123 x 31은 얼마인가요?'\n",
    "\n",
    "res = client.chat.completions.create(\n",
    "    model='gpt-4',\n",
    "    messages=[{\"role\": \"user\", \"content\": prompt}]\n",
    "    \n",
    ")\n",
    "\n",
    "cot_res = client.chat.completions.create(\n",
    "    model='gpt-4',\n",
    "    messages=[{\"role\": \"user\", \"content\": cot_prompt}]\n",
    ")"
   ]
  },
  {
   "cell_type": "code",
   "execution_count": 6,
   "id": "69f95e0a",
   "metadata": {},
   "outputs": [
    {
     "data": {
      "text/plain": [
       "'123 x 31 = 3813'"
      ]
     },
     "execution_count": 6,
     "metadata": {},
     "output_type": "execute_result"
    }
   ],
   "source": [
    "res.choices[0].message.content"
   ]
  },
  {
   "cell_type": "code",
   "execution_count": 10,
   "id": "00f457e9",
   "metadata": {},
   "outputs": [
    {
     "name": "stdout",
     "output_type": "stream",
     "text": [
      "123 x 31의 계산을 단계별로 나눠보겠습니다.\n",
      "\n",
      "1단계: 123 x 1 = 123\n",
      "2단계: 123 x 30 = 3690\n",
      "\n",
      "그럼 이제 이 둘을 더해봅시다.\n",
      "\n",
      "123 + 3690 = 3813\n",
      "\n",
      "따라서, 123 x 31 = 3813입니다.\n"
     ]
    }
   ],
   "source": [
    "print(cot_res.choices[0].message.content)"
   ]
  },
  {
   "cell_type": "markdown",
   "id": "2ea1ac96",
   "metadata": {},
   "source": [
    "### Few-shot CoT"
   ]
  },
  {
   "cell_type": "code",
   "execution_count": 11,
   "id": "61c5e22e",
   "metadata": {},
   "outputs": [
    {
     "name": "stdout",
     "output_type": "stream",
     "text": [
      "1. 789를 분해합니다: 789 = 700 + 80 + 9\n",
      "2. 각 항을 56과 곱합니다:\n",
      "   - 700 x 56 = 39200\n",
      "   - 80 x 56 = 4480\n",
      "   - 9 x 56 = 504\n",
      "\n",
      "3. 이제 이 결과들을 더합니다:\n",
      "   - 39200 + 4480 + 504\n",
      "\n",
      "4. 계산을 진행하면:\n",
      "   - 39200 + 4480 = 43680\n",
      "   - 43680 + 504 = 44184 \n",
      "\n",
      "따라서, 789 x 56 = 44184입니다.\n"
     ]
    }
   ],
   "source": [
    "few_shot_cot = \"\"\"\n",
    "Q: 123 x 31 은 얼마인가요?\n",
    "A: \n",
    "1. 123를 분해합니다: 123 = 100 + 20 + 3\n",
    "2. 각 항을 31과 곱합니다:\n",
    "   - 100 x 31 = 3100\n",
    "   - 20 x 31 = 620\n",
    "   - 3 x 31 = 93\n",
    "\n",
    "3. 이제 이 결과들을 더합니다:\n",
    "   - 3100 + 620 + 93\n",
    "\n",
    "4. 계산을 진행하면:\n",
    "   - 3100 + 620 = 3720\n",
    "   - 3720 + 93 = 3813 \n",
    "\n",
    "따라서, 123 x 31 = 3813입니다.\n",
    "\n",
    "Q: 789 x 56 은 얼마인가요?\n",
    "A:\n",
    "\"\"\"\n",
    "\n",
    "res = client.chat.completions.create(\n",
    "    model='gpt-4',\n",
    "    messages=[{\"role\": \"user\", \"content\": few_shot_cot}]\n",
    ")\n",
    "\n",
    "print(res.choices[0].message.content)"
   ]
  },
  {
   "cell_type": "markdown",
   "id": "72f10479",
   "metadata": {},
   "source": [
    "### 논리 문제 해결"
   ]
  },
  {
   "cell_type": "code",
   "execution_count": 12,
   "id": "fa1d2a83",
   "metadata": {},
   "outputs": [],
   "source": [
    "prompt = \"앨리스(Alice)는 밥(Bob)보다 나이가 많다. 밥(Bob)은 찰리(Charlie)보다 나이가 많다. 데이비드(David)는 앨리스(Alice)보다 어리지만, 에밀리(Emily)보다는 많다. 찰리(Charlie)는 프랭크(Frank)보다 많다. 에밀리(Emily)는 찰리(Charlie)보다 나이가 많지만, 밥(Bob)보다는 어리다. 프랭크(Frank)는 데이비드(David)보다 어리다. 그렇다면 가장 어린 사람은 누구인가요?\"\n",
    "\n",
    "cot_prompt = \"단계적으로 생각해서 대답해주세요: 앨리스(Alice)는 밥(Bob)보다 나이가 많다. 밥(Bob)은 찰리(Charlie)보다 나이가 많다. 데이비드(David)는 앨리스(Alice)보다 어리지만, 에밀리(Emily)보다는 많다. 찰리(Charlie)는 프랭크(Frank)보다 많다. 에밀리(Emily)는 찰리(Charlie)보다 나이가 많지만, 밥(Bob)보다는 어리다. 프랭크(Frank)는 데이비드(David)보다 어리다. 그렇다면 가장 어린 사람은 누구인가요?\""
   ]
  },
  {
   "cell_type": "code",
   "execution_count": 13,
   "id": "00e7ae6b",
   "metadata": {},
   "outputs": [],
   "source": [
    "res = client.chat.completions.create(\n",
    "    model='gpt-4',\n",
    "    messages=[{\"role\": \"user\", \"content\": prompt}]\n",
    "    \n",
    ")\n",
    "\n",
    "cot_res = client.chat.completions.create(\n",
    "    model='gpt-4',\n",
    "    messages=[{\"role\": \"user\", \"content\": cot_prompt}]\n",
    ")"
   ]
  },
  {
   "cell_type": "code",
   "execution_count": 14,
   "id": "83e21250",
   "metadata": {},
   "outputs": [
    {
     "name": "stdout",
     "output_type": "stream",
     "text": [
      "프랭크(Frank)입니다.\n"
     ]
    }
   ],
   "source": [
    "print(res.choices[0].message.content)"
   ]
  },
  {
   "cell_type": "code",
   "execution_count": 15,
   "id": "04c8b610",
   "metadata": {},
   "outputs": [
    {
     "name": "stdout",
     "output_type": "stream",
     "text": [
      "가장 어린 사람을 찾아보겠습니다.\n",
      "\n",
      "1. 앨리스(Alice)는 밥(Bob)보다 많으므로 밥(Bob)은 앨리스(Alice)보다 어리다.\n",
      "2. 밥(Bob)은 찰리(Charlie)보다 나이가 많으므로 찰리(Charlie)는 밥(Bob)보다 어리다.\n",
      "3. 따라서 앨리스(Alice)와 밥(Bob), 찰리(Charlie) 중 가장 어린 사람은 찰리(Charlie)라고 할 수 있다.\n",
      "4. 다음으로, 데이비드(David)는 앨리스(Alice)보다 어리지만 에밀리(Emily)보다는 많다고 했으므로, 데이비드(David)는 찰리(Charlie)보다 나이가 많습니다.\n",
      "5. 에밀리(Emily)는 찰리(Charlie)보다 나이가 많지만, 밥(Bob)보다는 어리다고 했으므로, 에밀리(Emily)도 찰리(Charlie)보다 나이가 많습니다. \n",
      "6. 프랭크(Frank)는 데이비드(David)보다 어리다고 했으므로, 프랭크(Frank)는 데이비드(David), 앨리스(Alice), 밥(Bob), 에밀리(Emily), 찰리(Charlie) 모두보다 어립니다.\n",
      "\n",
      "따라서 가장 어린 사람은 프랭크(Frank)입니다.\n"
     ]
    }
   ],
   "source": [
    "print(cot_res.choices[0].message.content)"
   ]
  },
  {
   "cell_type": "markdown",
   "id": "88e5c624",
   "metadata": {},
   "source": [
    "### 코드 디버깅"
   ]
  },
  {
   "cell_type": "code",
   "execution_count": 16,
   "id": "6d665530",
   "metadata": {},
   "outputs": [],
   "source": [
    "prompt = \"\"\"\n",
    "다음과 같이 코드를 작성했더니 에러가 발생합니다. 왜일까요?\n",
    "\n",
    "def add_numbers(a, b):\n",
    "return a + b\n",
    "\n",
    "print(add_numbers(1, 2))\n",
    "\"\"\"\n",
    "\n",
    "cot_prompt = \"\"\"\n",
    "다음과 같이 코드를 작성했더니 에러가 발생합니다.\n",
    "실수가 무엇인지 찾아서 단계별로 설명해주세요\n",
    "\n",
    "def add_numbers(a, b):\n",
    "return a + b\n",
    "\n",
    "print(add_numbers(1, 2))\n",
    "\"\"\""
   ]
  },
  {
   "cell_type": "code",
   "execution_count": 19,
   "id": "6f794636",
   "metadata": {},
   "outputs": [],
   "source": [
    "res = client.chat.completions.create(\n",
    "    model='gpt-4',\n",
    "    messages=[{\"role\": \"user\", \"content\": prompt}]\n",
    "    \n",
    ")\n",
    "\n",
    "cot_res = client.chat.completions.create(\n",
    "    model='gpt-4',\n",
    "    messages=[{\"role\": \"user\", \"content\": cot_prompt}]\n",
    ")"
   ]
  },
  {
   "cell_type": "code",
   "execution_count": 20,
   "id": "87050f18",
   "metadata": {},
   "outputs": [
    {
     "name": "stdout",
     "output_type": "stream",
     "text": [
      "코드의 들여쓰기(indentation)가 잘못되어 에러가 발생했습니다. 들여쓰기는 파이썬에서 코드의 블록을 구분하는 매우 중요한 요소입니다. \n",
      "\n",
      "함수의 본문인 `return a + b` 부분이 함수의 정의 안에 속해야 하므로, 이 부분을 들여쓰기 해야 합니다.\n",
      "\n",
      "아래 코드처럼 수정해야 합니다:\n",
      "\n",
      "```python\n",
      "def add_numbers(a, b):\n",
      "  return a + b\n",
      "\n",
      "print(add_numbers(1, 2))\n",
      "```\n"
     ]
    }
   ],
   "source": [
    "print(res.choices[0].message.content)"
   ]
  },
  {
   "cell_type": "code",
   "execution_count": 21,
   "id": "5da96f93",
   "metadata": {},
   "outputs": [
    {
     "name": "stdout",
     "output_type": "stream",
     "text": [
      "다음과 같이 코드를 작성하였을 때 들여쓰기 에러(IndentationError)가 발생합니다.\n",
      "\n",
      "```python\n",
      "def add_numbers(a, b):\n",
      "return a + b\n",
      "\n",
      "print(add_numbers(1, 2))\n",
      "```\n",
      "\n",
      "위의 문제는 파이썬이 들여쓰기를 강제하는 언어이기 때문인데, 함수의 본문 부분이 들여쓰기 되지 않았기 때문입니다. \n",
      "\n",
      "수정 방법은 다음과 같습니다.\n",
      "\n",
      "```python\n",
      "def add_numbers(a, b):\n",
      "    return a + b\n",
      "\n",
      "print(add_numbers(1, 2))\n",
      "```\n",
      "\n",
      "위의 코드처럼 함수 본문인 return a + b 명령어 앞에 빈 칸 4개(또는 탭 1개, 환경에 따라 다를 수 있음)를 추가하여 들여쓰기를 해주면 되는데, 이렇게 들여쓰기를 함으로써 add_numbers 함수의 정의 부분임을 파이썬에게 알려주게 됩니다.\n",
      "위와 같이 수정하면 에러 없이 정상적으로 코드가 실행되며, 결과로 3이 출력되게 됩니다.\n"
     ]
    }
   ],
   "source": [
    "print(cot_res.choices[0].message.content)"
   ]
  },
  {
   "cell_type": "code",
   "execution_count": null,
   "id": "02c72002",
   "metadata": {},
   "outputs": [],
   "source": []
  }
 ],
 "metadata": {
  "kernelspec": {
   "display_name": "vectordb_env",
   "language": "python",
   "name": "python3"
  },
  "language_info": {
   "codemirror_mode": {
    "name": "ipython",
    "version": 3
   },
   "file_extension": ".py",
   "mimetype": "text/x-python",
   "name": "python",
   "nbconvert_exporter": "python",
   "pygments_lexer": "ipython3",
   "version": "3.9.21"
  }
 },
 "nbformat": 4,
 "nbformat_minor": 5
}
