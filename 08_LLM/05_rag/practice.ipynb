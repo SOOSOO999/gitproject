{
 "cells": [
  {
   "cell_type": "markdown",
   "id": "0aa88cc1",
   "metadata": {},
   "source": [
    "# AI FAQ 챗봇 만들기 with RAG"
   ]
  },
  {
   "cell_type": "code",
   "execution_count": null,
   "id": "ad2c050e",
   "metadata": {},
   "outputs": [],
   "source": [
    "# 환경 변수 세팅   "
   ]
  },
  {
   "cell_type": "code",
   "execution_count": 1,
   "id": "c8ce7ca7",
   "metadata": {},
   "outputs": [],
   "source": [
    "from langchain_openai import ChatOpenAI, OpenAIEmbeddings\n",
    "from langchain.vectorstores import Chroma\n",
    "from langchain.chains import RetrievalQA\n",
    "from langchain.prompts import PromptTemplate\n",
    "from langchain.schema import Document\n",
    "import json"
   ]
  },
  {
   "cell_type": "code",
   "execution_count": 6,
   "id": "f5dcffc6",
   "metadata": {},
   "outputs": [
    {
     "data": {
      "text/plain": [
       "True"
      ]
     },
     "execution_count": 6,
     "metadata": {},
     "output_type": "execute_result"
    }
   ],
   "source": [
    "from dotenv import load_dotenv\n",
    "load_dotenv()"
   ]
  },
  {
   "cell_type": "markdown",
   "id": "8e2e82f9",
   "metadata": {},
   "source": [
    "1. 데이터 로드"
   ]
  },
  {
   "cell_type": "code",
   "execution_count": 3,
   "id": "1bd5eeb2",
   "metadata": {},
   "outputs": [
    {
     "data": {
      "text/plain": [
       "[{'question': '반품 정책이 어떻게 되나요?',\n",
       "  'answer': '제품을 수령한 후 14일 이내에 반품이 가능합니다. 반품 신청은 고객센터에서 도와드립니다.'},\n",
       " {'question': '배송은 얼마나 걸리나요?',\n",
       "  'answer': '일반적으로 2~5일 정도 소요되며, 지역에 따라 다를 수 있습니다.'},\n",
       " {'question': '회원가입 없이 주문할 수 있나요?',\n",
       "  'answer': '네, 비회원 주문이 가능합니다. 다만, 주문 조회 및 혜택을 받기 위해 회원가입을 추천드립니다.'},\n",
       " {'question': '포인트 적립은 어떻게 되나요?',\n",
       "  'answer': '구매 금액의 1%가 적립되며, 특별 프로모션 기간 동안 추가 적립이 가능합니다.'},\n",
       " {'question': '해외 배송이 가능한가요?',\n",
       "  'answer': '일부 국가를 대상으로 해외 배송이 가능하며, 배송비는 지역에 따라 상이할 수 있습니다.'},\n",
       " {'question': '제품 보증 기간은 얼마나 되나요?',\n",
       "  'answer': '제품 보증 기간은 기본적으로 1년이며, 일부 제품은 연장 보증이 가능합니다.'},\n",
       " {'question': 'A/S 신청은 어떻게 하나요?',\n",
       "  'answer': '공식 홈페이지 또는 고객센터를 통해 A/S 신청이 가능합니다.'},\n",
       " {'question': '재고가 없는 상품은 언제 다시 입고되나요?',\n",
       "  'answer': '입고 일정은 상품마다 다르며, 알림 설정을 통해 입고 시 안내받을 수 있습니다.'},\n",
       " {'question': '구매 후 영수증을 받을 수 있나요?',\n",
       "  'answer': '네, 주문 내역에서 전자 영수증을 다운로드할 수 있습니다.'},\n",
       " {'question': '다른 사람이 대신 주문을 수령할 수 있나요?',\n",
       "  'answer': '네, 수령인을 지정할 수 있으며 신분증 확인 후 수령 가능합니다.'},\n",
       " {'question': '결제 방법에는 어떤 것이 있나요?',\n",
       "  'answer': '신용카드, 계좌이체, 모바일 결제 등 다양한 방법을 지원합니다.'},\n",
       " {'question': '배송 주소를 변경할 수 있나요?',\n",
       "  'answer': '출고 전이라면 고객센터를 통해 배송 주소 변경이 가능합니다.'},\n",
       " {'question': '구매 후 취소할 수 있나요?', 'answer': '상품이 출고되지 않은 상태라면 주문 취소가 가능합니다.'}]"
      ]
     },
     "execution_count": 3,
     "metadata": {},
     "output_type": "execute_result"
    }
   ],
   "source": [
    "with open('./data/faq_chatbot_data.json', 'r', encoding='utf-8') as f:\n",
    "    data = json.load(f)\n",
    "\n",
    "data"
   ]
  },
  {
   "cell_type": "markdown",
   "id": "2b0b9d7e",
   "metadata": {},
   "source": [
    "2. embedding 모델 생성 + vector store 생성"
   ]
  },
  {
   "cell_type": "code",
   "execution_count": 11,
   "id": "a04c28bc",
   "metadata": {},
   "outputs": [],
   "source": [
    "embedding_model = OpenAIEmbeddings(model='text-embedding-3-small')"
   ]
  },
  {
   "cell_type": "code",
   "execution_count": 20,
   "id": "021312bd",
   "metadata": {},
   "outputs": [],
   "source": [
    "documents = [\n",
    "    Document(\n",
    "        page_content=f\"Q: {item['question']}\\nA: {item['answer']}\"\n",
    "        # metadata={\"source\": f\"faq_{i}\"}\n",
    "    )\n",
    "    for i, item in enumerate(data)\n",
    "]"
   ]
  },
  {
   "cell_type": "code",
   "execution_count": 21,
   "id": "ec36b04e",
   "metadata": {},
   "outputs": [
    {
     "data": {
      "text/plain": [
       "[Document(metadata={}, page_content='Q: 반품 정책이 어떻게 되나요?\\nA: 제품을 수령한 후 14일 이내에 반품이 가능합니다. 반품 신청은 고객센터에서 도와드립니다.'),\n",
       " Document(metadata={}, page_content='Q: 배송은 얼마나 걸리나요?\\nA: 일반적으로 2~5일 정도 소요되며, 지역에 따라 다를 수 있습니다.'),\n",
       " Document(metadata={}, page_content='Q: 회원가입 없이 주문할 수 있나요?\\nA: 네, 비회원 주문이 가능합니다. 다만, 주문 조회 및 혜택을 받기 위해 회원가입을 추천드립니다.'),\n",
       " Document(metadata={}, page_content='Q: 포인트 적립은 어떻게 되나요?\\nA: 구매 금액의 1%가 적립되며, 특별 프로모션 기간 동안 추가 적립이 가능합니다.'),\n",
       " Document(metadata={}, page_content='Q: 해외 배송이 가능한가요?\\nA: 일부 국가를 대상으로 해외 배송이 가능하며, 배송비는 지역에 따라 상이할 수 있습니다.'),\n",
       " Document(metadata={}, page_content='Q: 제품 보증 기간은 얼마나 되나요?\\nA: 제품 보증 기간은 기본적으로 1년이며, 일부 제품은 연장 보증이 가능합니다.'),\n",
       " Document(metadata={}, page_content='Q: A/S 신청은 어떻게 하나요?\\nA: 공식 홈페이지 또는 고객센터를 통해 A/S 신청이 가능합니다.'),\n",
       " Document(metadata={}, page_content='Q: 재고가 없는 상품은 언제 다시 입고되나요?\\nA: 입고 일정은 상품마다 다르며, 알림 설정을 통해 입고 시 안내받을 수 있습니다.'),\n",
       " Document(metadata={}, page_content='Q: 구매 후 영수증을 받을 수 있나요?\\nA: 네, 주문 내역에서 전자 영수증을 다운로드할 수 있습니다.'),\n",
       " Document(metadata={}, page_content='Q: 다른 사람이 대신 주문을 수령할 수 있나요?\\nA: 네, 수령인을 지정할 수 있으며 신분증 확인 후 수령 가능합니다.'),\n",
       " Document(metadata={}, page_content='Q: 결제 방법에는 어떤 것이 있나요?\\nA: 신용카드, 계좌이체, 모바일 결제 등 다양한 방법을 지원합니다.'),\n",
       " Document(metadata={}, page_content='Q: 배송 주소를 변경할 수 있나요?\\nA: 출고 전이라면 고객센터를 통해 배송 주소 변경이 가능합니다.'),\n",
       " Document(metadata={}, page_content='Q: 구매 후 취소할 수 있나요?\\nA: 상품이 출고되지 않은 상태라면 주문 취소가 가능합니다.')]"
      ]
     },
     "execution_count": 21,
     "metadata": {},
     "output_type": "execute_result"
    }
   ],
   "source": [
    "documents"
   ]
  },
  {
   "cell_type": "code",
   "execution_count": null,
   "id": "a6947cb2",
   "metadata": {},
   "outputs": [],
   "source": [
    "vector_store = Chroma.from_documents(documents, embedding_model)\n"
   ]
  },
  {
   "cell_type": "code",
   "execution_count": null,
   "id": "790c333b",
   "metadata": {},
   "outputs": [],
   "source": [
    "# embedding_model = OpenAIEmbeddings()    # 비워주면 기본값으로 들어가는 모델이 있음.\n",
    "\n",
    "# vector_store = Chroma(\n",
    "#     documents=documents,\n",
    "#     embedding_function=embedding_model, \n",
    "#     persist_directory='./chroma_db'\n",
    "# )\n",
    "\n",
    "# documents = [Document(page_content=item['question']+\" \"+item['answer']) for item in data]\n",
    "# vector_store.add_documents(documents)"
   ]
  },
  {
   "cell_type": "markdown",
   "id": "2c5ece83",
   "metadata": {},
   "source": [
    "3. llm 설정 (모델 생성)"
   ]
  },
  {
   "cell_type": "code",
   "execution_count": 15,
   "id": "08e5012e",
   "metadata": {},
   "outputs": [],
   "source": [
    "model = ChatOpenAI(\n",
    "    model=\"gpt-4o-mini\",\n",
    "    temperature=0\n",
    ")"
   ]
  },
  {
   "cell_type": "markdown",
   "id": "3b96b510",
   "metadata": {},
   "source": [
    "4. 프롬프트 및 체인 설정"
   ]
  },
  {
   "cell_type": "code",
   "execution_count": 23,
   "id": "03111198",
   "metadata": {},
   "outputs": [],
   "source": [
    "# PromptTemplate, RetrievalQA\n",
    "\n",
    "prompt = PromptTemplate(\n",
    "    input_variables=[\"context\", \"question\"],\n",
    "    template=\"\"\"\n",
    "너는 고객 지원을 도와주는 AI야. 아래 FAQ 데이터를 참고해서 사용자 질문에 성실하게 답변해줘.\n",
    "가능하면 정확한 내용을 사용하고, FAQ 내용에서 알 수 없는 정보는 억지로 추측하지 마.\n",
    "\n",
    "[FAQ 내용]\n",
    "{context}\n",
    "\n",
    "[사용자 질문]\n",
    "{question}\n",
    "\n",
    "[답변]\n",
    "\"\"\"\n",
    ")   # prompt를 구성할 때 retriever의 검색 결과로 들어갈 input_variable은 'context'로 설정해야 함\n",
    "\n",
    "qa_chain = RetrievalQA.from_chain_type(\n",
    "    llm=model,\n",
    "    retriever=vector_store.as_retriever(),  # 위에서 만든 Chroma\n",
    "    chain_type_kwargs={\"prompt\": prompt}\n",
    ")"
   ]
  },
  {
   "cell_type": "markdown",
   "id": "583c5bf5",
   "metadata": {},
   "source": [
    "5. 사용"
   ]
  },
  {
   "cell_type": "code",
   "execution_count": 19,
   "id": "58694673",
   "metadata": {},
   "outputs": [
    {
     "name": "stdout",
     "output_type": "stream",
     "text": [
      "주문 내역에서 전자 영수증을 다운로드할 수 있으니, 해당 내역을 확인하시면 영수증을 다시 받을 수 있습니다. 도움이 필요하시면 고객센터에 문의해 주세요.\n"
     ]
    }
   ],
   "source": [
    "result = qa_chain(\"영수증 보관하는걸 까먹었어요\")\n",
    "print(result['result'])"
   ]
  },
  {
   "cell_type": "code",
   "execution_count": 24,
   "id": "c1e6e6ac",
   "metadata": {},
   "outputs": [
    {
     "data": {
      "text/plain": [
       "'주문 내역에서 전자 영수증을 다운로드할 수 있으니, 해당 내역을 확인하시면 영수증을 다시 받을 수 있습니다. 도움이 필요하시면 고객센터에 문의해 주세요.'"
      ]
     },
     "execution_count": 24,
     "metadata": {},
     "output_type": "execute_result"
    }
   ],
   "source": [
    "qa_chain.run('영수증 보관하는걸 까먹었어요')"
   ]
  },
  {
   "cell_type": "markdown",
   "id": "6fa6d4ee",
   "metadata": {},
   "source": [
    "런팟에서 팟 만들면 웹터미널 들어가는거 있잖아"
   ]
  }
 ],
 "metadata": {
  "kernelspec": {
   "display_name": "vectordb_env",
   "language": "python",
   "name": "python3"
  },
  "language_info": {
   "codemirror_mode": {
    "name": "ipython",
    "version": 3
   },
   "file_extension": ".py",
   "mimetype": "text/x-python",
   "name": "python",
   "nbconvert_exporter": "python",
   "pygments_lexer": "ipython3",
   "version": "3.9.21"
  }
 },
 "nbformat": 4,
 "nbformat_minor": 5
}
