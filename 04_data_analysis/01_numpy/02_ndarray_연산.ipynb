{
 "cells": [
  {
   "cell_type": "markdown",
   "metadata": {},
   "source": [
    "### ndarry 연산"
   ]
  },
  {
   "cell_type": "markdown",
   "metadata": {},
   "source": [
    "#### 기본 연산"
   ]
  },
  {
   "cell_type": "code",
   "execution_count": 2,
   "metadata": {},
   "outputs": [],
   "source": [
    "import numpy as np"
   ]
  },
  {
   "cell_type": "code",
   "execution_count": 3,
   "metadata": {},
   "outputs": [
    {
     "name": "stdout",
     "output_type": "stream",
     "text": [
      "[[1 2 3]\n",
      " [4 5 6]\n",
      " [7 8 9]]\n",
      "[[3 3 3]\n",
      " [3 3 3]\n",
      " [3 3 3]]\n"
     ]
    }
   ],
   "source": [
    "arr_a = np.arange(1, 10).reshape(3, 3)  # reshape() : ()안의 형태로 배열의 모양을 바꿔준다.\n",
    "arr_b = np.full_like(arr_a, 3)\n",
    "print(arr_a)\n",
    "print(arr_b)"
   ]
  },
  {
   "cell_type": "code",
   "execution_count": 4,
   "metadata": {},
   "outputs": [
    {
     "name": "stdout",
     "output_type": "stream",
     "text": [
      "[[ 4  5  6]\n",
      " [ 7  8  9]\n",
      " [10 11 12]]\n",
      "[[ 4  5  6]\n",
      " [ 7  8  9]\n",
      " [10 11 12]]\n"
     ]
    }
   ],
   "source": [
    "# 덧셈 (같은 위치의 요소끼리 더해진다)\n",
    "\n",
    "print(arr_a + arr_b)\n",
    "print(np.add(arr_a, arr_b))"
   ]
  },
  {
   "cell_type": "code",
   "execution_count": 5,
   "metadata": {},
   "outputs": [
    {
     "name": "stdout",
     "output_type": "stream",
     "text": [
      "[[-2 -1  0]\n",
      " [ 1  2  3]\n",
      " [ 4  5  6]]\n",
      "[[-2 -1  0]\n",
      " [ 1  2  3]\n",
      " [ 4  5  6]]\n"
     ]
    }
   ],
   "source": [
    "# 뺄셈\n",
    "print(arr_a - arr_b)\n",
    "print(np.subtract(arr_a, arr_b))"
   ]
  },
  {
   "cell_type": "code",
   "execution_count": 6,
   "metadata": {},
   "outputs": [
    {
     "name": "stdout",
     "output_type": "stream",
     "text": [
      "[[ 3  6  9]\n",
      " [12 15 18]\n",
      " [21 24 27]]\n",
      "[[ 3  6  9]\n",
      " [12 15 18]\n",
      " [21 24 27]]\n"
     ]
    }
   ],
   "source": [
    "# 곱셈\n",
    "print(arr_a * arr_b)\n",
    "print(np.multiply(arr_a, arr_b))"
   ]
  },
  {
   "cell_type": "code",
   "execution_count": 7,
   "metadata": {},
   "outputs": [
    {
     "name": "stdout",
     "output_type": "stream",
     "text": [
      "[[0.33333333 0.66666667 1.        ]\n",
      " [1.33333333 1.66666667 2.        ]\n",
      " [2.33333333 2.66666667 3.        ]]\n",
      "[[0.33333333 0.66666667 1.        ]\n",
      " [1.33333333 1.66666667 2.        ]\n",
      " [2.33333333 2.66666667 3.        ]]\n"
     ]
    }
   ],
   "source": [
    "# 나눗셈\n",
    "print(arr_a / arr_b)\n",
    "print(np.divide(arr_a, arr_b))"
   ]
  },
  {
   "cell_type": "code",
   "execution_count": 8,
   "metadata": {},
   "outputs": [
    {
     "name": "stdout",
     "output_type": "stream",
     "text": [
      "[[  1   8  27]\n",
      " [ 64 125 216]\n",
      " [343 512 729]]\n",
      "[[  1   8  27]\n",
      " [ 64 125 216]\n",
      " [343 512 729]]\n",
      "[[ 1  4  9]\n",
      " [16 25 36]\n",
      " [49 64 81]]\n"
     ]
    }
   ],
   "source": [
    "# 특수 연산 1: 거듭제곱\n",
    "print(arr_a ** arr_b)\n",
    "print(np.power(arr_a, arr_b))\n",
    "print(np.square(arr_a))\n"
   ]
  },
  {
   "cell_type": "code",
   "execution_count": 9,
   "metadata": {},
   "outputs": [
    {
     "name": "stdout",
     "output_type": "stream",
     "text": [
      "[[0 0 1]\n",
      " [1 1 2]\n",
      " [2 2 3]]\n",
      "[[0 0 1]\n",
      " [1 1 2]\n",
      " [2 2 3]]\n"
     ]
    }
   ],
   "source": [
    "# 특수 연산 2: 몫\n",
    "print(arr_a // arr_b)\n",
    "print(np.floor_divide(arr_a, arr_b))"
   ]
  },
  {
   "cell_type": "code",
   "execution_count": 10,
   "metadata": {},
   "outputs": [
    {
     "name": "stdout",
     "output_type": "stream",
     "text": [
      "[[1 2 0]\n",
      " [1 2 0]\n",
      " [1 2 0]]\n",
      "[[1 2 0]\n",
      " [1 2 0]\n",
      " [1 2 0]]\n"
     ]
    }
   ],
   "source": [
    "# 특수 연산 3: 나머지\n",
    "print(arr_a % arr_b)\n",
    "print(np.mod(arr_a, arr_b))"
   ]
  },
  {
   "cell_type": "code",
   "execution_count": 11,
   "metadata": {},
   "outputs": [
    {
     "name": "stdout",
     "output_type": "stream",
     "text": [
      "[[1.         1.41421356 1.73205081]\n",
      " [2.         2.23606798 2.44948974]\n",
      " [2.64575131 2.82842712 3.        ]]\n"
     ]
    }
   ],
   "source": [
    "# 특수 연산 4: 제곱근\n",
    "print(np.sqrt(arr_a)) "
   ]
  },
  {
   "cell_type": "markdown",
   "metadata": {},
   "source": [
    "---"
   ]
  },
  {
   "cell_type": "markdown",
   "metadata": {},
   "source": [
    "### broadcasting 연산\n",
    "- 두 배열의 shape이 다르면 broadcasting 연산을 수행한다.\n",
    "- shape이 작은 쪽이 큰 쪽에 맞춰 확장한다\n",
    "- 두 배열의 행 또는 열이 일치해야 확장 가능하다\n",
    "- 크기가 1인 경우 무조건 확장 가능하다\n",
    "- shape이 다른 경우 마지막 축부터 차원이 동일한지 비교한다."
   ]
  },
  {
   "cell_type": "code",
   "execution_count": 12,
   "metadata": {},
   "outputs": [
    {
     "data": {
      "text/plain": [
       "array([[ 5, 10, 15],\n",
       "       [20, 25, 30],\n",
       "       [35, 40, 45]])"
      ]
     },
     "execution_count": 12,
     "metadata": {},
     "output_type": "execute_result"
    }
   ],
   "source": [
    "# arr_a = np.arange(1, 10).reshape(3, 3) \n",
    "# shape이 작은 쪽이 큰 쪽에 맞춰서 shape을 확장해서 계산해 나간다\n",
    "\n",
    "result_arr = arr_a * np.array([[5, 5, 5], [5, 5, 5], [5, 5, 5]]) # shape : (3, 3)\n",
    "result_arr = arr_a * np.array([5, 5, 5]) # shape : (3,)\n",
    "result_arr = arr_a * np.array([5]) # shape : (1,)\n",
    "result_arr = arr_a * 5 # shape : 스칼라값\n",
    "result_arr\n"
   ]
  },
  {
   "cell_type": "code",
   "execution_count": 13,
   "metadata": {},
   "outputs": [
    {
     "data": {
      "text/plain": [
       "array([[ 6, 12, 18],\n",
       "       [ 9, 15, 21]])"
      ]
     },
     "execution_count": 13,
     "metadata": {},
     "output_type": "execute_result"
    }
   ],
   "source": [
    "arr1 = np.array([[1, 2, 3], [4, 5, 6]]) # (2, 3)\n",
    "arr2 = np.array([5, 10, 15]) # (3,)\n",
    "\n",
    "arr1 + arr2"
   ]
  },
  {
   "cell_type": "code",
   "execution_count": 14,
   "metadata": {},
   "outputs": [
    {
     "data": {
      "text/plain": [
       "array([[101, 102, 103],\n",
       "       [204, 205, 206]])"
      ]
     },
     "execution_count": 14,
     "metadata": {},
     "output_type": "execute_result"
    }
   ],
   "source": [
    "arr1 = np.array([[1, 2, 3], [4, 5, 6]]) # (2, 3)\n",
    "arr2 = np.array([[100], [200]]) # (2, 1)\n",
    "\n",
    "arr1 + arr2 "
   ]
  },
  {
   "cell_type": "code",
   "execution_count": 15,
   "metadata": {},
   "outputs": [
    {
     "data": {
      "text/plain": [
       "array([[5, 6, 7],\n",
       "       [6, 7, 8],\n",
       "       [7, 8, 9]])"
      ]
     },
     "execution_count": 15,
     "metadata": {},
     "output_type": "execute_result"
    }
   ],
   "source": [
    "arr1 = np.array([1, 2, 3]) # (3,)\n",
    "arr2 = np.array([[4], [5], [6]]) # (3, 1)\n",
    "\n",
    "# arr1 = np.array([[1, 2, 3], [1, 2, 3], [1, 2, 3]]) # (3,)\n",
    "# arr2 = np.array([[4, 4, 4], [5, 5, 5], [6, 6, 6]]) # (3, 1)   서로 이렇게 확장이 된다.\n",
    "\n",
    "arr1 + arr2"
   ]
  },
  {
   "cell_type": "code",
   "execution_count": 16,
   "metadata": {},
   "outputs": [
    {
     "ename": "ValueError",
     "evalue": "operands could not be broadcast together with shapes (2,3) (2,) ",
     "output_type": "error",
     "traceback": [
      "\u001b[1;31m---------------------------------------------------------------------------\u001b[0m",
      "\u001b[1;31mValueError\u001b[0m                                Traceback (most recent call last)",
      "Cell \u001b[1;32mIn[16], line 4\u001b[0m\n\u001b[0;32m      2\u001b[0m arr2 \u001b[38;5;241m=\u001b[39m np\u001b[38;5;241m.\u001b[39marray([\u001b[38;5;241m1\u001b[39m, \u001b[38;5;241m2\u001b[39m]) \u001b[38;5;66;03m# (2,)\u001b[39;00m\n\u001b[0;32m      3\u001b[0m \u001b[38;5;66;03m# 행도 일치하지 않고, 열도 일치하지 않아 broadcasting을 할 수 없어 ValueError: operands could not be broadcast together with shapes (2,3) (2,)\u001b[39;00m\n\u001b[1;32m----> 4\u001b[0m \u001b[43marr1\u001b[49m\u001b[43m \u001b[49m\u001b[38;5;241;43m+\u001b[39;49m\u001b[43m \u001b[49m\u001b[43marr2\u001b[49m\n",
      "\u001b[1;31mValueError\u001b[0m: operands could not be broadcast together with shapes (2,3) (2,) "
     ]
    }
   ],
   "source": [
    "arr1 = np.array([[1, 2, 3], [1, 2, 3]]) # (2, 3)\n",
    "arr2 = np.array([1, 2]) # (2,)\n",
    "# 행도 일치하지 않고, 열도 일치하지 않아 broadcasting을 할 수 없어 ValueError: operands could not be broadcast together with shapes (2,3) (2,)\n",
    "arr1 + arr2"
   ]
  },
  {
   "cell_type": "markdown",
   "metadata": {},
   "source": [
    "---"
   ]
  },
  {
   "cell_type": "markdown",
   "metadata": {},
   "source": [
    "#### 행렬 곱셈\n",
    "- 점곱연산 (Dot Product / 내적)\n",
    "    - 두 행렬 A, B의 곱셈은 첫 번째 행렬 A의 행과 두 번째 행렬 B의 열 간의 곱셈을 수행한다.\n",
    "    - 첫 번째 행렬 A의 열의 수와 두 번째 행렬 B의 행의 수가 같아야 한다.\n",
    "    - 연산 결과의 shape은 (첫 번째 행렬 A의 행수, 두 번째 행렬 B의 열수) 이다.\n",
    "\n",
    "- "
   ]
  },
  {
   "cell_type": "code",
   "execution_count": 19,
   "metadata": {},
   "outputs": [
    {
     "name": "stdout",
     "output_type": "stream",
     "text": [
      "[[1 2]\n",
      " [3 4]]\n",
      "[[5 6]\n",
      " [7 8]]\n",
      "[[ 5 12]\n",
      " [21 32]]\n",
      "(2, 2) (2, 2) (2, 2)\n",
      "[[19 22]\n",
      " [43 50]]\n",
      "(2, 2)\n"
     ]
    }
   ],
   "source": [
    "arr1 = np.array([[1, 2], [3, 4]])\n",
    "arr2 = np.array([[5, 6], [7, 8]])\n",
    "print(arr1)\n",
    "print(arr2)\n",
    "print(arr1 * arr2)\n",
    "print(arr1.shape, arr2.shape, (arr1 * arr2).shape)\n",
    "\n",
    "print(np.dot(arr1, arr2))\n",
    "print(np.dot(arr1, arr2).shape)"
   ]
  },
  {
   "cell_type": "code",
   "execution_count": null,
   "metadata": {},
   "outputs": [
    {
     "name": "stdout",
     "output_type": "stream",
     "text": [
      "[[ 58  64]\n",
      " [139 154]]\n",
      "(2, 3) (3, 2) (2, 2)\n"
     ]
    }
   ],
   "source": [
    "arr3 = np.array([[1, 2, 3], [4, 5, 6]])\n",
    "arr4 = np.array([[7, 8], [9, 10], [11, 12]])\n",
    "\n",
    "print(np.dot(arr3, arr4))\n",
    "print(arr3.shape, arr4.shape, np.dot(arr3, arr4).shape)\n",
    "\n",
    "# np.dot(arr3, arr4) -> (2, 3) (3, 2) -> (2, 2)\n",
    "# np.dot(arr4, arr3) -> (3, 2) (2, 3) -> (3, 3)\n"
   ]
  },
  {
   "cell_type": "code",
   "execution_count": null,
   "metadata": {},
   "outputs": [],
   "source": [
    "# Quiz! shape으로만 결과 판단하기\n",
    "\n",
    "# (100, 200000) (20000, 100) : (100, 100)\n",
    "# (20000, 100) (100, 200000) : (20000, 20000)\n",
    "# (100, 200000) (100, 20000) : error 내적안됨."
   ]
  },
  {
   "cell_type": "code",
   "execution_count": null,
   "metadata": {},
   "outputs": [
    {
     "name": "stdout",
     "output_type": "stream",
     "text": [
      "[[1 2 3]\n",
      " [4 5 6]]\n",
      "[[1 4]\n",
      " [2 5]\n",
      " [3 6]]\n",
      "[[14 32]\n",
      " [32 77]]\n",
      "[[14 32]\n",
      " [32 77]]\n"
     ]
    }
   ],
   "source": [
    "arr = np.array([[1, 2, 3], [4, 5, 6]])\n",
    "\n",
    "# (2, 3) (3, 2)\n",
    "\n",
    "# @ matmul 내적.\n",
    "# print(arr @ arr)\n",
    "\n",
    "# .T (전치행렬, transpose) 행과 열을 뒤바꾼다\n",
    "print(arr)\n",
    "print(arr.T) # arr.T = arr의 전치행렬 (행-열을 교환)\n",
    "print(arr @ arr.T) # (2, 3) (3, 2)\n",
    "\n",
    "# matmul()\n",
    "print(np.matmul(arr, arr.T))"
   ]
  },
  {
   "cell_type": "markdown",
   "metadata": {},
   "source": [
    "---"
   ]
  },
  {
   "cell_type": "markdown",
   "metadata": {},
   "source": [
    "#### 연산 함수 및 집계 함수"
   ]
  },
  {
   "cell_type": "code",
   "execution_count": null,
   "metadata": {},
   "outputs": [],
   "source": [
    "arr_negative = np.array([[-1, -2], [-100, -200]])\n",
    "arr_float = np.array([[1.234, 5.678], [7.89, 10.123]])\n",
    "arr = np.arange(1, 7).reshape(2, 3)"
   ]
  },
  {
   "cell_type": "code",
   "execution_count": null,
   "metadata": {},
   "outputs": [
    {
     "data": {
      "text/plain": [
       "array([[  1,   2],\n",
       "       [100, 200]])"
      ]
     },
     "execution_count": 67,
     "metadata": {},
     "output_type": "execute_result"
    }
   ],
   "source": [
    "# 절대값\n",
    "np.abs(arr_negative)"
   ]
  },
  {
   "cell_type": "code",
   "execution_count": null,
   "metadata": {},
   "outputs": [
    {
     "name": "stdout",
     "output_type": "stream",
     "text": [
      "[[ 2.  6.]\n",
      " [ 8. 11.]]\n",
      "[[ 1.  6.]\n",
      " [ 8. 10.]]\n",
      "[[ 1.23  5.68]\n",
      " [ 7.89 10.12]]\n"
     ]
    }
   ],
   "source": [
    "# 올림 / 반올림\n",
    "print(np.ceil(arr_float))  # 올림\n",
    "print(np.round(arr_float))  # 반올림\n",
    "print(np.round(arr_float, 2)) # 소수점 2자리까지 반올림\n"
   ]
  },
  {
   "cell_type": "code",
   "execution_count": null,
   "metadata": {},
   "outputs": [
    {
     "name": "stdout",
     "output_type": "stream",
     "text": [
      "[[ 1. -6.]\n",
      " [-8. 10.]]\n",
      "[[ 1. -5.]\n",
      " [-7. 10.]]\n"
     ]
    }
   ],
   "source": [
    "arr_float = np.array([[1.234, -5.678], [-7.89, 10.123]])\n",
    "\n",
    "# 내림 (지정된 수보다 작은 최대 정수)\n",
    "print(np.floor(arr_float))\n",
    "\n",
    "# 버림 \n",
    "print(np.trunc(arr_float))"
   ]
  },
  {
   "cell_type": "code",
   "execution_count": null,
   "metadata": {},
   "outputs": [
    {
     "name": "stdout",
     "output_type": "stream",
     "text": [
      "[[1 2 3]\n",
      " [4 5 6]]\n",
      "6\n",
      "1\n",
      "[4 5 6]\n",
      "[1 4]\n"
     ]
    }
   ],
   "source": [
    "# 집계 함수\n",
    "# 최대값/ 최소값\n",
    "print(arr) # arr = np.arange(1, 7).reshape(2, 3)\n",
    "print(np.max(arr)) \n",
    "print(np.min(arr))\n",
    "\n",
    "print(np.max(arr, axis=0)) # 행 기준 (행을 고정하고, 같은 열에서 가장 큰 값)\n",
    "print(np.min(arr, axis=1))  # 열 기준 (열을 고정하고, 같은 행에서 가장 작은 값)"
   ]
  },
  {
   "cell_type": "code",
   "execution_count": null,
   "metadata": {},
   "outputs": [
    {
     "name": "stdout",
     "output_type": "stream",
     "text": [
      "21\n",
      "21\n",
      "[5 7 9]\n",
      "[ 6 15]\n"
     ]
    }
   ],
   "source": [
    "# 합계\n",
    "print(arr.sum())\n",
    "print(np.sum(arr))\n",
    "\n",
    "print(arr.sum(axis=0))  # 열의 개수\n",
    "print(arr.sum(axis=1))  # 행의 개수"
   ]
  },
  {
   "cell_type": "code",
   "execution_count": null,
   "metadata": {},
   "outputs": [
    {
     "name": "stdout",
     "output_type": "stream",
     "text": [
      "[[1 2 3]\n",
      " [4 5 6]]\n",
      "3.5\n",
      "3.5\n",
      "[2.5 3.5 4.5]\n",
      "[2. 5.]\n"
     ]
    }
   ],
   "source": [
    "# 평균\n",
    "print(arr)\n",
    "print(arr.mean())\n",
    "print(np.mean(arr))\n",
    "\n",
    "print(arr.mean(axis=0))\n",
    "print(arr.mean(axis=1))"
   ]
  }
 ],
 "metadata": {
  "kernelspec": {
   "display_name": "pystudy_env",
   "language": "python",
   "name": "python3"
  },
  "language_info": {
   "codemirror_mode": {
    "name": "ipython",
    "version": 3
   },
   "file_extension": ".py",
   "mimetype": "text/x-python",
   "name": "python",
   "nbconvert_exporter": "python",
   "pygments_lexer": "ipython3",
   "version": "3.12.9"
  }
 },
 "nbformat": 4,
 "nbformat_minor": 2
}
