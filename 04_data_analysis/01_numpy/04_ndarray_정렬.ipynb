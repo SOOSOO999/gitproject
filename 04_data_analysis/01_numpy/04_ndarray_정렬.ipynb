{
 "cells": [
  {
   "cell_type": "markdown",
   "metadata": {},
   "source": [
    "### ndarray 정렬 "
   ]
  },
  {
   "cell_type": "code",
   "execution_count": 2,
   "metadata": {},
   "outputs": [],
   "source": [
    "import numpy as np"
   ]
  },
  {
   "cell_type": "markdown",
   "metadata": {},
   "source": [
    "##### 1차원 배열 정렬"
   ]
  },
  {
   "cell_type": "code",
   "execution_count": 3,
   "metadata": {},
   "outputs": [
    {
     "data": {
      "text/plain": [
       "array([ 3,  7, 10,  8,  2,  2,  6,  1,  2,  3], dtype=int32)"
      ]
     },
     "execution_count": 3,
     "metadata": {},
     "output_type": "execute_result"
    }
   ],
   "source": [
    "arr = np.random.randint(1, 11, 10)\n",
    "arr"
   ]
  },
  {
   "cell_type": "code",
   "execution_count": 4,
   "metadata": {},
   "outputs": [
    {
     "name": "stdout",
     "output_type": "stream",
     "text": [
      "[ 1  2  2  2  3  3  6  7  8 10]\n",
      "[ 1  2  2  2  3  3  6  7  8 10]\n"
     ]
    }
   ],
   "source": [
    "# np.sort(arr) : 정렬된 ndarray를 반환. 변수에 덮어씌워줘야 한다.\n",
    "# np.sort(arr)[::-1] : 역순으로 정렬\n",
    "print(np.sort(arr))\n",
    "arr = np.sort(arr)\n",
    "print(arr)"
   ]
  },
  {
   "cell_type": "markdown",
   "metadata": {},
   "source": [
    "---"
   ]
  },
  {
   "cell_type": "markdown",
   "metadata": {},
   "source": [
    "##### 2차원 배열 정렬"
   ]
  },
  {
   "cell_type": "code",
   "execution_count": 5,
   "metadata": {},
   "outputs": [
    {
     "data": {
      "text/plain": [
       "array([[3, 9, 2, 2],\n",
       "       [3, 5, 0, 2],\n",
       "       [9, 3, 4, 1]], dtype=int32)"
      ]
     },
     "execution_count": 5,
     "metadata": {},
     "output_type": "execute_result"
    }
   ],
   "source": [
    "arr = np.random.randint(10, size=(3, 4))   # 시작값을 생략하면 0 이상. 즉, 0 이상 10 미만의 (3, 4). 이 경우 size= 를 생략하면 에러가 난다\n",
    "                                           # 시작값, 끝값을 위치 인자로 받기 때문에 size= (키워드인자)를 생략하면 에러.\n",
    "arr"
   ]
  },
  {
   "cell_type": "code",
   "execution_count": 6,
   "metadata": {},
   "outputs": [
    {
     "data": {
      "text/plain": [
       "array([[2, 2, 3, 9],\n",
       "       [0, 2, 3, 5],\n",
       "       [1, 3, 4, 9]], dtype=int32)"
      ]
     },
     "execution_count": 6,
     "metadata": {},
     "output_type": "execute_result"
    }
   ],
   "source": [
    "np.sort(arr)   # 기본값 axis=1 열방향 정렬"
   ]
  },
  {
   "cell_type": "code",
   "execution_count": 7,
   "metadata": {},
   "outputs": [
    {
     "name": "stdout",
     "output_type": "stream",
     "text": [
      "[[3 3 0 1]\n",
      " [3 5 2 2]\n",
      " [9 9 4 2]]\n",
      "[[2 2 3 9]\n",
      " [0 2 3 5]\n",
      " [1 3 4 9]]\n"
     ]
    }
   ],
   "source": [
    "print(np.sort(arr, axis=0))   # 행방향 정렬 (같은 열 안에서 정렬)\n",
    "print(np.sort(arr, axis=1))   # 열방향 정렬 (같은 행 안에서 정렬) <- 기본값."
   ]
  },
  {
   "cell_type": "code",
   "execution_count": 8,
   "metadata": {},
   "outputs": [
    {
     "name": "stdout",
     "output_type": "stream",
     "text": [
      "[0 1 2 2 2 3 3 3 4 5 9 9]\n",
      "(12,)\n"
     ]
    }
   ],
   "source": [
    "print(np.sort(arr, axis=None))  # axis=None의 경우 축 무시. (행/열 구분없이 모든 값 정렬)\n",
    "                                # 1차원 배열로 정렬이 된다. (축이 사라진다. 즉, 차원을 없앤다)\n",
    "print(np.sort(arr, axis=None).shape)"
   ]
  },
  {
   "cell_type": "markdown",
   "metadata": {},
   "source": [
    "##### np.argsort\n",
    "- 배열의 값을 정렬했을 때, 각 값의 원래 인덱스를 반환\n",
    "- 정렬할 때 어떤 순서로 값을 배치해야 하는지 알려주는 인덱스를 반환\n",
    "- 배열의 값을 정렬한 후, 정렬된 순서에 해당하는 인덱스를 반환"
   ]
  },
  {
   "cell_type": "code",
   "execution_count": 9,
   "metadata": {},
   "outputs": [
    {
     "name": "stdout",
     "output_type": "stream",
     "text": [
      "[100 200 300 400]\n",
      "[0 2 3 1]\n"
     ]
    }
   ],
   "source": [
    "arr = np.array([100, 400, 200, 300])\n",
    "print(np.sort(arr))\n",
    "print(np.argsort(arr)) # 정렬된 배열의 각 요소의 원래 자리의 인덱스를 반환해준다."
   ]
  },
  {
   "cell_type": "code",
   "execution_count": 10,
   "metadata": {},
   "outputs": [
    {
     "name": "stdout",
     "output_type": "stream",
     "text": [
      "[1000  900  870  670]\n",
      "[2 0 1 3]\n"
     ]
    },
    {
     "data": {
      "text/plain": [
       "array(['제니', '리사', '로제', '지수'], dtype='<U2')"
      ]
     },
     "execution_count": 10,
     "metadata": {},
     "output_type": "execute_result"
    }
   ],
   "source": [
    "names = np.array(['리사', '로제', '제니', '지수'])\n",
    "album_sales = np.array([900, 870, 1000, 670])\n",
    "\n",
    "print(np.sort(album_sales)[::-1])\n",
    "sales_desc = np.argsort(album_sales)[::-1]\n",
    "print(sales_desc)\n",
    "names[sales_desc]\n",
    "\n",
    "# 내가 푼 방법\n",
    "# print(np.sort(album_sales)[::-1])\n",
    "# indices = np.argsort(album_sales)[::-1]\n",
    "\n",
    "# print(names[indices])"
   ]
  },
  {
   "cell_type": "code",
   "execution_count": 11,
   "metadata": {},
   "outputs": [
    {
     "name": "stdout",
     "output_type": "stream",
     "text": [
      "[[2025    2   28]\n",
      " [  17   18   30]]\n",
      "=================\n",
      "[[   2   28 2025]\n",
      " [  17   18   30]]\n",
      "[[1 2 0]\n",
      " [0 1 2]]\n",
      "[[1 2 0]\n",
      " [0 1 2]]\n",
      "=================\n",
      "[[  17    2   28]\n",
      " [2025   18   30]]\n",
      "[[1 0 0]\n",
      " [0 1 1]]\n"
     ]
    }
   ],
   "source": [
    "# 2차원 배열에서 argsort\n",
    "\n",
    "arr = np.array([[2025, 2, 28], [17, 18, 30]])\n",
    "print(arr)\n",
    "print(\"=================\")\n",
    "print(np.sort(arr))\n",
    "print(np.argsort(arr))\n",
    "print(np.argsort(arr, axis=1)) # 열 방향 정렬의 순서 (같은 행 안에서 정렬)\n",
    "print(\"=================\")\n",
    "print(np.sort(arr, axis=0))\n",
    "print(np.argsort(arr, axis=0)) # 행 방향 정렬의 순서 (같은 열 안에서 정렬)"
   ]
  },
  {
   "cell_type": "code",
   "execution_count": null,
   "metadata": {},
   "outputs": [],
   "source": []
  }
 ],
 "metadata": {
  "kernelspec": {
   "display_name": "pystudy_env",
   "language": "python",
   "name": "python3"
  },
  "language_info": {
   "codemirror_mode": {
    "name": "ipython",
    "version": 3
   },
   "file_extension": ".py",
   "mimetype": "text/x-python",
   "name": "python",
   "nbconvert_exporter": "python",
   "pygments_lexer": "ipython3",
   "version": "3.12.9"
  }
 },
 "nbformat": 4,
 "nbformat_minor": 2
}
