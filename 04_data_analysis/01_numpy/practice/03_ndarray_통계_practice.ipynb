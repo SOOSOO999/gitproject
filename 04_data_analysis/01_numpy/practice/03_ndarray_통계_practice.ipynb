{
 "cells": [
  {
   "cell_type": "code",
   "execution_count": 4,
   "metadata": {},
   "outputs": [],
   "source": [
    "import numpy as np"
   ]
  },
  {
   "cell_type": "markdown",
   "metadata": {},
   "source": [
    "[실습 1] 중심 경향 및 산포 측도 계산"
   ]
  },
  {
   "cell_type": "markdown",
   "metadata": {},
   "source": [
    "아래 배열에서 평균, 중앙값, 최빈값, 분산, 표준편차, 범위를 계산하세요.\n",
    "\n",
    "arr = np.array([10, 20, 30, 30, 40, 50, 60])"
   ]
  },
  {
   "cell_type": "code",
   "execution_count": 15,
   "metadata": {},
   "outputs": [
    {
     "name": "stdout",
     "output_type": "stream",
     "text": [
      "평균값:  34.285714285714285\n",
      "중앙값:  30.0\n",
      "최빈값:  [30]\n",
      "분산:  253.06122448979593\n",
      "표준편차:  15.90789817951435\n",
      "범위:  50\n"
     ]
    }
   ],
   "source": [
    "arr = np.array([10, 20, 30, 30, 40, 50, 60])\n",
    "\n",
    "# 평균값    \n",
    "print('평균값: ',np.mean(arr))\n",
    "\n",
    "# 중앙값\n",
    "print('중앙값: ', np.median(arr))\n",
    "\n",
    "# 최빈값\n",
    "values, count = np.unique(arr, return_counts=True)\n",
    "max_count = np.max(count)\n",
    "print('최빈값: ', values[count == max_count])\n",
    "\n",
    "# 분산\n",
    "print('분산: ', np.var(arr))\n",
    "\n",
    "# 표준편차\n",
    "print('표준편차: ', np.std(arr))\n",
    "\n",
    "# 범위\n",
    "print('범위: ', np.max(arr) - np.min(arr))"
   ]
  },
  {
   "cell_type": "markdown",
   "metadata": {},
   "source": [
    "[실습 2] 정규분포와 균등분포의 난수 생성\n",
    "\n",
    "정규분포와 균등분포에서 각각 난수를 생성하여, 평균과 표준편차를 계산하세요.\n",
    "\n",
    "1. 평균 0, 표준편차 1인 정규분포 난수 1000개 생성\n",
    "2. 0과 1 사이의 균등분포 난수 1000개 생성"
   ]
  },
  {
   "cell_type": "code",
   "execution_count": 16,
   "metadata": {},
   "outputs": [],
   "source": [
    "# 1\n",
    "arr1 = np.random.randn(1000)\n",
    "\n",
    "# 2\n",
    "arr2 = np.random.rand(1000)"
   ]
  },
  {
   "cell_type": "markdown",
   "metadata": {},
   "source": [
    "[실습 3] 평균 성적 구하기\n",
    "\n",
    "아래와 같이 학생별 과목 성적 데이터가 주어졌을 때, 각 학생의 전체 평균 성적(수학, 영어, 과학)을 계산한 후, 이 평균값에 대한 분산과 표준편차를 구하세요.\n",
    "\n",
    "\n",
    "# 학생별 과목 성적 데이터\n",
    "scores_math = [88, 92, 76, 85, 95, 92, 88, 90, 85, 88]\n",
    "scores_english = [90, 85, 80, 87, 92, 89, 83, 91, 86, 88]\n",
    "scores_science = [85, 88, 82, 89, 94, 86, 91, 88, 84, 87]"
   ]
  },
  {
   "cell_type": "code",
   "execution_count": 20,
   "metadata": {},
   "outputs": [
    {
     "name": "stdout",
     "output_type": "stream",
     "text": [
      "평균 성적:  [87.66666667 88.33333333 79.33333333 87.         93.66666667 89.\n",
      " 87.33333333 89.66666667 85.         87.66666667]\n",
      "분산:  11.89333333333335\n",
      "표준편차:  3.4486712417006857\n"
     ]
    }
   ],
   "source": [
    "scores_math = [88, 92, 76, 85, 95, 92, 88, 90, 85, 88]\n",
    "scores_english = [90, 85, 80, 87, 92, 89, 83, 91, 86, 88]\n",
    "scores_science = [85, 88, 82, 89, 94, 86, 91, 88, 84, 87]\n",
    "\n",
    "arr1 = np.array(scores_math)\n",
    "arr2 = np.array(scores_english)\n",
    "arr3 = np.array(scores_science)\n",
    "\n",
    "avg = (arr1 + arr2 + arr3) / 3\n",
    "\n",
    "print('평균 성적: ', avg)\n",
    "\n",
    "print('분산: ', np.var(avg))\n",
    "print('표준편차: ', np.std(avg))"
   ]
  }
 ],
 "metadata": {
  "kernelspec": {
   "display_name": "pystudy_env",
   "language": "python",
   "name": "python3"
  },
  "language_info": {
   "codemirror_mode": {
    "name": "ipython",
    "version": 3
   },
   "file_extension": ".py",
   "mimetype": "text/x-python",
   "name": "python",
   "nbconvert_exporter": "python",
   "pygments_lexer": "ipython3",
   "version": "3.12.9"
  }
 },
 "nbformat": 4,
 "nbformat_minor": 2
}
