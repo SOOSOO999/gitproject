{
 "cells": [
  {
   "cell_type": "markdown",
   "metadata": {},
   "source": [
    "다음과 같은 과일 판매량 데이터가 있습니다. 각 과일의 1분기와 2분기 판매량이 주어졌을 때, NumPy 배열을 사용하여 아래 문제를 해결하세요.\n",
    "\n",
    "1. 1분기와 2분기의 과일별 총 판매량을 구하세요.\n",
    "2. 과일별 평균 판매량을 구하세요.\n",
    "\n",
    "- **데이터**:\n",
    "    - 1분기 판매량: `[200, 340, 150, 400]` (사과, 배, 오렌지, 바나나)\n",
    "    - 2분기 판매량: `[220, 300, 180, 420]` (사과, 배, 오렌지, 바나나)"
   ]
  },
  {
   "cell_type": "code",
   "execution_count": 2,
   "metadata": {},
   "outputs": [],
   "source": [
    "import numpy as np"
   ]
  },
  {
   "cell_type": "code",
   "execution_count": 15,
   "metadata": {},
   "outputs": [
    {
     "name": "stdout",
     "output_type": "stream",
     "text": [
      "[200 340 150 400]\n",
      "[220 300 180 420]\n",
      "1분기와 2분기의 과일별 총 판매량:  [420 640 330 820]\n",
      "1분기와 2분기의 과일별 평균 판매량:  [210. 320. 165. 410.]\n",
      "1분기와 2분기의 과일별 평균 판매량:  [210. 320. 165. 410.]\n"
     ]
    }
   ],
   "source": [
    "arr_a = np.array([200, 340, 150, 400])\n",
    "arr_b = np.array([220, 300, 180, 420])\n",
    "print(arr_a)\n",
    "print(arr_b)\n",
    "print(\"1분기와 2분기의 과일별 총 판매량: \", arr_a + arr_b)\n",
    "print(\"1분기와 2분기의 과일별 평균 판매량: \", (arr_a + arr_b) / 2)\n",
    "print(\"1분기와 2분기의 과일별 평균 판매량: \", np.average([arr_a, arr_b], axis=0))"
   ]
  },
  {
   "cell_type": "markdown",
   "metadata": {},
   "source": [
    "다음 두 배열을 사용하여 각각의 요소별로 덧셈, 뺄셈, 곱셈, 나눗셈을 수행하세요.\n",
    "\n",
    "arr1 = np.array([10, 20, 30, 40])\n",
    "arr2 = np.array([1, 2, 3, 4])"
   ]
  },
  {
   "cell_type": "code",
   "execution_count": 3,
   "metadata": {},
   "outputs": [
    {
     "name": "stdout",
     "output_type": "stream",
     "text": [
      "덧셈\n",
      "[11 22 33 44]\n",
      "[11 22 33 44]\n",
      "==============\n",
      "뺄셈\n",
      "[ 9 18 27 36]\n",
      "[ 9 18 27 36]\n",
      "==============\n",
      "곱셈\n",
      "[ 10  40  90 160]\n",
      "[ 10  40  90 160]\n",
      "==============\n",
      "나눗셈\n",
      "[10. 10. 10. 10.]\n",
      "[10. 10. 10. 10.]\n"
     ]
    }
   ],
   "source": [
    "arr1 = np.array([10, 20, 30, 40])\n",
    "arr2 = np.array([1, 2, 3, 4])\n",
    "\n",
    "print(\"덧셈\")\n",
    "print(arr1 + arr2)\n",
    "print(np.add(arr1, arr2))\n",
    "print(\"==============\")\n",
    "print(\"뺄셈\")\n",
    "print(arr1 - arr2)\n",
    "print(np.subtract(arr1, arr2))\n",
    "print(\"==============\")\n",
    "print(\"곱셈\")\n",
    "print(arr1 * arr2)\n",
    "print(np.multiply(arr1, arr2))\n",
    "print(\"==============\")\n",
    "print(\"나눗셈\")\n",
    "print(arr1 / arr2)\n",
    "print(np.divide(arr1, arr2))"
   ]
  },
  {
   "cell_type": "markdown",
   "metadata": {},
   "source": [
    "다음 두 배열 간의 내적 연산을 수행하세요.\n",
    "\n",
    "arr1 = np.array([1, 2, 3])\n",
    "arr2 = np.array([4, 5, 6])"
   ]
  },
  {
   "cell_type": "code",
   "execution_count": 6,
   "metadata": {},
   "outputs": [
    {
     "name": "stdout",
     "output_type": "stream",
     "text": [
      "32\n"
     ]
    }
   ],
   "source": [
    "arr1 = np.array([1, 2, 3])\n",
    "arr2 = np.array([4, 5, 6])\n",
    "\n",
    "print(arr1 @ arr2)"
   ]
  },
  {
   "cell_type": "markdown",
   "metadata": {},
   "source": [
    "아래의 2차원 배열과 1차원 배열을 브로드캐스팅하여 더하세요.\n",
    "\n",
    "arr2d = np.array([[1, 2, 3], [4, 5, 6]])\n",
    "arr1d = np.array([10, 20, 30])"
   ]
  },
  {
   "cell_type": "code",
   "execution_count": 7,
   "metadata": {},
   "outputs": [
    {
     "name": "stdout",
     "output_type": "stream",
     "text": [
      "[[11 22 33]\n",
      " [14 25 36]]\n"
     ]
    }
   ],
   "source": [
    "arr2d = np.array([[1, 2, 3], [4, 5, 6]])\n",
    "arr1d = np.array([10, 20, 30])\n",
    "\n",
    "print(arr2d + arr1d)"
   ]
  }
 ],
 "metadata": {
  "kernelspec": {
   "display_name": "pystudy_env",
   "language": "python",
   "name": "python3"
  },
  "language_info": {
   "codemirror_mode": {
    "name": "ipython",
    "version": 3
   },
   "file_extension": ".py",
   "mimetype": "text/x-python",
   "name": "python",
   "nbconvert_exporter": "python",
   "pygments_lexer": "ipython3",
   "version": "3.12.9"
  }
 },
 "nbformat": 4,
 "nbformat_minor": 2
}
