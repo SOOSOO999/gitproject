{
 "cells": [
  {
   "cell_type": "markdown",
   "metadata": {},
   "source": [
    "### pandas - Series\n",
    "- index(label)을 통해 처리 가능한 1차원 배열 "
   ]
  },
  {
   "cell_type": "code",
   "execution_count": 2,
   "metadata": {},
   "outputs": [],
   "source": [
    "import pandas as pd\n",
    "import numpy as np"
   ]
  },
  {
   "cell_type": "markdown",
   "metadata": {},
   "source": [
    "---"
   ]
  },
  {
   "cell_type": "markdown",
   "metadata": {},
   "source": [
    "##### Series 생성"
   ]
  },
  {
   "cell_type": "code",
   "execution_count": null,
   "metadata": {},
   "outputs": [
    {
     "name": "stdout",
     "output_type": "stream",
     "text": [
      "<class 'pandas.core.series.Series'>\n",
      "NVDA\n",
      "0    NVDA\n",
      "1    MSFT\n",
      "2    AAPL\n",
      "3    GOOG\n",
      "4    TSLA\n",
      "Name: 미국 주식, dtype: object\n"
     ]
    }
   ],
   "source": [
    "# 파이썬 list 활용\n",
    "\n",
    "stocks = ['NVDA', 'MSFT', 'AAPL', 'GOOG', 'TSLA']\n",
    "stocks_ser = pd.Series(stocks)\n",
    "print(type(stocks_ser))\n",
    "print(stocks_ser[0])\n",
    "\n",
    "stocks_ser.name = '미국 주식' # series의 이름\n",
    "print(stocks_ser)"
   ]
  },
  {
   "cell_type": "code",
   "execution_count": null,
   "metadata": {},
   "outputs": [
    {
     "name": "stdout",
     "output_type": "stream",
     "text": [
      "a   -0.369704\n",
      "b    0.482538\n",
      "c   -1.173213\n",
      "d   -1.895030\n",
      "e   -1.751548\n",
      "dtype: float64\n",
      "-1.173213250373459 -1.173213250373459\n",
      "-1.173213250373459 -1.173213250373459\n"
     ]
    },
    {
     "name": "stderr",
     "output_type": "stream",
     "text": [
      "C:\\Users\\USER\\AppData\\Local\\Temp\\ipykernel_56664\\3696916900.py:4: FutureWarning: Series.__getitem__ treating keys as positions is deprecated. In a future version, integer keys will always be treated as labels (consistent with DataFrame behavior). To access a value by position, use `ser.iloc[pos]`\n",
      "  print(nums_ser[2], nums_ser['c'])\n"
     ]
    }
   ],
   "source": [
    "# ndarray 활용\n",
    "nums_ser = pd.Series(np.random.randn(5), index=['a', 'b', 'c', 'd', 'e'])\n",
    "print(nums_ser)\n",
    "print(nums_ser[2], nums_ser['c'])\n",
    "print(nums_ser.iloc[2], nums_ser.loc['c'])  # loc 는 label(이름)을 참조해서 찾고, iloc는 integerlocatoin 즉 index 숫자를 통한 참조가 이루어진다.\n",
    "# iloc(integer location) : 인덱스를 통한 참조\n",
    "# loc(location) : 인덱스 라벨을 통한 참조"
   ]
  },
  {
   "cell_type": "code",
   "execution_count": null,
   "metadata": {},
   "outputs": [
    {
     "name": "stdout",
     "output_type": "stream",
     "text": [
      "a    10\n",
      "b    20\n",
      "c    30\n",
      "dtype: int64\n",
      "A    10\n",
      "B    20\n",
      "C    30\n",
      "dtype: int64\n"
     ]
    }
   ],
   "source": [
    "# dictionary 활용\n",
    "info = {\n",
    "    'a' : 10,\n",
    "    'b' : 20,\n",
    "    'c' : 30\n",
    "}\n",
    "info_ser = pd.Series(info)\n",
    "print(info_ser)\n",
    "\n",
    "info_ser.index = ['A', 'B', 'C']    # ser.index : 인덱스 라벨에 순차적으로 넣어준다.\n",
    "print(info_ser)\n"
   ]
  },
  {
   "cell_type": "code",
   "execution_count": 19,
   "metadata": {},
   "outputs": [
    {
     "name": "stdout",
     "output_type": "stream",
     "text": [
      "a    5.5\n",
      "b    5.5\n",
      "c    5.5\n",
      "d    5.5\n",
      "e    5.5\n",
      "dtype: float64\n"
     ]
    }
   ],
   "source": [
    "# scalar value 활용\n",
    "num_ser = pd.Series(5.5)\n",
    "num_ser = pd.Series(5.5, index=['a', 'b', 'c', 'd', 'e'])\n",
    "print(num_ser)"
   ]
  },
  {
   "cell_type": "markdown",
   "metadata": {},
   "source": [
    "---"
   ]
  },
  {
   "cell_type": "markdown",
   "metadata": {},
   "source": [
    "##### Series 속성"
   ]
  },
  {
   "cell_type": "code",
   "execution_count": 21,
   "metadata": {},
   "outputs": [
    {
     "data": {
      "text/plain": [
       "0        인턴\n",
       "1    아이 엠 샘\n",
       "2        록키\n",
       "3        탑건\n",
       "4       007\n",
       "dtype: object"
      ]
     },
     "execution_count": 21,
     "metadata": {},
     "output_type": "execute_result"
    }
   ],
   "source": [
    "movies = ['인턴', '아이 엠 샘', '록키', '탑건', '007']\n",
    "movies_ser = pd.Series(movies)\n",
    "movies_ser"
   ]
  },
  {
   "cell_type": "code",
   "execution_count": 25,
   "metadata": {},
   "outputs": [
    {
     "name": "stdout",
     "output_type": "stream",
     "text": [
      "['인턴' '아이 엠 샘' '록키' '탑건' '007']\n"
     ]
    },
    {
     "data": {
      "text/plain": [
       "array(['인턴', '아이 엠 샘', '록키', '탑건', '007'], dtype=object)"
      ]
     },
     "execution_count": 25,
     "metadata": {},
     "output_type": "execute_result"
    }
   ],
   "source": [
    "print(movies_ser.values)\n",
    "movies_ser.values"
   ]
  },
  {
   "cell_type": "code",
   "execution_count": 23,
   "metadata": {},
   "outputs": [
    {
     "data": {
      "text/plain": [
       "<NumpyExtensionArray>\n",
       "['인턴', '아이 엠 샘', '록키', '탑건', '007']\n",
       "Length: 5, dtype: object"
      ]
     },
     "execution_count": 23,
     "metadata": {},
     "output_type": "execute_result"
    }
   ],
   "source": [
    "movies_ser.array"
   ]
  },
  {
   "cell_type": "code",
   "execution_count": 27,
   "metadata": {},
   "outputs": [
    {
     "data": {
      "text/plain": [
       "Index(['1st', '2nd', '3rd', '4th', '5th'], dtype='object')"
      ]
     },
     "execution_count": 27,
     "metadata": {},
     "output_type": "execute_result"
    }
   ],
   "source": [
    "# index를 별도 지정하지 않은 경우 기본적으로 숫자 인덱스\n",
    "movies_ser.index = ['1st', '2nd', '3rd', '4th', '5th']\n",
    "movies_ser.index    # 라벨을 지정한 경우 라벨 인덱스\n"
   ]
  },
  {
   "cell_type": "code",
   "execution_count": 29,
   "metadata": {},
   "outputs": [
    {
     "name": "stdout",
     "output_type": "stream",
     "text": [
      "object\n",
      "(5,)\n",
      "1\n",
      "5\n"
     ]
    }
   ],
   "source": [
    "print(movies_ser.dtype)     # 요소의 자료형\n",
    "print(movies_ser.shape)     # 형태\n",
    "print(movies_ser.ndim)      # 차원\n",
    "print(movies_ser.size)      # 요소의 개수"
   ]
  },
  {
   "cell_type": "code",
   "execution_count": null,
   "metadata": {},
   "outputs": [
    {
     "data": {
      "text/plain": [
       "True"
      ]
     },
     "execution_count": 30,
     "metadata": {},
     "output_type": "execute_result"
    }
   ],
   "source": [
    "# 시리즈의 값이 모두 고유한 값인지 여부 (True : 중복 값이 없음 / False : 중복 값이 있음)\n",
    "movies_ser.is_unique"
   ]
  },
  {
   "cell_type": "markdown",
   "metadata": {},
   "source": [
    "---"
   ]
  },
  {
   "cell_type": "markdown",
   "metadata": {},
   "source": [
    "##### Series의 메서드"
   ]
  },
  {
   "cell_type": "code",
   "execution_count": 54,
   "metadata": {},
   "outputs": [],
   "source": [
    "nums_ser = pd.Series([2025, 3, 4, 12, 41])"
   ]
  },
  {
   "cell_type": "code",
   "execution_count": null,
   "metadata": {},
   "outputs": [
    {
     "name": "stdout",
     "output_type": "stream",
     "text": [
      "2085\n",
      "11955600\n",
      "417.0\n"
     ]
    }
   ],
   "source": [
    "print(nums_ser.sum())       # 누적 합 (총합)\n",
    "print(nums_ser.product())   # 누적 곱 \n",
    "print(nums_ser.mean())      # 평균"
   ]
  },
  {
   "cell_type": "code",
   "execution_count": null,
   "metadata": {},
   "outputs": [
    {
     "name": "stdout",
     "output_type": "stream",
     "text": [
      "0    2025\n",
      "1       3\n",
      "2       4\n",
      "3      12\n",
      "4      41\n",
      "dtype: int64\n",
      "0    2025\n",
      "1       3\n",
      "dtype: int64\n",
      "3    12\n",
      "4    41\n",
      "dtype: int64\n"
     ]
    }
   ],
   "source": [
    "print(nums_ser)\n",
    "print(nums_ser.head(2))     # 앞에서 일부 데이터를 조회 (기본값: 5)\n",
    "print(nums_ser.tail(2))     # 뒤에서 일부 데이터를 조회 (기본값: 5)"
   ]
  },
  {
   "cell_type": "code",
   "execution_count": null,
   "metadata": {},
   "outputs": [
    {
     "name": "stdout",
     "output_type": "stream",
     "text": [
      "<class 'pandas.core.series.Series'>\n",
      "RangeIndex: 5 entries, 0 to 4\n",
      "Series name: None\n",
      "Non-Null Count  Dtype\n",
      "--------------  -----\n",
      "5 non-null      int64\n",
      "dtypes: int64(1)\n",
      "memory usage: 172.0 bytes\n"
     ]
    }
   ],
   "source": [
    "nums_ser.info()     # series의 메타 데이터(시리즈에 대한 자체적인 시리즈의 기본 정보)"
   ]
  },
  {
   "cell_type": "code",
   "execution_count": null,
   "metadata": {},
   "outputs": [
    {
     "data": {
      "text/plain": [
       "count       5.000000\n",
       "mean      417.000000\n",
       "std       899.031423\n",
       "min         3.000000\n",
       "25%         4.000000\n",
       "50%        12.000000\n",
       "75%        41.000000\n",
       "max      2025.000000\n",
       "dtype: float64"
      ]
     },
     "execution_count": 40,
     "metadata": {},
     "output_type": "execute_result"
    }
   ],
   "source": [
    "nums_ser.describe()     # 데이터 분석/설명"
   ]
  },
  {
   "cell_type": "code",
   "execution_count": 60,
   "metadata": {},
   "outputs": [
    {
     "name": "stdout",
     "output_type": "stream",
     "text": [
      "a    2025\n",
      "b       3\n",
      "c       4\n",
      "d      12\n",
      "e      41\n",
      "dtype: int64\n",
      "3 3\n"
     ]
    }
   ],
   "source": [
    "# nums_ser = pd.Series([2025, 3, 4, 12, 41])\n",
    "# print(nums_ser)\n",
    "\n",
    "# # # print(nums_ser.iloc[1], nums_ser.loc[1])\n",
    "\n",
    "nums_ser.index = list('abcde')  # ['a', 'b', 'c', 'd', 'e']\n",
    "print(nums_ser)\n",
    "\n",
    "print(nums_ser.iloc[1], nums_ser.loc['b'])"
   ]
  },
  {
   "cell_type": "markdown",
   "metadata": {},
   "source": [
    "---"
   ]
  },
  {
   "cell_type": "markdown",
   "metadata": {},
   "source": [
    "##### SP500 데이터 활용"
   ]
  },
  {
   "cell_type": "code",
   "execution_count": null,
   "metadata": {},
   "outputs": [
    {
     "data": {
      "text/plain": [
       "pandas.core.series.Series"
      ]
     },
     "execution_count": 64,
     "metadata": {},
     "output_type": "execute_result"
    }
   ],
   "source": [
    "# df.squeeze() : Dataframe의 Series가 하나인 경우 Series 객체 반환\n",
    "sp_500_df = pd.read_csv('./data/S_P500_Prices.csv') # pd.read_csv() : 파일을 dataframe으로 반환\n",
    "sp_500_ser = sp_500_df.squeeze()    # Series가 여럿인 경우 squeeze를 할 수 없다. 원본이 반환된다.\n",
    "type(sp_500_ser)"
   ]
  },
  {
   "cell_type": "code",
   "execution_count": null,
   "metadata": {},
   "outputs": [],
   "source": [
    "print(type(sp_500_df))\n",
    "sp_500_df"
   ]
  },
  {
   "cell_type": "code",
   "execution_count": 65,
   "metadata": {},
   "outputs": [
    {
     "name": "stdout",
     "output_type": "stream",
     "text": [
      "<class 'pandas.core.series.Series'>\n",
      "RangeIndex: 2159 entries, 0 to 2158\n",
      "Series name: sp500\n",
      "Non-Null Count  Dtype  \n",
      "--------------  -----  \n",
      "2159 non-null   float64\n",
      "dtypes: float64(1)\n",
      "memory usage: 17.0 KB\n"
     ]
    }
   ],
   "source": [
    "sp_500_ser.info()"
   ]
  },
  {
   "cell_type": "code",
   "execution_count": 66,
   "metadata": {},
   "outputs": [
    {
     "data": {
      "text/plain": [
       "count    2159.000000\n",
       "mean     2218.749554\n",
       "std       537.321727\n",
       "min      1278.040039\n",
       "25%      1847.984985\n",
       "50%      2106.629883\n",
       "75%      2705.810059\n",
       "max      3386.149902\n",
       "Name: sp500, dtype: float64"
      ]
     },
     "execution_count": 66,
     "metadata": {},
     "output_type": "execute_result"
    }
   ],
   "source": [
    "sp_500_ser.describe()"
   ]
  },
  {
   "cell_type": "code",
   "execution_count": 67,
   "metadata": {},
   "outputs": [],
   "source": [
    "# 형태, 요소 개수, 깊이\n",
    "# 개수, 최소값, 중위값, 최대값, 평균값, 표준편차값, 분산값\n",
    "# 인덱스 번호로 인덱스 및 슬라이싱 : 인덱스 50의 값 가져오기, 인덱스 100~200 값 가져오기.\n",
    "# fancy indexing 써보기\n",
    "# boolean indexing 써보기 "
   ]
  },
  {
   "cell_type": "code",
   "execution_count": 69,
   "metadata": {},
   "outputs": [
    {
     "name": "stdout",
     "output_type": "stream",
     "text": [
      "(2159,)\n",
      "2159\n",
      "1\n"
     ]
    }
   ],
   "source": [
    "# 형태, 요소 개수, 깊이\n",
    "print(sp_500_ser.shape)\n",
    "print(sp_500_ser.size)\n",
    "print(sp_500_ser.ndim)\n"
   ]
  },
  {
   "cell_type": "code",
   "execution_count": 87,
   "metadata": {},
   "outputs": [
    {
     "data": {
      "text/plain": [
       "(np.int64(2159),\n",
       " np.float64(1278.040039),\n",
       " np.float64(2106.629883),\n",
       " np.float64(3386.149902),\n",
       " np.float64(2218.7495540592868),\n",
       " np.float64(537.3217268874763),\n",
       " np.float64(288714.6381853397))"
      ]
     },
     "execution_count": 87,
     "metadata": {},
     "output_type": "execute_result"
    }
   ],
   "source": [
    "# 개수, 최소값, 중위값, 최대값, 평균값, 표준편차값, 분산값\n",
    "sp_500_ser.count(), sp_500_ser.min(), sp_500_ser.median(), sp_500_ser.max(), sp_500_ser.mean(), sp_500_ser.std(), sp_500_ser.var()"
   ]
  },
  {
   "cell_type": "code",
   "execution_count": 89,
   "metadata": {},
   "outputs": [
    {
     "name": "stdout",
     "output_type": "stream",
     "text": [
      "1416.51001\n",
      "1416.51001\n",
      "100    1315.130005\n",
      "101    1314.989990\n",
      "102    1325.660034\n",
      "103    1308.930054\n",
      "104    1324.180054\n",
      "          ...     \n",
      "196    1433.819946\n",
      "197    1413.109985\n",
      "198    1408.750000\n",
      "199    1412.969971\n",
      "200    1411.939941\n",
      "Name: sp500, Length: 101, dtype: float64\n",
      "100    1315.130005\n",
      "101    1314.989990\n",
      "102    1325.660034\n",
      "103    1308.930054\n",
      "104    1324.180054\n",
      "          ...     \n",
      "196    1433.819946\n",
      "197    1413.109985\n",
      "198    1408.750000\n",
      "199    1412.969971\n",
      "200    1411.939941\n",
      "Name: sp500, Length: 101, dtype: float64\n"
     ]
    }
   ],
   "source": [
    "# 인덱스 번호로 인덱스 및 슬라이싱 : 인덱스 50의 값 가져오기, 인덱스 100~200 값 가져오기.\n",
    "\n",
    "print(sp_500_ser[50])\n",
    "print(sp_500_ser.iloc[50])\n",
    "print(sp_500_ser[100:201])\n",
    "print(sp_500_ser.iloc[100:201])\n"
   ]
  },
  {
   "cell_type": "code",
   "execution_count": 76,
   "metadata": {},
   "outputs": [
    {
     "name": "stdout",
     "output_type": "stream",
     "text": [
      "1       1289.089966\n",
      "500     1838.130005\n",
      "1300    2385.260010\n",
      "Name: sp500, dtype: float64\n"
     ]
    }
   ],
   "source": [
    "# fancy indexing 써보기\n",
    "print(sp_500_ser[[1, 500, 1300]])"
   ]
  },
  {
   "cell_type": "code",
   "execution_count": 94,
   "metadata": {},
   "outputs": [
    {
     "name": "stdout",
     "output_type": "stream",
     "text": [
      "1885    3013.770020\n",
      "1886    3014.300049\n",
      "1887    3004.040039\n",
      "1892    3005.469971\n",
      "1893    3019.560059\n",
      "           ...     \n",
      "2154    3327.770020\n",
      "2155    3349.159912\n",
      "2156    3351.280029\n",
      "2157    3360.469971\n",
      "2158    3333.689941\n",
      "Name: sp500, Length: 160, dtype: float64\n"
     ]
    },
    {
     "data": {
      "text/plain": [
       "1885    3013.770020\n",
       "1886    3014.300049\n",
       "1887    3004.040039\n",
       "1892    3005.469971\n",
       "1893    3019.560059\n",
       "           ...     \n",
       "2154    3327.770020\n",
       "2155    3349.159912\n",
       "2156    3351.280029\n",
       "2157    3360.469971\n",
       "2158    3333.689941\n",
       "Name: sp500, Length: 160, dtype: float64"
      ]
     },
     "execution_count": 94,
     "metadata": {},
     "output_type": "execute_result"
    }
   ],
   "source": [
    "# boolean indexing 써보기 \n",
    "print(sp_500_ser[sp_500_ser > 3000])\n",
    "sp_500_ser.iloc[sp_500_ser.values > 3000]"
   ]
  },
  {
   "cell_type": "code",
   "execution_count": null,
   "metadata": {},
   "outputs": [
    {
     "name": "stdout",
     "output_type": "stream",
     "text": [
      "True\n",
      "True\n",
      "True\n"
     ]
    }
   ],
   "source": [
    "print(3013.770020 in sp_500_ser.values)     # 특정 값을 가지고 있는 여부\n",
    "\n",
    "print(2000 in sp_500_ser)       # .values 붙이지 않으면 기본 값은 index로 찾음\n",
    "print(2000 in sp_500_ser.index) "
   ]
  },
  {
   "cell_type": "code",
   "execution_count": 103,
   "metadata": {},
   "outputs": [
    {
     "data": {
      "text/plain": [
       "97      1278.040039\n",
       "98      1278.180054\n",
       "99      1285.500000\n",
       "1       1289.089966\n",
       "2       1293.670044\n",
       "           ...     \n",
       "2038    3373.229980\n",
       "2034    3373.939941\n",
       "2033    3379.449951\n",
       "2035    3380.159912\n",
       "2037    3386.149902\n",
       "Name: sp500, Length: 2159, dtype: float64"
      ]
     },
     "execution_count": 103,
     "metadata": {},
     "output_type": "execute_result"
    }
   ],
   "source": [
    "# 정렬\n",
    "sp_500_ser = sp_500_ser.sort_values()\n",
    "sp_500_ser"
   ]
  },
  {
   "cell_type": "code",
   "execution_count": 104,
   "metadata": {},
   "outputs": [
    {
     "data": {
      "text/plain": [
       "2037    3386.149902\n",
       "2035    3380.159912\n",
       "2033    3379.449951\n",
       "2034    3373.939941\n",
       "2038    3373.229980\n",
       "           ...     \n",
       "2       1293.670044\n",
       "1       1289.089966\n",
       "99      1285.500000\n",
       "98      1278.180054\n",
       "97      1278.040039\n",
       "Name: sp500, Length: 2159, dtype: float64"
      ]
     },
     "execution_count": 104,
     "metadata": {},
     "output_type": "execute_result"
    }
   ],
   "source": [
    "sp_500_ser = sp_500_ser.sort_values(ascending=False)\n",
    "sp_500_ser"
   ]
  }
 ],
 "metadata": {
  "kernelspec": {
   "display_name": "pystudy_env",
   "language": "python",
   "name": "python3"
  },
  "language_info": {
   "codemirror_mode": {
    "name": "ipython",
    "version": 3
   },
   "file_extension": ".py",
   "mimetype": "text/x-python",
   "name": "python",
   "nbconvert_exporter": "python",
   "pygments_lexer": "ipython3",
   "version": "3.12.9"
  }
 },
 "nbformat": 4,
 "nbformat_minor": 2
}
