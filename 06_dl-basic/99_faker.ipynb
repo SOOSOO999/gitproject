{
 "cells": [
  {
   "cell_type": "markdown",
   "metadata": {},
   "source": [
    "# Faker\n",
    "- 가상 데이터 생성"
   ]
  },
  {
   "cell_type": "code",
   "execution_count": null,
   "metadata": {},
   "outputs": [
    {
     "name": "stdout",
     "output_type": "stream",
     "text": [
      "Collecting faker\n",
      "  Downloading faker-37.1.0-py3-none-any.whl.metadata (15 kB)\n",
      "Requirement already satisfied: tzdata in c:\\users\\user\\anaconda3\\envs\\pystudy_env\\lib\\site-packages (from faker) (2025.1)\n",
      "Downloading faker-37.1.0-py3-none-any.whl (1.9 MB)\n",
      "   ---------------------------------------- 0.0/1.9 MB ? eta -:--:--\n",
      "   ---------------------------------------- 1.9/1.9 MB 10.6 MB/s eta 0:00:00\n",
      "Installing collected packages: faker\n",
      "Successfully installed faker-37.1.0\n"
     ]
    }
   ],
   "source": [
    "# !pip install faker"
   ]
  },
  {
   "cell_type": "code",
   "execution_count": 5,
   "metadata": {},
   "outputs": [
    {
     "name": "stdout",
     "output_type": "stream",
     "text": [
      "Brandi Harris\n",
      "Christopher,Lee\n",
      "linda96@example.com\n",
      "Barnes, Green and Flores\n",
      "1941-12-19\n"
     ]
    }
   ],
   "source": [
    "from faker import Faker\n",
    "\n",
    "fake = Faker()\n",
    "print(fake.name())\n",
    "print(fake.first_name() + \",\" + fake.last_name())\n",
    "print(fake.email())\n",
    "print(fake.company())\n",
    "print(fake.date_of_birth(minimum_age=19, maximum_age=90))"
   ]
  },
  {
   "cell_type": "code",
   "execution_count": 6,
   "metadata": {},
   "outputs": [],
   "source": [
    "import pandas as pd\n",
    "import random\n",
    "\n",
    "fake = Faker()\n",
    "\n",
    "def generate_customer_data(n=1000):\n",
    "    data = []\n",
    "\n",
    "    for _ in range(n):\n",
    "        age = fake.random_int(min=19, max=60)\n",
    "        sub_months = fake.random_int(min=1, max=120)\n",
    "        monthly_payment = round(random.uniform(10, 100), 2)\n",
    "        usage_frequency = fake.random_int(min=1, max=30)\n",
    "        stft_score = fake.random_int(min=1, max=5)\n",
    "        churn = fake.boolean(chance_of_getting_true=30) # 30%가 true\n",
    "\n",
    "        data.append([\n",
    "            age, sub_months, monthly_payment, usage_frequency, stft_score, churn\n",
    "        ])\n",
    "    \n",
    "    columns = [\"AGE\", \"SUB_MONTHS\", \"MONTHLY_PAYMENT\", \"USAGE_FEQ\", \"STFT\", \"CHURN\"]\n",
    "\n",
    "    return pd.DataFrame(data, columns=columns)\n"
   ]
  },
  {
   "cell_type": "code",
   "execution_count": 8,
   "metadata": {},
   "outputs": [
    {
     "data": {
      "text/html": [
       "<div>\n",
       "<style scoped>\n",
       "    .dataframe tbody tr th:only-of-type {\n",
       "        vertical-align: middle;\n",
       "    }\n",
       "\n",
       "    .dataframe tbody tr th {\n",
       "        vertical-align: top;\n",
       "    }\n",
       "\n",
       "    .dataframe thead th {\n",
       "        text-align: right;\n",
       "    }\n",
       "</style>\n",
       "<table border=\"1\" class=\"dataframe\">\n",
       "  <thead>\n",
       "    <tr style=\"text-align: right;\">\n",
       "      <th></th>\n",
       "      <th>AGE</th>\n",
       "      <th>SUB_MONTHS</th>\n",
       "      <th>MONTHLY_PAYMENT</th>\n",
       "      <th>USAGE_FEQ</th>\n",
       "      <th>STFT</th>\n",
       "      <th>CHURN</th>\n",
       "    </tr>\n",
       "  </thead>\n",
       "  <tbody>\n",
       "    <tr>\n",
       "      <th>0</th>\n",
       "      <td>29</td>\n",
       "      <td>34</td>\n",
       "      <td>72.96</td>\n",
       "      <td>24</td>\n",
       "      <td>5</td>\n",
       "      <td>False</td>\n",
       "    </tr>\n",
       "    <tr>\n",
       "      <th>1</th>\n",
       "      <td>54</td>\n",
       "      <td>60</td>\n",
       "      <td>45.45</td>\n",
       "      <td>21</td>\n",
       "      <td>5</td>\n",
       "      <td>True</td>\n",
       "    </tr>\n",
       "    <tr>\n",
       "      <th>2</th>\n",
       "      <td>40</td>\n",
       "      <td>52</td>\n",
       "      <td>45.22</td>\n",
       "      <td>12</td>\n",
       "      <td>5</td>\n",
       "      <td>False</td>\n",
       "    </tr>\n",
       "    <tr>\n",
       "      <th>3</th>\n",
       "      <td>36</td>\n",
       "      <td>61</td>\n",
       "      <td>80.85</td>\n",
       "      <td>19</td>\n",
       "      <td>5</td>\n",
       "      <td>False</td>\n",
       "    </tr>\n",
       "    <tr>\n",
       "      <th>4</th>\n",
       "      <td>43</td>\n",
       "      <td>33</td>\n",
       "      <td>34.32</td>\n",
       "      <td>22</td>\n",
       "      <td>2</td>\n",
       "      <td>False</td>\n",
       "    </tr>\n",
       "    <tr>\n",
       "      <th>...</th>\n",
       "      <td>...</td>\n",
       "      <td>...</td>\n",
       "      <td>...</td>\n",
       "      <td>...</td>\n",
       "      <td>...</td>\n",
       "      <td>...</td>\n",
       "    </tr>\n",
       "    <tr>\n",
       "      <th>199995</th>\n",
       "      <td>29</td>\n",
       "      <td>81</td>\n",
       "      <td>35.38</td>\n",
       "      <td>18</td>\n",
       "      <td>2</td>\n",
       "      <td>True</td>\n",
       "    </tr>\n",
       "    <tr>\n",
       "      <th>199996</th>\n",
       "      <td>40</td>\n",
       "      <td>115</td>\n",
       "      <td>31.24</td>\n",
       "      <td>25</td>\n",
       "      <td>5</td>\n",
       "      <td>True</td>\n",
       "    </tr>\n",
       "    <tr>\n",
       "      <th>199997</th>\n",
       "      <td>51</td>\n",
       "      <td>86</td>\n",
       "      <td>57.17</td>\n",
       "      <td>25</td>\n",
       "      <td>2</td>\n",
       "      <td>False</td>\n",
       "    </tr>\n",
       "    <tr>\n",
       "      <th>199998</th>\n",
       "      <td>24</td>\n",
       "      <td>16</td>\n",
       "      <td>41.95</td>\n",
       "      <td>23</td>\n",
       "      <td>4</td>\n",
       "      <td>False</td>\n",
       "    </tr>\n",
       "    <tr>\n",
       "      <th>199999</th>\n",
       "      <td>49</td>\n",
       "      <td>112</td>\n",
       "      <td>62.69</td>\n",
       "      <td>2</td>\n",
       "      <td>1</td>\n",
       "      <td>False</td>\n",
       "    </tr>\n",
       "  </tbody>\n",
       "</table>\n",
       "<p>200000 rows × 6 columns</p>\n",
       "</div>"
      ],
      "text/plain": [
       "        AGE  SUB_MONTHS  MONTHLY_PAYMENT  USAGE_FEQ  STFT  CHURN\n",
       "0        29          34            72.96         24     5  False\n",
       "1        54          60            45.45         21     5   True\n",
       "2        40          52            45.22         12     5  False\n",
       "3        36          61            80.85         19     5  False\n",
       "4        43          33            34.32         22     2  False\n",
       "...     ...         ...              ...        ...   ...    ...\n",
       "199995   29          81            35.38         18     2   True\n",
       "199996   40         115            31.24         25     5   True\n",
       "199997   51          86            57.17         25     2  False\n",
       "199998   24          16            41.95         23     4  False\n",
       "199999   49         112            62.69          2     1  False\n",
       "\n",
       "[200000 rows x 6 columns]"
      ]
     },
     "execution_count": 8,
     "metadata": {},
     "output_type": "execute_result"
    }
   ],
   "source": [
    "customer_df = generate_customer_data(200000)\n",
    "customer_df"
   ]
  },
  {
   "cell_type": "code",
   "execution_count": 9,
   "metadata": {},
   "outputs": [],
   "source": [
    "customer_df.to_csv('customer_data.csv', index=False)"
   ]
  }
 ],
 "metadata": {
  "kernelspec": {
   "display_name": "pystudy_env",
   "language": "python",
   "name": "python3"
  },
  "language_info": {
   "codemirror_mode": {
    "name": "ipython",
    "version": 3
   },
   "file_extension": ".py",
   "mimetype": "text/x-python",
   "name": "python",
   "nbconvert_exporter": "python",
   "pygments_lexer": "ipython3",
   "version": "3.12.9"
  }
 },
 "nbformat": 4,
 "nbformat_minor": 2
}
