{
 "cells": [
  {
   "cell_type": "markdown",
   "metadata": {},
   "source": [
    "# 역전파 (Backpropagation)"
   ]
  },
  {
   "cell_type": "markdown",
   "metadata": {},
   "source": [
    "### 연쇄법칙"
   ]
  },
  {
   "cell_type": "markdown",
   "metadata": {},
   "source": [
    "- 기본 수식의 역전파 & 연쇄법칙 적용"
   ]
  },
  {
   "cell_type": "code",
   "execution_count": null,
   "metadata": {},
   "outputs": [
    {
     "name": "stdout",
     "output_type": "stream",
     "text": [
      "9.0\n",
      "6.0\n"
     ]
    }
   ],
   "source": [
    "import numpy as np\n",
    "\n",
    "def forward(x):\n",
    "    y = x ** 2\n",
    "    return y\n",
    "\n",
    "def backward(x):\n",
    "    dy_dx = 2 * x\n",
    "    return dy_dx\n",
    "\n",
    "x = 3.0     # x : 출력값에 대한 손실\n",
    "print(forward(x))\n",
    "print(backward(x))"
   ]
  },
  {
   "cell_type": "markdown",
   "metadata": {},
   "source": [
    "- 다층 신경망에서 연쇄법칙 적용"
   ]
  },
  {
   "cell_type": "code",
   "execution_count": 3,
   "metadata": {},
   "outputs": [
    {
     "name": "stdout",
     "output_type": "stream",
     "text": [
      "18.0\n",
      "12.0\n"
     ]
    }
   ],
   "source": [
    "def forward(x):\n",
    "    y = x ** 2\n",
    "    z = 2 * y\n",
    "    return z\n",
    "\n",
    "def backward(x):\n",
    "    dy_dx = 2 * x\n",
    "    dz_dy = 2\n",
    "    dz_dx = dz_dy * dy_dx \n",
    "    return dz_dx\n",
    "\n",
    "x = 3.0\n",
    "print(forward(x))\n",
    "print(backward(x))"
   ]
  },
  {
   "cell_type": "markdown",
   "metadata": {},
   "source": [
    "### 신경망에서의 활용"
   ]
  },
  {
   "cell_type": "markdown",
   "metadata": {},
   "source": [
    "- 단순 신경망 학습"
   ]
  },
  {
   "cell_type": "code",
   "execution_count": null,
   "metadata": {},
   "outputs": [
    {
     "name": "stdout",
     "output_type": "stream",
     "text": [
      "[0.20474415 0.40759064]\n"
     ]
    }
   ],
   "source": [
    "def sigmoid(x):\n",
    "    return 1 / (1 + np.exp(-x))\n",
    "\n",
    "def sigmoid_d(x):\n",
    "    return sigmoid(x) * (1 - sigmoid(x))\n",
    "\n",
    "X = np.array([0.5, 0.8])\n",
    "y = np.array([1])\n",
    "\n",
    "W = np.array([0.2, 0.4])\n",
    "\n",
    "# 순전파\n",
    "z = np.dot(X, W)\n",
    "r = sigmoid(z)\n",
    "\n",
    "# 오차 계산\n",
    "loss = 0.5 * (y - r) ** 2   # mse에 계산을 간단히 해주기 위한 상수 0.5를 곱해준 것을 loss로 잡는다 (mse의 변형) \n",
    "\n",
    "# 역전파 (기울기 계산)\n",
    "delta = (r - y) * sigmoid_d(z)  # r에 대해 z가 미치는 영향  / 출력층에서의 오차 / chain rule (d_loss_dz = d_loss_dr * dr_dz)\n",
    "grad_w = delta * X          # z = np.dot(X, W) -> d_loss_d_W = d_loss_dz * dz_dW / 여기서 dz_dW = X, d_loss_dz = delta => d_loss_dW(grad_w) = delta * X\n",
    "\n",
    "# 가중치 갱신\n",
    "W -= 0.1 * grad_w   # 0.1 : learning_rate   /  기울기를 이용한 가중치 업데이트 \n",
    "\n",
    "print(W)"
   ]
  },
  {
   "cell_type": "markdown",
   "metadata": {},
   "source": [
    "- 은닉층 추가"
   ]
  },
  {
   "cell_type": "code",
   "execution_count": null,
   "metadata": {},
   "outputs": [
    {
     "name": "stdout",
     "output_type": "stream",
     "text": [
      "[[0.5004928]\n",
      " [0.6011264]]\n",
      "[[0.20044   0.400528 ]\n",
      " [0.100704  0.3008448]]\n"
     ]
    }
   ],
   "source": [
    "def relu(x):\n",
    "    return np.maximum(0, x)\n",
    "\n",
    "def relu_d(x):\n",
    "    return np.where(x > 0, 1, 0)\n",
    "\n",
    "X = np.array([0.5, 0.8])    # (2,)\n",
    "y = np.array([1])\n",
    "\n",
    "W1 = np.array([[0.2, 0.4], [0.1, 0.3]]) # (2, 2)\n",
    "b1 = np.array([0.1, 0.2])   # (2,)\n",
    "W2 = np.array([[0.5], [0.6]])   # (2, 1)\n",
    "b2 = np.array([0.3])    \n",
    "\n",
    "# 순전파\n",
    "z1 = np.dot(X, W1) + b1\n",
    "r1 = relu(z1)\n",
    "\n",
    "z2 = np.dot(r1, W2) + b2\n",
    "r2 = relu(z2)\n",
    "\n",
    "# 역전파 (기울기 계산)  # 손실함수 = 1/2 * (예측값 - 실제값) ^2 -> 미분 -> (예측값 - 실제값)*(활성화함수 미분) : (r2 - y)*relu_d(z2)\n",
    "delta2 = (r2 - y) * relu_d(z2)  # 오차 / relu_d(층에 대한 input값)\n",
    "grad_W2 = np.outer(r1, delta2)\n",
    "\n",
    "delta1 = np.dot(W2, delta2) * relu_d(z1)\n",
    "grad_W1 = np.outer(X, delta1)\n",
    "\n",
    "# 가중치 갱신 \n",
    "learning_rate = 0.01\n",
    "W2 -= learning_rate * grad_W2\n",
    "W1 -= learning_rate * grad_W1\n",
    "\n",
    "print(W2)\n",
    "print(W1)\n",
    "\n"
   ]
  },
  {
   "cell_type": "markdown",
   "metadata": {},
   "source": [
    "### 수치미분과 역전파"
   ]
  },
  {
   "cell_type": "code",
   "execution_count": null,
   "metadata": {},
   "outputs": [
    {
     "name": "stdout",
     "output_type": "stream",
     "text": [
      "6.000000000039306\n",
      "6.0\n"
     ]
    }
   ],
   "source": [
    "def f(x):\n",
    "    return x ** 2\n",
    "\n",
    "def num_d_gradient(f, x):\n",
    "    h = 1e-5\n",
    "    return (f(x + h) - f(x - h)) / (2 * h)  # 중앙차분법 수치미분 \n",
    "\n",
    "def backward_gradient(x):   # f 미분 \n",
    "    return 2 * x\n",
    "\n",
    "# 비교 (기울기 검증) \n",
    "x = 3.0\n",
    "print(num_d_gradient(f, x))\n",
    "print(backward_gradient(x))"
   ]
  },
  {
   "cell_type": "markdown",
   "metadata": {},
   "source": [
    "##### 숫자 맞추기 AI"
   ]
  },
  {
   "cell_type": "code",
   "execution_count": 18,
   "metadata": {},
   "outputs": [
    {
     "name": "stdout",
     "output_type": "stream",
     "text": [
      "epoch 0 | 예측값: 3.2544197693172947 , 손실: 926.6790045754756\n",
      "epoch 50 | 예측값: 41.80031398921388 , 손실: 0.024613890681280226\n",
      "epoch 100 | 예측값: 41.99897086318836 , 손실: 6.53779368557667e-07\n",
      "epoch 150 | 예측값: 41.99999469606021 , 손실: 1.7365294583741053e-11\n",
      "epoch 200 | 예측값: 41.99999997266468 , 손실: 4.612466732472891e-16\n",
      "epoch 250 | 예측값: 41.99999999985913 , 손실: 1.2250109698369697e-20\n",
      "epoch 300 | 예측값: 41.99999999999927 , 손실: 3.280651623760726e-25\n",
      "epoch 350 | 예측값: 41.99999999999997 , 손실: 4.0389678347315804e-28\n",
      "epoch 400 | 예측값: 41.99999999999997 , 손실: 4.0389678347315804e-28\n",
      "epoch 450 | 예측값: 41.99999999999997 , 손실: 4.0389678347315804e-28\n",
      "최종 예측값: 41.99999999999997\n"
     ]
    }
   ],
   "source": [
    "target_number = 42\n",
    "\n",
    "guess = np.random.randn()   # 초기 예측값. 예측값이 주어진 상태로 시작하므로 순전파는 없음 \n",
    "\n",
    "learning_rate = 0.1\n",
    "\n",
    "for i in range(500):\n",
    "    # 오차 계산\n",
    "    loss = 0.5 * (target_number - guess) ** 2\n",
    "\n",
    "    # 역전파 (기울기 계산)\n",
    "    grad = (guess - target_number)\n",
    "\n",
    "    # 업데이트 (guess 업데이트)\n",
    "    guess -= learning_rate * grad\n",
    "\n",
    "    # epoch 50마다 예측값과 손실 출력\n",
    "    if i % 50 == 0:\n",
    "        print(f'epoch {i} | 예측값: {guess} , 손실: {loss}')\n",
    "\n",
    "# 최종 예측값 guess 출력\n",
    "print(f'최종 예측값: {guess}')"
   ]
  }
 ],
 "metadata": {
  "kernelspec": {
   "display_name": "pystudy_env",
   "language": "python",
   "name": "python3"
  },
  "language_info": {
   "codemirror_mode": {
    "name": "ipython",
    "version": 3
   },
   "file_extension": ".py",
   "mimetype": "text/x-python",
   "name": "python",
   "nbconvert_exporter": "python",
   "pygments_lexer": "ipython3",
   "version": "3.12.9"
  }
 },
 "nbformat": 4,
 "nbformat_minor": 2
}
