{
 "cells": [
  {
   "cell_type": "code",
   "execution_count": 24,
   "metadata": {},
   "outputs": [
    {
     "data": {
      "text/plain": [
       "array([1])"
      ]
     },
     "execution_count": 24,
     "metadata": {},
     "output_type": "execute_result"
    }
   ],
   "source": [
    "import numpy as np\n",
    "import pandas as pd\n",
    "import matplotlib.pyplot as plt\n",
    "import matplotlib\n",
    "import matplotlib.font_manager as fm\n",
    "font_path = 'C:\\\\Windows\\\\Fonts\\\\gulim.ttc'\n",
    "font = fm.FontProperties(fname=font_path).get_name()    # 폰트의 경로로부터 폰트를 가져오고 get_name으로 이름을 가져온다.\n",
    "matplotlib.rc('font', family=font)  # family= font의 이름을 가진 폰트로 변경\n",
    "from sklearn.neighbors import KNeighborsClassifier\n",
    "from sklearn.model_selection import train_test_split \n",
    "from sklearn.preprocessing import StandardScaler\n",
    "\n",
    "# 도미 데이터\n",
    "bream_length = [25.4, 26.3, 26.5, 29.0, 29.0, 29.7, 29.7, 30.0, 30.0, 30.7, 31.0, 31.0, 31.5, 32.0, 32.0, 32.0, 33.0, 33.0, 33.5, 33.5, 34.0, 34.0, 34.5, 35.0, 35.0, 35.0, 35.0, 36.0, 36.0, 37.0, 38.5, 38.5, 39.5, 41.0, 41.0]\n",
    "bream_weight = [242.0, 290.0, 340.0, 363.0, 430.0, 450.0, 500.0, 390.0, 450.0, 500.0, 475.0, 500.0, 500.0, 340.0, 600.0, 600.0, 700.0, 700.0, 610.0, 650.0, 575.0, 685.0, 620.0, 680.0, 700.0, 725.0, 720.0, 714.0, 850.0, 1000.0, 920.0, 955.0, 925.0, 975.0, 950.0]\n",
    "\n",
    "# 방어 데이터 \n",
    "smelt_length = [9.8, 10.5, 10.6, 11.0, 11.2, 11.3, 11.8, 11.8, 12.0, 12.2, 12.4, 13.0, 14.3, 15.0]\n",
    "smelt_weight = [6.7, 7.5, 7.0, 9.7, 9.8, 8.7, 10.0, 9.9, 9.8, 12.2, 13.4, 12.2, 19.7, 19.9]\n",
    "\n",
    "# 길이와 무게별로 리스트 병합 \n",
    "fish_length = bream_length + smelt_length\n",
    "fish_weight = bream_weight + smelt_weight\n",
    "\n",
    "# 길이와 무게를 함께 담은 리스트를 생성 \n",
    "fish_input = []\n",
    "for l, w in zip(fish_length, fish_weight):\n",
    "    fish_input.append([l, w])\n",
    "\n",
    "# 정답 데이터를 생성\n",
    "fish_label = [1] * len(bream_length) + [0] * len(smelt_length)\n",
    "\n",
    "# 훈련 데이터, 테스트 데이터 분리\n",
    "train_input, test_input, train_label, test_label = train_test_split(fish_input, fish_label, test_size=0.3, stratify=fish_label, random_state=42)\n",
    "\n",
    "# 스케일러 객체 생성\n",
    "standard_scaler = StandardScaler()\n",
    "\n",
    "# 스케일러 객체.fit_transform()을 이용해 학습용 데이터와 테스트용 데이터의 정규화 진행\n",
    "train_scaled = standard_scaler.fit_transform(train_input)\n",
    "test_scaled = standard_scaler.transform(test_input)\n",
    "\n",
    "# train_label, test_label 은 스케일링 불필요 \n",
    "\n",
    "# 학습\n",
    "kn = KNeighborsClassifier()\n",
    "kn.fit(train_scaled, train_label)\n",
    "\n",
    "# 평가\n",
    "kn.score(test_scaled, test_label)\n",
    "\n",
    "# 예측\n",
    "# 예측을 위한 데이터 입력\n",
    "predict_input = [25, 500]\n",
    "\n",
    "# 예측 데이터 스케일링\n",
    "# mean = np.mean(train_input, axis=0)\n",
    "# std = np.std(train_input, axis=0)\n",
    "# predict_scaled = (predict_input - mean) / std\n",
    "\n",
    "predict_scaled = standard_scaler.transform([predict_input])\n",
    "\n",
    "\n",
    "# 예측 실행\n",
    "kn.predict(predict_scaled)\n",
    "\n",
    "\n"
   ]
  }
 ],
 "metadata": {
  "kernelspec": {
   "display_name": "pystudy_env",
   "language": "python",
   "name": "python3"
  },
  "language_info": {
   "codemirror_mode": {
    "name": "ipython",
    "version": 3
   },
   "file_extension": ".py",
   "mimetype": "text/x-python",
   "name": "python",
   "nbconvert_exporter": "python",
   "pygments_lexer": "ipython3",
   "version": "3.12.9"
  }
 },
 "nbformat": 4,
 "nbformat_minor": 2
}
