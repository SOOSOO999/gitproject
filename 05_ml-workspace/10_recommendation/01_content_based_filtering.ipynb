{
 "cells": [
  {
   "cell_type": "markdown",
   "metadata": {},
   "source": [
    "# 추천 시스템(Recommendation System)"
   ]
  },
  {
   "cell_type": "markdown",
   "metadata": {},
   "source": [
    "1. 콘텐츠 기반 필터링(Content-based Filtering)\n",
    "    - 아이템의 속성을 기반으로 사용자에게 적합한 아이템 추천\n",
    "\n",
    "2. 협업 필터링 (Collaborative Filtering)\n",
    "    - 사용자들 간의 유사성을 기반으로 추천\n",
    "    - 사용자 기반과 아이템 기반으로 각각 추천할 수 있음\n",
    "\n",
    "3. 하이브리드 추천 시스템 (Hybird Recommendation System)\n",
    "    - 협업 필터링과 콘텐츠 기반 필터링을 결합하여 추천"
   ]
  },
  {
   "cell_type": "markdown",
   "metadata": {},
   "source": [
    "- 영화 데이터\n",
    "    1. **id**: 영화의 고유 ID를 나타냄.\n",
    "    2. **title**: 영화의 제목.\n",
    "    3. **budget**: 영화 제작에 소요된 예산 (단위: USD).\n",
    "    4. **popularity**: 영화의 인기 점수. TMDb에서 제공하는 영화의 인기도를 나타냄.\n",
    "    5. **genres**: 영화의 장르를 나타내며, 여러 장르가 포함된 경우 리스트로 표현됨.\n",
    "    6. **overview**: 영화의 줄거리나 개요를 설명하는 텍스트.\n",
    "    7. **release_date**: 영화의 개봉 날짜.\n",
    "    8. **revenue**: 영화의 총 수익 (단위: USD).\n",
    "    9. **runtime**: 영화의 상영 시간 (단위: 분).\n",
    "    10. **vote_average**: TMDb에서 제공하는 영화의 평균 평점.\n",
    "    11. **vote_count**: 영화에 대한 평가 개수.\n",
    "    12. **production_companies**: 영화의 제작 회사 리스트.\n",
    "    13. **production_countries**: 영화의 제작 국가 리스트.\n",
    "    14. **spoken_languages**: 영화에서 사용된 언어 리스트.\n",
    "    15. **cast**: 주요 출연진 리스트.\n",
    "    16. **crew**: 영화 제작에 참여한 주요 제작진 리스트.\n",
    "    17. **keywords**: 영화의 키워드 리스트.\n",
    "    18. **tagline**: 영화의 태그라인(주요 홍보 문구).\n",
    "    19. **original_language**: 영화의 원어 (예: 영어, 한국어 등).\n",
    "    20. **homepage**: 영화의 공식 웹사이트 URL.\n",
    "    21. **poster_path**: 영화 포스터 이미지 URL 경로."
   ]
  },
  {
   "cell_type": "code",
   "execution_count": 16,
   "metadata": {},
   "outputs": [],
   "source": [
    "import numpy as np\n",
    "import pandas as pd"
   ]
  },
  {
   "cell_type": "code",
   "execution_count": 17,
   "metadata": {},
   "outputs": [
    {
     "data": {
      "text/plain": [
       "(4803, 20)"
      ]
     },
     "execution_count": 17,
     "metadata": {},
     "output_type": "execute_result"
    }
   ],
   "source": [
    "# 데이터 로드\n",
    "movie_df = pd.read_csv('./data/tmdb_5000_movies.csv')\n",
    "movie_df.head()\n",
    "movie_df.shape"
   ]
  },
  {
   "cell_type": "code",
   "execution_count": 18,
   "metadata": {},
   "outputs": [
    {
     "name": "stdout",
     "output_type": "stream",
     "text": [
      "<class 'pandas.core.frame.DataFrame'>\n",
      "RangeIndex: 4803 entries, 0 to 4802\n",
      "Data columns (total 8 columns):\n",
      " #   Column        Non-Null Count  Dtype  \n",
      "---  ------        --------------  -----  \n",
      " 0   id            4803 non-null   int64  \n",
      " 1   title         4803 non-null   object \n",
      " 2   genres        4803 non-null   object \n",
      " 3   vote_average  4803 non-null   float64\n",
      " 4   vote_count    4803 non-null   int64  \n",
      " 5   popularity    4803 non-null   float64\n",
      " 6   keywords      4803 non-null   object \n",
      " 7   overview      4800 non-null   object \n",
      "dtypes: float64(2), int64(2), object(4)\n",
      "memory usage: 300.3+ KB\n"
     ]
    },
    {
     "data": {
      "text/html": [
       "<div>\n",
       "<style scoped>\n",
       "    .dataframe tbody tr th:only-of-type {\n",
       "        vertical-align: middle;\n",
       "    }\n",
       "\n",
       "    .dataframe tbody tr th {\n",
       "        vertical-align: top;\n",
       "    }\n",
       "\n",
       "    .dataframe thead th {\n",
       "        text-align: right;\n",
       "    }\n",
       "</style>\n",
       "<table border=\"1\" class=\"dataframe\">\n",
       "  <thead>\n",
       "    <tr style=\"text-align: right;\">\n",
       "      <th></th>\n",
       "      <th>id</th>\n",
       "      <th>title</th>\n",
       "      <th>genres</th>\n",
       "      <th>vote_average</th>\n",
       "      <th>vote_count</th>\n",
       "      <th>popularity</th>\n",
       "      <th>keywords</th>\n",
       "      <th>overview</th>\n",
       "    </tr>\n",
       "  </thead>\n",
       "  <tbody>\n",
       "    <tr>\n",
       "      <th>0</th>\n",
       "      <td>19995</td>\n",
       "      <td>Avatar</td>\n",
       "      <td>[{\"id\": 28, \"name\": \"Action\"}, {\"id\": 12, \"nam...</td>\n",
       "      <td>7.2</td>\n",
       "      <td>11800</td>\n",
       "      <td>150.437577</td>\n",
       "      <td>[{\"id\": 1463, \"name\": \"culture clash\"}, {\"id\":...</td>\n",
       "      <td>In the 22nd century, a paraplegic Marine is di...</td>\n",
       "    </tr>\n",
       "    <tr>\n",
       "      <th>1</th>\n",
       "      <td>285</td>\n",
       "      <td>Pirates of the Caribbean: At World's End</td>\n",
       "      <td>[{\"id\": 12, \"name\": \"Adventure\"}, {\"id\": 14, \"...</td>\n",
       "      <td>6.9</td>\n",
       "      <td>4500</td>\n",
       "      <td>139.082615</td>\n",
       "      <td>[{\"id\": 270, \"name\": \"ocean\"}, {\"id\": 726, \"na...</td>\n",
       "      <td>Captain Barbossa, long believed to be dead, ha...</td>\n",
       "    </tr>\n",
       "    <tr>\n",
       "      <th>2</th>\n",
       "      <td>206647</td>\n",
       "      <td>Spectre</td>\n",
       "      <td>[{\"id\": 28, \"name\": \"Action\"}, {\"id\": 12, \"nam...</td>\n",
       "      <td>6.3</td>\n",
       "      <td>4466</td>\n",
       "      <td>107.376788</td>\n",
       "      <td>[{\"id\": 470, \"name\": \"spy\"}, {\"id\": 818, \"name...</td>\n",
       "      <td>A cryptic message from Bond’s past sends him o...</td>\n",
       "    </tr>\n",
       "    <tr>\n",
       "      <th>3</th>\n",
       "      <td>49026</td>\n",
       "      <td>The Dark Knight Rises</td>\n",
       "      <td>[{\"id\": 28, \"name\": \"Action\"}, {\"id\": 80, \"nam...</td>\n",
       "      <td>7.6</td>\n",
       "      <td>9106</td>\n",
       "      <td>112.312950</td>\n",
       "      <td>[{\"id\": 849, \"name\": \"dc comics\"}, {\"id\": 853,...</td>\n",
       "      <td>Following the death of District Attorney Harve...</td>\n",
       "    </tr>\n",
       "    <tr>\n",
       "      <th>4</th>\n",
       "      <td>49529</td>\n",
       "      <td>John Carter</td>\n",
       "      <td>[{\"id\": 28, \"name\": \"Action\"}, {\"id\": 12, \"nam...</td>\n",
       "      <td>6.1</td>\n",
       "      <td>2124</td>\n",
       "      <td>43.926995</td>\n",
       "      <td>[{\"id\": 818, \"name\": \"based on novel\"}, {\"id\":...</td>\n",
       "      <td>John Carter is a war-weary, former military ca...</td>\n",
       "    </tr>\n",
       "  </tbody>\n",
       "</table>\n",
       "</div>"
      ],
      "text/plain": [
       "       id                                     title  \\\n",
       "0   19995                                    Avatar   \n",
       "1     285  Pirates of the Caribbean: At World's End   \n",
       "2  206647                                   Spectre   \n",
       "3   49026                     The Dark Knight Rises   \n",
       "4   49529                               John Carter   \n",
       "\n",
       "                                              genres  vote_average  \\\n",
       "0  [{\"id\": 28, \"name\": \"Action\"}, {\"id\": 12, \"nam...           7.2   \n",
       "1  [{\"id\": 12, \"name\": \"Adventure\"}, {\"id\": 14, \"...           6.9   \n",
       "2  [{\"id\": 28, \"name\": \"Action\"}, {\"id\": 12, \"nam...           6.3   \n",
       "3  [{\"id\": 28, \"name\": \"Action\"}, {\"id\": 80, \"nam...           7.6   \n",
       "4  [{\"id\": 28, \"name\": \"Action\"}, {\"id\": 12, \"nam...           6.1   \n",
       "\n",
       "   vote_count  popularity                                           keywords  \\\n",
       "0       11800  150.437577  [{\"id\": 1463, \"name\": \"culture clash\"}, {\"id\":...   \n",
       "1        4500  139.082615  [{\"id\": 270, \"name\": \"ocean\"}, {\"id\": 726, \"na...   \n",
       "2        4466  107.376788  [{\"id\": 470, \"name\": \"spy\"}, {\"id\": 818, \"name...   \n",
       "3        9106  112.312950  [{\"id\": 849, \"name\": \"dc comics\"}, {\"id\": 853,...   \n",
       "4        2124   43.926995  [{\"id\": 818, \"name\": \"based on novel\"}, {\"id\":...   \n",
       "\n",
       "                                            overview  \n",
       "0  In the 22nd century, a paraplegic Marine is di...  \n",
       "1  Captain Barbossa, long believed to be dead, ha...  \n",
       "2  A cryptic message from Bond’s past sends him o...  \n",
       "3  Following the death of District Attorney Harve...  \n",
       "4  John Carter is a war-weary, former military ca...  "
      ]
     },
     "execution_count": 18,
     "metadata": {},
     "output_type": "execute_result"
    }
   ],
   "source": [
    "# 사용할 컬럼 선택\n",
    "movie_df = movie_df[['id', 'title', 'genres', 'vote_average', 'vote_count', 'popularity', 'keywords', 'overview']]\n",
    "movie_df.info()\n",
    "movie_df.head()"
   ]
  },
  {
   "cell_type": "code",
   "execution_count": null,
   "metadata": {},
   "outputs": [],
   "source": [
    "# 장르 데이터 전처리\n",
    "from ast import literal_eval\n",
    "\n",
    "# str -> list(dict)\n",
    "movie_df['genres'] = movie_df['genres'].apply(literal_eval) # literal_eval은 문자열로 저장된 리스트 또는 딕셔너리를 실제 리스트/딕셔너리로 변환"
   ]
  },
  {
   "cell_type": "code",
   "execution_count": 20,
   "metadata": {},
   "outputs": [
    {
     "name": "stdout",
     "output_type": "stream",
     "text": [
      "<class 'list'>\n"
     ]
    }
   ],
   "source": [
    "str_list = '[1, 2, 3]'\n",
    "lst = literal_eval(str_list)\n",
    "print(type(lst))"
   ]
  },
  {
   "cell_type": "code",
   "execution_count": null,
   "metadata": {},
   "outputs": [
    {
     "data": {
      "text/plain": [
       "0       [Action, Adventure, Fantasy, Science Fiction]\n",
       "1                        [Adventure, Fantasy, Action]\n",
       "2                          [Action, Adventure, Crime]\n",
       "3                    [Action, Crime, Drama, Thriller]\n",
       "4                [Action, Adventure, Science Fiction]\n",
       "                            ...                      \n",
       "4798                        [Action, Crime, Thriller]\n",
       "4799                                [Comedy, Romance]\n",
       "4800               [Comedy, Drama, Romance, TV Movie]\n",
       "4801                                               []\n",
       "4802                                    [Documentary]\n",
       "Name: genres, Length: 4803, dtype: object"
      ]
     },
     "execution_count": 21,
     "metadata": {},
     "output_type": "execute_result"
    }
   ],
   "source": [
    "# name value만 꺼내서 list\n",
    "movie_df['genres'] = movie_df['genres'].apply(lambda genres: [genre['name'] for genre in genres])   # 각 행의 genres 값이 딕셔너리 리스트라면, 각 딕셔너리에서 'name' 키의 값을 추출하여 리스트로 변환\n",
    "movie_df['genres']"
   ]
  },
  {
   "cell_type": "code",
   "execution_count": null,
   "metadata": {},
   "outputs": [
    {
     "data": {
      "text/plain": [
       "0       Action Adventure Fantasy Science Fiction\n",
       "1                       Adventure Fantasy Action\n",
       "2                         Action Adventure Crime\n",
       "3                    Action Crime Drama Thriller\n",
       "4               Action Adventure Science Fiction\n",
       "                          ...                   \n",
       "4798                       Action Crime Thriller\n",
       "4799                              Comedy Romance\n",
       "4800               Comedy Drama Romance TV Movie\n",
       "4801                                            \n",
       "4802                                 Documentary\n",
       "Name: genres, Length: 4803, dtype: object"
      ]
     },
     "execution_count": 22,
     "metadata": {},
     "output_type": "execute_result"
    }
   ],
   "source": [
    "# list -> str (공백 구분 문자열)\n",
    "movie_df['genres'] = movie_df['genres'].apply(lambda x: ' '.join(x))    # 각 행에 대해 x(장르 리스트)를 ' '(공백) 기준으로 합침\n",
    "movie_df['genres']"
   ]
  },
  {
   "cell_type": "code",
   "execution_count": null,
   "metadata": {},
   "outputs": [
    {
     "name": "stdout",
     "output_type": "stream",
     "text": [
      "(4803, 276)\n",
      "[[1 1 0 ... 0 0 0]\n",
      " [1 0 0 ... 0 0 0]\n",
      " [1 1 0 ... 0 0 0]\n",
      " [1 0 0 ... 0 0 0]\n",
      " [1 1 0 ... 0 0 0]]\n"
     ]
    },
    {
     "data": {
      "text/html": [
       "<div>\n",
       "<style scoped>\n",
       "    .dataframe tbody tr th:only-of-type {\n",
       "        vertical-align: middle;\n",
       "    }\n",
       "\n",
       "    .dataframe tbody tr th {\n",
       "        vertical-align: top;\n",
       "    }\n",
       "\n",
       "    .dataframe thead th {\n",
       "        text-align: right;\n",
       "    }\n",
       "</style>\n",
       "<table border=\"1\" class=\"dataframe\">\n",
       "  <thead>\n",
       "    <tr style=\"text-align: right;\">\n",
       "      <th></th>\n",
       "      <th>0</th>\n",
       "    </tr>\n",
       "  </thead>\n",
       "  <tbody>\n",
       "    <tr>\n",
       "      <th>0</th>\n",
       "      <td>action</td>\n",
       "    </tr>\n",
       "    <tr>\n",
       "      <th>1</th>\n",
       "      <td>action adventure</td>\n",
       "    </tr>\n",
       "    <tr>\n",
       "      <th>2</th>\n",
       "      <td>action animation</td>\n",
       "    </tr>\n",
       "    <tr>\n",
       "      <th>3</th>\n",
       "      <td>action comedy</td>\n",
       "    </tr>\n",
       "    <tr>\n",
       "      <th>4</th>\n",
       "      <td>action crime</td>\n",
       "    </tr>\n",
       "    <tr>\n",
       "      <th>...</th>\n",
       "      <td>...</td>\n",
       "    </tr>\n",
       "    <tr>\n",
       "      <th>271</th>\n",
       "      <td>western drama</td>\n",
       "    </tr>\n",
       "    <tr>\n",
       "      <th>272</th>\n",
       "      <td>western history</td>\n",
       "    </tr>\n",
       "    <tr>\n",
       "      <th>273</th>\n",
       "      <td>western music</td>\n",
       "    </tr>\n",
       "    <tr>\n",
       "      <th>274</th>\n",
       "      <td>western romance</td>\n",
       "    </tr>\n",
       "    <tr>\n",
       "      <th>275</th>\n",
       "      <td>western thriller</td>\n",
       "    </tr>\n",
       "  </tbody>\n",
       "</table>\n",
       "<p>276 rows × 1 columns</p>\n",
       "</div>"
      ],
      "text/plain": [
       "                    0\n",
       "0              action\n",
       "1    action adventure\n",
       "2    action animation\n",
       "3       action comedy\n",
       "4        action crime\n",
       "..                ...\n",
       "271     western drama\n",
       "272   western history\n",
       "273     western music\n",
       "274   western romance\n",
       "275  western thriller\n",
       "\n",
       "[276 rows x 1 columns]"
      ]
     },
     "execution_count": 24,
     "metadata": {},
     "output_type": "execute_result"
    }
   ],
   "source": [
    "# 장르 유사도 측정을 위한 CountVectorizer 사용 \n",
    "from sklearn.feature_extraction.text import CountVectorizer\n",
    "\n",
    "count_vectorizer = CountVectorizer(ngram_range=(1, 2))  # 내가 가지고 있는 단어들에 대해서 단어 쌍을 하나, 또는 두개로 조합하겠다 (ab, cd) -> (a, b, c, d, ab, cd)\n",
    "#  ['나는', '바보가', '아니다'] 에 대해서 ngram_range=(1, 2, 3)  이라면 ['나는', '바보가', '아니다', '나는 바보가', '바보가 아니다', '나는 바보가 아니다'] / 연속된 단어 묶음만 고려\n",
    "genres_vec = count_vectorizer.fit_transform(movie_df['genres'])\n",
    "print(genres_vec.shape) # 장르가 276개\n",
    "print(genres_vec.toarray()[:5]) # 포함되는 장르마다 1이 들어가 있다 \n",
    "genres_vec_vocab = pd.DataFrame(count_vectorizer.get_feature_names_out())   # 가지고 있는 모든 장르 이름만 가지고 옴 (특성)\n",
    "genres_vec_vocab"
   ]
  },
  {
   "cell_type": "markdown",
   "metadata": {},
   "source": [
    "### 🔹 CountVectorizer의 동작 방식  \n",
    "\n",
    "1. **텍스트를 토큰(단어) 단위로 분리**  \n",
    "   - 기본적으로 띄어쓰기 기준으로 단어를 나눔.  \n",
    "   - `tokenizer`를 설정하면 형태소 분석기를 활용할 수도 있음.  \n",
    "\n",
    "2. **단어 사전(어휘집, Vocabulary) 생성**  \n",
    "   - 학습 데이터에 있는 **모든 고유한 단어들의 목록**을 만든 후, 각 단어에 인덱스를 부여.  \n",
    "   - 단어 인덱스는 기본적으로 **알파벳(사전) 순**으로 정렬됨.  \n",
    "\n",
    "3. **각 문장에서 등장하는 단어 개수(빈도) 세기**  \n",
    "   - 각 문장을 **단어 등장 횟수 기반의 벡터로 변환**하여 표현.  \n",
    "   - 단어가 등장하지 않으면 0, 등장하면 해당 횟수를 기록.  \n"
   ]
  },
  {
   "cell_type": "markdown",
   "metadata": {},
   "source": [
    "# 🔹 CountVectorizer의 단어 인덱스 배정 원리\n",
    "\n",
    "1. **중복 단어 제거**\n",
    "2. **알파벳(사전) 순으로 정렬**\n",
    "3. **정렬된 순서대로 0부터 인덱스 부여**\n"
   ]
  },
  {
   "cell_type": "code",
   "execution_count": null,
   "metadata": {},
   "outputs": [],
   "source": [
    "from sklearn.feature_extraction.text import CountVectorizer\n",
    "\n",
    "# 샘플 문장\n",
    "corpus = [\"나는 바보가 아니다\", \"너는 바보가 맞다\", \"우리는 바보가 아니다\"]\n",
    "\n",
    "# CountVectorizer 적용\n",
    "vectorizer = CountVectorizer()\n",
    "X = vectorizer.fit_transform(corpus)\n",
    "\n",
    "# 단어 사전 출력\n",
    "print(\"어휘 사전:\", vectorizer.vocabulary_)\n",
    "\n",
    "# 변환된 벡터 출력\n",
    "print(\"변환된 벡터:\\n\", X.toarray())\n",
    "\n",
    "\n",
    "\n",
    "\n",
    "# {'나는': 0, '너는': 1, '맞다': 2, '바보가': 3, '아니다': 4, '우리는': 5}\n",
    "\n",
    "\n",
    "# [\"나는 바보가 아니다\"]    ➝ [1 0 0 1 1 0]  \n",
    "# [\"너는 바보가 맞다\"]      ➝ [0 1 1 1 0 0]  \n",
    "# [\"우리는 바보가 아니다\"]  ➝ [0 0 0 1 1 1]       -> 각 행은 문장을 의미하고, 각 열은 단어의 등장 횟수를 의미한다\n",
    "\n"
   ]
  },
  {
   "cell_type": "markdown",
   "metadata": {},
   "source": [
    "### 코사인 유사도 측정"
   ]
  },
  {
   "cell_type": "code",
   "execution_count": null,
   "metadata": {},
   "outputs": [],
   "source": [
    "# 거리 뿐만 아니라 방향을 따짐"
   ]
  }
 ],
 "metadata": {
  "kernelspec": {
   "display_name": "pystudy_env",
   "language": "python",
   "name": "python3"
  },
  "language_info": {
   "codemirror_mode": {
    "name": "ipython",
    "version": 3
   },
   "file_extension": ".py",
   "mimetype": "text/x-python",
   "name": "python",
   "nbconvert_exporter": "python",
   "pygments_lexer": "ipython3",
   "version": "3.12.9"
  }
 },
 "nbformat": 4,
 "nbformat_minor": 2
}
