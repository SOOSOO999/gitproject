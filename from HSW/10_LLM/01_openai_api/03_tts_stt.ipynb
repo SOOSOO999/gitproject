{
 "cells": [
  {
   "cell_type": "code",
   "execution_count": 1,
   "id": "4c5ce206",
   "metadata": {},
   "outputs": [
    {
     "data": {
      "text/plain": [
       "True"
      ]
     },
     "execution_count": 1,
     "metadata": {},
     "output_type": "execute_result"
    }
   ],
   "source": [
    "from dotenv import load_dotenv\n",
    "\n",
    "load_dotenv() "
   ]
  },
  {
   "cell_type": "markdown",
   "id": "a93979d3",
   "metadata": {},
   "source": [
    "# TTS (Text to Speech)\n",
    "- TTS 모델은 텍스트를 자연스러운 음성으로 변환하는 AI 모델이다.\n",
    "    - tts-1 : 실시간 텍스트-음성 변환에 최적화된 최신 모델로 속도에 중범. 텍스트를 음성으로 빠르게 변환하는 기능 제공.\n",
    "    - tts-1-hd : 품질에 최적화된 최신 텍스트-음성 변환 모델로 높은 품질에 중점. 음성의 자연스러움과 선명도 강조.\n",
    "- 음성 선택지\n",
    "  - Alloy: 부드럽고 자연스러운 톤의 음성\n",
    "  - Echo: 명확하고 자신감 있는 음성\n",
    "  - Fable: 이야기 전달에 적합한 서정적인 음성\n",
    "  - Onyx: 전문적이고 신뢰감을 주는 음성\n",
    "  - Nova: 활기차고 에너지 넘치는 음성\n",
    "  - Shimmer: 부드럽고 진정시키는 음성"
   ]
  },
  {
   "cell_type": "code",
   "execution_count": null,
   "id": "5de12f75",
   "metadata": {},
   "outputs": [],
   "source": [
    "from openai import OpenAI\n",
    "\n",
    "client = OpenAI()\n",
    "\n",
    "input_text = \"춘풍에 울던 바람.여적 소리내 우는 걸.가만히 가심 눌러.점잖아라 달래봐도.변하느니 달이요.마음이야 늙겠는가\"\n",
    "\n",
    "with client.audio.speech.with_streaming_response.create(\n",
    "    model=\"tts-1\",\n",
    "    voice=\"fable\",\n",
    "    input=input_text\n",
    ") as response:\n",
    "    response.stream_to_file(\"tts_output.mp3\")"
   ]
  },
  {
   "cell_type": "markdown",
   "id": "648271c8",
   "metadata": {},
   "source": [
    "# STT (Speech to Text)\n",
    "- Whisper는 OpenAI에서 개발한 범용 음성 인식 모델로, 다양한 오디오 데이터셋을 학습하여 다국어 음성 인식, 음성 번역, 언어 식별 등의 작업을 수행할 수 있다."
   ]
  },
  {
   "cell_type": "code",
   "execution_count": 2,
   "id": "b2d0d689",
   "metadata": {},
   "outputs": [
    {
     "name": "stdout",
     "output_type": "stream",
     "text": [
      "Transcription(text='춘풍의 울던 바람, 여적 소리 내 우는 걸 가만히 가심눌러 점잖아라 달래봐도 변하는 이 다리오 마음이 아들 깻는가.', logprobs=None)\n"
     ]
    }
   ],
   "source": [
    "from openai import OpenAI\n",
    "\n",
    "client = OpenAI()\n",
    "\n",
    "with open(\"tts_output.mp3\", \"rb\") as f:\n",
    "    transcriptions = client.audio.transcriptions.create(\n",
    "        model=\"whisper-1\",\n",
    "        file=f\n",
    "    )\n",
    "    print(transcriptions)"
   ]
  },
  {
   "cell_type": "markdown",
   "id": "53aea705",
   "metadata": {},
   "source": [
    "---"
   ]
  },
  {
   "cell_type": "markdown",
   "id": "5fa097ac",
   "metadata": {},
   "source": [
    "# gTTS"
   ]
  },
  {
   "cell_type": "code",
   "execution_count": null,
   "id": "7e60d716",
   "metadata": {},
   "outputs": [],
   "source": [
    "# !pip install gtts"
   ]
  },
  {
   "cell_type": "code",
   "execution_count": null,
   "id": "703f926b",
   "metadata": {},
   "outputs": [],
   "source": [
    "from gtts import gTTS\n",
    "\n",
    "tts = gTTS(text=\"안녕하세요, 저는 래빗입니다. 좋은 하루입니다!\", lang=\"ko\")\n",
    "\n",
    "tts.save('gtts_output.mp3')"
   ]
  },
  {
   "cell_type": "markdown",
   "id": "5d1d2426",
   "metadata": {},
   "source": [
    "# SpeechRecognition"
   ]
  },
  {
   "cell_type": "code",
   "execution_count": null,
   "id": "e93e5404",
   "metadata": {},
   "outputs": [],
   "source": [
    "# !pip install SpeechRecognition"
   ]
  },
  {
   "cell_type": "code",
   "execution_count": null,
   "id": "f0af8e63",
   "metadata": {},
   "outputs": [],
   "source": [
    "# !pip install pydub pyaudio    # pydub: 오디오파일 변환, pyaudio: 마이크로부터 음성 감지하는 라이브러리"
   ]
  },
  {
   "cell_type": "code",
   "execution_count": null,
   "id": "9fb57daa",
   "metadata": {},
   "outputs": [],
   "source": [
    "# conda install -c conda-forge ffmpeg   # Anaconda prompt에서 실행해야함"
   ]
  },
  {
   "cell_type": "code",
   "execution_count": null,
   "id": "d8127681",
   "metadata": {},
   "outputs": [],
   "source": [
    "# 음성 입력 -> 텍스트 출력\n",
    "import speech_recognition as sr\n",
    "\n",
    "recognizer = sr.Recognizer()\n",
    "\n",
    "while True:                             # 마이크로부터 음성을 계속 입력받기 위한 무한 루프\n",
    "    with sr.Microphone() as source:     # 마이크로부터 음성 감지\n",
    "        print(\"말씀하세요.\")\n",
    "        audio = recognizer.listen(source)   # 음성 데이터 수집\n",
    "        txt = recognizer.recognize_google(audio, language='ko-KR')  # 음성 -> 텍스트 변환\n",
    "        print(txt)"
   ]
  },
  {
   "cell_type": "code",
   "execution_count": null,
   "id": "b1daab1d",
   "metadata": {},
   "outputs": [
    {
     "name": "stdout",
     "output_type": "stream",
     "text": [
      "안녕하세요 저는\n"
     ]
    }
   ],
   "source": [
    "from pydub import AudioSegment\n",
    "import speech_recognition as sr\n",
    "\n",
    "# .mp3 -> .wav 변환\n",
    "audio = AudioSegment.from_mp3('gtts_output.mp3')\n",
    "audio.export('gtts_output_wav.wav', format='wav')\n",
    "\n",
    "# 파일 로드\n",
    "r = sr.Recognizer()\n",
    "input_audio = sr.AudioFile('gtts_output_wav.wav')\n",
    "\n",
    "# 음성 데이터 -> 텍스트 변환\n",
    "with input_audio as source:\n",
    "    audio = r.record(source)\n",
    "\n",
    "result_txt = r.recognize_google(audio_data=audio, language='ko_KR')\n",
    "print(result_txt)"
   ]
  }
 ],
 "metadata": {
  "kernelspec": {
   "display_name": "Python 3",
   "language": "python",
   "name": "python3"
  },
  "language_info": {
   "codemirror_mode": {
    "name": "ipython",
    "version": 3
   },
   "file_extension": ".py",
   "mimetype": "text/x-python",
   "name": "python",
   "nbconvert_exporter": "python",
   "pygments_lexer": "ipython3",
   "version": "3.11.11"
  }
 },
 "nbformat": 4,
 "nbformat_minor": 5
}
