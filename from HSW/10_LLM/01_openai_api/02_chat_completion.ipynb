{
 "cells": [
  {
   "cell_type": "markdown",
   "id": "0b8f198f",
   "metadata": {},
   "source": [
    "# Chat Completion"
   ]
  },
  {
   "cell_type": "markdown",
   "id": "24922370",
   "metadata": {},
   "source": [
    "### 환경 설정\n",
    "- .env 파일"
   ]
  },
  {
   "cell_type": "code",
   "execution_count": null,
   "id": "21449f8c",
   "metadata": {},
   "outputs": [],
   "source": [
    "# !pip install python-dotenv"
   ]
  },
  {
   "cell_type": "code",
   "execution_count": null,
   "id": "ed88a740",
   "metadata": {},
   "outputs": [
    {
     "data": {
      "text/plain": [
       "True"
      ]
     },
     "execution_count": 1,
     "metadata": {},
     "output_type": "execute_result"
    }
   ],
   "source": [
    "from dotenv import load_dotenv\n",
    "\n",
    "# load_dotenv('/home/dheum/projects/sw_temp/.env')       # 시스템의 환경변수에 등록\n",
    "load_dotenv()   # 같은 실행 경로에 있으면 경로 지정 안해도 됨. 실행 시 True가 뜨면 정상적으로 가져온 것"
   ]
  },
  {
   "cell_type": "code",
   "execution_count": 2,
   "id": "f04fa791",
   "metadata": {},
   "outputs": [],
   "source": [
    "import os\n",
    "\n",
    "OPENAI_API_KEY = os.getenv('OPENAI_API_KEY')"
   ]
  },
  {
   "cell_type": "markdown",
   "id": "a5806a14",
   "metadata": {},
   "source": [
    "### Chat Completion"
   ]
  },
  {
   "cell_type": "code",
   "execution_count": 3,
   "id": "352a1287",
   "metadata": {},
   "outputs": [
    {
     "name": "stdout",
     "output_type": "stream",
     "text": [
      "당신의 이름은 홍성욱님입니다. 맞나요?\n"
     ]
    }
   ],
   "source": [
    "from openai import OpenAI\n",
    "\n",
    "client = OpenAI(api_key=OPENAI_API_KEY)\n",
    "\n",
    "response = client.chat.completions.create(\n",
    "    model=\"gpt-4o-mini\",\n",
    "    messages=[      # 배열 형태로 입력하면 마치 대화가 있었던 것처럼 채팅 내역을 만들어 줄 수 있음\n",
    "        {\"role\":\"system\",    \"content\":\"당신은 친절하고 상세한 설명을 잘하는 챗봇입니다.\"},\n",
    "        {\"role\":\"user\",      \"content\":\"안녕하세요. 저는 홍성욱입니다.\"},\n",
    "        {\"role\":\"assistant\", \"content\":\"안녕하세요. 성욱님. 무엇을 도와드릴까요?\"},     # assistant: ChatGPT에서 응답 해준것처럼 대화 내역을 만들어 줌\n",
    "        {\"role\":\"user\",      \"content\":\"제 이름이 뭐라고요?\"}\n",
    "    ],\n",
    "    temperature=1,\n",
    "    max_tokens=4096,\n",
    "    top_p=1\n",
    ")\n",
    "\n",
    "print(response.choices[0].message.content)"
   ]
  },
  {
   "cell_type": "markdown",
   "id": "a23f979a",
   "metadata": {},
   "source": [
    "### stream 처리"
   ]
  },
  {
   "cell_type": "code",
   "execution_count": null,
   "id": "1e364455",
   "metadata": {},
   "outputs": [
    {
     "name": "stdout",
     "output_type": "stream",
     "text": [
      "물론입니다! 아래에는 매우 긴 응답 메시지를 작성해 드리겠습니다. 이 메시지는 다양한 주제를 포함하고 있으며, 길게 작성되었습니다.\n",
      "\n",
      "---\n",
      "\n",
      "안녕하세요! 오늘은 다양한 주제를 다루며 긴 응답 메시지를 제공하겠습니다. 먼저, 인공지능의 발전에 대해 이야기를 시작해 보겠습니다. 현재 인공지능(AI) 기술은 의료, 금융, 교육, 제조업 등 다양한 분야에서 활용되고 있습니다. 예를 들어, 의료 분야에서는 AI를 활용한 진단 시스템이 환자의 질병을 조기에 발견하는 데 도움을 주고 있습니다. 이러한 시스템은 방대한 양의 의료 데이터를 분석하여 패턴을 찾아내고, 질병의 징후를 식별하는 데 뛰어난 성능을 보여줍니다.\n",
      "\n",
      "다음으로, AI가 금융 분야에서 어떻게 사용되고 있는지 살펴보겠습니다. 많은 금융 기관들은 거래의 사기를 감지하기 위해 머신러닝 알고리즘을 사용하고 있습니다. 이러한 시스템은 과거의 거래 데이터를 분석하여 비정상적인 거래 패턴을 식별하고, 사기 가능성이 있는 거래를 실시간으로 모니터링합니다. 이는 고객 보호 뿐만 아니라 금융 기관의 신뢰성을 향상시키는 데 기여합니다.\n",
      "\n",
      "또한, 교육 분야에서도 AI의 영향력이 커지고 있습니다. 맞춤형 학습 플랫폼은 학생 개개인의 학습 스타일과 진도를 분석하여 개인화된 학습 경로를 제공합니다. 이러한 기술은 학생들이 자신의 속도에 맞춰 학습할 수 있게 하여, 더 효과적인 교육 환경을 제공하는 데 도움을 주고 있습니다. AI 튜터와 같은 도구들도 등장하여, 학생들이 질문을 하고 즉각적으로 피드백을 받을 수 있는 기회를 제공합니다.\n",
      "\n",
      "제조업에서도 AI는 혁신적인 변화를 이끌고 있습니다. 스마트 팩토리는 IoT(사물인터넷) 기술과 결합되어 생산 공정을 자동화하고 최적화합니다. AI는 생산 데이터를 실시간으로 분석하여, 기계의 고장 예측 및 유지보수 시점을 알려줍니다. 이는 가동 중단 시간을 줄이고, 생산 효율성을 극대화하는 데 중요한 역할을 합니다.\n",
      "\n",
      "이 외에도 AI는 자연어 처리(NLP), 이미지 인식, 자율주행차 등 다양한 분야에서 빠르게 발전하고 있습니다. NLP 기술은 인간의 언어를 이해하고 해석하는 능력으로, 고객 서비스 챗봇이나 음성 인식 시스템에 활용됩니다. 이 기술은 사용자와의 상호작용을 보다 원활하게 만들어 주며, 기업의 운영 효율성을 높이는 데 도움을 줍니다.\n",
      "\n",
      "이제 이러한 기술들이 우리의 일상에 미치는 영향에 대해 이야기해 보겠습니다. 많은 사람들은 AI의 도입이 직장 환경에 가져올 변화에 대해 우려하고 있습니다. 일부 직종은 자동화로 인해 불필요해질 수 있지만, 동시에 새로운 직업이 창출되기도 합니다. AI 기술을 활용한 데이터 분석, 시스템 관리, 윤리적 AI 개발 등의 분야에서 전문성을 가진 인력이 필요해질 것입니다.\n",
      "\n",
      "이와 관련하여 AI 기술의 윤리적 측면에 대한 논의도 중요합니다. AI가 인간의 결정에 미치는 영향에 대해 우리는 신중히 접근해야 하며, 편향된 데이터로 인해 잘못된 판단이 내려지지 않도록 해야 합니다. 따라서 AI의 설계와 운영에 있어 윤리적 기준과 투명성이 반드시 필요합니다. 정책 입안자들과 기술 개발자들이 협력하여 AI의 긍정적인 발전을 위해 노력해야 할 것입니다.\n",
      "\n",
      "마지막으로, 인공지능 기술의 미래에 대한 전망에 대해 이야기해보겠습니다. 향후 AI는 더욱 고도화된 형태로 발전할 것이며, 인간과 협력하는 방식도 변화할 것입니다. 예를 들어, AI는 반복적이고 수동적인 작업을 대신 수행함으로써, 인간은 보다 창의적이고 전략적인 역할에 집중할 수 있게 될 것입니다. 이러한 변화는 개인의 삶의 질을 높이고, 다양한 산업의 혁신을 가져오는 기회가 될 것입니다.\n",
      "\n",
      "이제 글의 마무리를 지어 보겠습니다. 인공지능 기술의 발전은 세계적으로 엄청난 속도로 진행되고 있으며, 이는 우리의 삶과 사회에 깊은 영향을 미치고 있습니다. 우리는 이러한 변화를 잘 이해하고, 긍정적인 방향으로 이끌어 나가야 합니다. 인공지능이 인류에게 도움이 되는 기술로 자리 잡을 수 있도록 지속적인 연구와 논의가 이어져야 할 것입니다. 감사합니다!\n",
      "\n",
      "---\n",
      "\n",
      "이렇게 길게 내용을 작성해 드렸습니다. 이 글이 원하시는 테스트에 도움이 되기를 바랍니다! 추가로 필요한 내용이나 질문이 있으시면 말씀해 주세요.👏응답 완료👏\n"
     ]
    }
   ],
   "source": [
    "client = OpenAI()       # API 키를 넣지 않아도 환경변수에서 찾아서 자동으로 키를 가져옴\n",
    "\n",
    "stream_response = client.chat.completions.create(\n",
    "    model=\"gpt-4o-mini\",\n",
    "    messages=[\n",
    "        {\"role\":\"user\", \"content\":\"steam 테스트를 할건데, 아주 긴 응답 메세지를 보내주세요.\"}\n",
    "    ],\n",
    "    stream=True     # ChatGPT가 응답하는 것 처럼 문장-문장을 반환\n",
    ")\n",
    "\n",
    "for chunk in stream_response:\n",
    "    if chunk.choices[0].delta.content is not None:\n",
    "        print(chunk.choices[0].delta.content, end='')\n",
    "\n",
    "print('👏응답 완료👏')"
   ]
  },
  {
   "cell_type": "code",
   "execution_count": 12,
   "id": "88486709",
   "metadata": {},
   "outputs": [
    {
     "name": "stdout",
     "output_type": "stream",
     "text": [
      "<openai.Stream object at 0x7f3fc8a111d0>\n"
     ]
    }
   ],
   "source": [
    "print(stream_response)\n",
    "# print(stream_response[0])   # TypeError: 'Stream' object is not subscriptable"
   ]
  },
  {
   "cell_type": "markdown",
   "id": "01f19d60",
   "metadata": {},
   "source": [
    "### Token Counting\n",
    "- 한 번의 프롬프트 입출력 토큰과 서비스 호출 빈도를 고려해 서비스 제공 비용을 산정할 수 있음"
   ]
  },
  {
   "cell_type": "code",
   "execution_count": 14,
   "id": "0a30e63a",
   "metadata": {},
   "outputs": [],
   "source": [
    "# !pip install tiktoken"
   ]
  },
  {
   "cell_type": "code",
   "execution_count": 16,
   "id": "31e87b9b",
   "metadata": {},
   "outputs": [
    {
     "name": "stdout",
     "output_type": "stream",
     "text": [
      "598\n",
      "337\n"
     ]
    }
   ],
   "source": [
    "import tiktoken\n",
    "\n",
    "gpt35_tokenizer = tiktoken.encoding_for_model(\"gpt-3.5-turbo\")\n",
    "gpt4o_tokenizer = tiktoken.encoding_for_model(\"gpt-4o\")\n",
    "\n",
    "text=\"\"\"\n",
    "KT는 태국 ‘자스민(Jasmine)’ 그룹의 IT 전문 기업 ‘자스민 테크놀로지 솔루션(JTS)’과 함께 태국어 거대 언어 모델(LLM) 플랫폼 구축 프로젝트를 성공적으로 마무리했다고 15일 밝혔다.\n",
    "\n",
    "KT는 지난해 3월 JTS와 협약을 체결하고 1년 동안 태국어 LLM 플랫폼 개발 프로젝트를 진행했다.\n",
    "\n",
    "이 프로젝트는 LLM 운영 관리 환경인 ‘LLM 옵스(Ops)’와 AI 서비스 인프라 ‘GPU 팜(Farm)’ 구축 및 태국어 전용 LLM 모델 개발을 포함하는 원스톱 프로젝트로, 국내 기업 중 KT가 처음으로 해외에 종합 AI 인프라를 구축한 사례다.\n",
    "\n",
    "KT는 클라우드 자회사 KT Cloud와 협력해 GPU 자원 관리 및 GPU 구독 서비스(GPUaaS)를 태국 현지에 제공하며, 태국 내 AI 생태계 확장을 촉진할 계획이다.\n",
    "\n",
    "또한, 업스테이지와 공동 개발한 태국어, 영어, 한국어 지원 LLM 모델은 태국의 고유 데이터를 학습해 정치, 역사, 문화 관련 질문에 정확하게 응답할 수 있다.\n",
    "\n",
    "KT는 이번 프로젝트를 통해 글로벌 AX 사업 역량을 강화하고, 동남아뿐만 아니라 중동, 유럽 등 글로벌 시장으로 사업 영역을 확대할 계획이다.\n",
    "\n",
    "KT는 향후 JTS와 지속적인 협력을 통해 AI 플랫폼 고도화, GPU 인프라 확장 및 신규 서비스 발굴을 이어나갈 예정이다.\n",
    "\"\"\"\n",
    "\n",
    "print(len(gpt35_tokenizer.encode(text)))\n",
    "print(len(gpt4o_tokenizer.encode(text)))"
   ]
  }
 ],
 "metadata": {
  "kernelspec": {
   "display_name": "Python 3",
   "language": "python",
   "name": "python3"
  },
  "language_info": {
   "codemirror_mode": {
    "name": "ipython",
    "version": 3
   },
   "file_extension": ".py",
   "mimetype": "text/x-python",
   "name": "python",
   "nbconvert_exporter": "python",
   "pygments_lexer": "ipython3",
   "version": "3.11.11"
  }
 },
 "nbformat": 4,
 "nbformat_minor": 5
}
