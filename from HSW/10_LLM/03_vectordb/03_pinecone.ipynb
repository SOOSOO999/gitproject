{
 "cells": [
  {
   "cell_type": "markdown",
   "id": "fa87940a",
   "metadata": {},
   "source": [
    "# Pinecone DB (프리티어 사용)"
   ]
  },
  {
   "cell_type": "markdown",
   "id": "dbef0803",
   "metadata": {},
   "source": [
    "- 사용방법 참조\n",
    "- https://app.pinecone.io/organizations/-OO6qXaTMjHv0vo82OHB/projects/47c50289-22ec-41ee-98a1-1de664766c8d/indexes"
   ]
  },
  {
   "cell_type": "code",
   "execution_count": null,
   "id": "5c4ae8cd",
   "metadata": {},
   "outputs": [
    {
     "data": {
      "text/plain": [
       "{\n",
       "    \"name\": \"reviewtest\",\n",
       "    \"metric\": \"cosine\",\n",
       "    \"host\": \"reviewtest-kmvd9ik.svc.aped-4627-b74a.pinecone.io\",\n",
       "    \"spec\": {\n",
       "        \"serverless\": {\n",
       "            \"cloud\": \"aws\",\n",
       "            \"region\": \"us-east-1\"\n",
       "        }\n",
       "    },\n",
       "    \"status\": {\n",
       "        \"ready\": true,\n",
       "        \"state\": \"Ready\"\n",
       "    },\n",
       "    \"vector_type\": \"dense\",\n",
       "    \"dimension\": 384,\n",
       "    \"deletion_protection\": \"disabled\",\n",
       "    \"tags\": null\n",
       "}"
      ]
     },
     "execution_count": 2,
     "metadata": {},
     "output_type": "execute_result"
    }
   ],
   "source": [
    "from dotenv import load_dotenv\n",
    "import os\n",
    "from pinecone import Pinecone, ServerlessSpec\n",
    "\n",
    "load_dotenv()\n",
    "PINECONE_API_KEY = os.getenv(\"PINECONE_API_KEY\")\n",
    "\n",
    "pc = Pinecone(api_key=PINECONE_API_KEY)\n",
    "index_name = \"reviewtest\"\n",
    "\n",
    "# Pinecone 링크(위에 적어놓은 링크)로 접속해서 Create index 항목 참조\n",
    "pc.create_index(\n",
    "    name=index_name,\n",
    "    dimension=384,\n",
    "    metric=\"cosine\",\n",
    "    spec=ServerlessSpec(\n",
    "        cloud=\"aws\",        # vectordb를 올려놓을 cloud 선정 | awd: 아마존에서 제공\n",
    "        region=\"us-east-1\"\n",
    "    )\n",
    ")"
   ]
  },
  {
   "cell_type": "code",
   "execution_count": 3,
   "id": "ecc9d525",
   "metadata": {},
   "outputs": [],
   "source": [
    "reviews = [\n",
    "    {\"id\": \"1\", \"text\": \"이 노트북은 부팅 속도도 빠르고 디자인도 세련됐어요.\", \"sentiment\": \"positive\"},\n",
    "    {\"id\": \"2\", \"text\": \"팬 소음이 심하고 발열도 심해서 사용이 불편합니다.\", \"sentiment\": \"negative\"},\n",
    "    {\"id\": \"3\", \"text\": \"가성비가 뛰어나고 사양도 괜찮아서 만족스럽습니다.\", \"sentiment\": \"positive\"},\n",
    "    {\"id\": \"4\", \"text\": \"배터리가 금방 닳아서 외출 시 불안해요.\", \"sentiment\": \"negative\"},\n",
    "    {\"id\": \"5\", \"text\": \"화면 밝기나 색감이 아주 좋고 눈이 편안해요.\", \"sentiment\": \"positive\"},\n",
    "    {\"id\": \"6\", \"text\": \"윈도우 설치부터 오류가 많아 고생했어요.\", \"sentiment\": \"negative\"},\n",
    "    {\"id\": \"7\", \"text\": \"타이핑 감이 좋아서 장시간 작업해도 손목이 편해요.\", \"sentiment\": \"positive\"},\n",
    "    {\"id\": \"8\", \"text\": \"생각보다 무겁고 휴대성이 떨어지네요.\", \"sentiment\": \"negative\"},\n",
    "    {\"id\": \"9\", \"text\": \"AS 속도도 빠르고 친절해서 신뢰가 갑니다.\", \"sentiment\": \"positive\"},\n",
    "    {\"id\": \"10\", \"text\": \"처음부터 키보드 일부가 안 눌리는 문제가 있었어요.\", \"sentiment\": \"negative\"},\n",
    "    {\"id\": \"11\", \"text\": \"영상 편집도 무리 없이 돌아가서 만족해요.\", \"sentiment\": \"positive\"},\n",
    "    {\"id\": \"12\", \"text\": \"충전기가 너무 크고 무거워서 불편해요.\", \"sentiment\": \"negative\"},\n",
    "    {\"id\": \"13\", \"text\": \"터치패드 반응이 빠르고 정밀해서 좋습니다.\", \"sentiment\": \"positive\"},\n",
    "    {\"id\": \"14\", \"text\": \"포장 상태가 엉망이고 외관에 흠집도 있었어요.\", \"sentiment\": \"negative\"},\n",
    "    {\"id\": \"15\", \"text\": \"화면 회전과 터치 기능까지 있어서 활용도가 높아요.\", \"sentiment\": \"positive\"},\n",
    "    {\"id\": \"16\", \"text\": \"사운드가 너무 작고 음질도 별로예요.\", \"sentiment\": \"negative\"},\n",
    "    {\"id\": \"17\", \"text\": \"프로그램 실행 속도가 빨라서 업무용으로 최고예요.\", \"sentiment\": \"positive\"},\n",
    "    {\"id\": \"18\", \"text\": \"USB 포트가 너무 적어서 허브 없이는 불편해요.\", \"sentiment\": \"negative\"},\n",
    "    {\"id\": \"19\", \"text\": \"디스플레이 해상도가 높아서 눈이 정말 편안해요.\", \"sentiment\": \"positive\"},\n",
    "    {\"id\": \"20\", \"text\": \"지문 인식이 잘 안 되고 보안 기능도 미흡해요.\", \"sentiment\": \"negative\"}\n",
    "]"
   ]
  },
  {
   "cell_type": "code",
   "execution_count": null,
   "id": "61c197e9",
   "metadata": {},
   "outputs": [],
   "source": [
    "# Pinecone index 및 임베딩 모델 로드\n",
    "from dotenv import load_dotenv\n",
    "import os\n",
    "from pinecone import Pinecone, ServerlessSpec\n",
    "from sentence_transformers import SentenceTransformer\n",
    "\n",
    "load_dotenv()\n",
    "PINECONE_API_KEY = os.getenv(\"PINECONE_API_KEY\")\n",
    "\n",
    "index_name = \"reviewtest\"\n",
    "pc = Pinecone(api_key=PINECONE_API_KEY)\n",
    "idx = pc.Index(index_name)\n",
    "\n",
    "model = SentenceTransformer('all-MiniLM-L6-v2')"
   ]
  },
  {
   "cell_type": "code",
   "execution_count": 5,
   "id": "8cc4c777",
   "metadata": {},
   "outputs": [],
   "source": [
    "# index에 리뷰 데이터 추가\n",
    "for review in reviews:\n",
    "    review_embed = model.encode(review['text']).tolist()\n",
    "    idx.upsert([\n",
    "        (   # 튜플 형태\n",
    "            review['id'],       # str 형태의 id\n",
    "            review_embed,       # 임베딩벡터\n",
    "            {   # dictionary 형태\n",
    "                'text': review['text'],\n",
    "                'sentiment': review['sentiment']\n",
    "            }\n",
    "        )\n",
    "    ])"
   ]
  },
  {
   "cell_type": "markdown",
   "id": "9f40591a",
   "metadata": {},
   "source": [
    "### 리뷰 데이터 조회"
   ]
  },
  {
   "cell_type": "code",
   "execution_count": 6,
   "id": "ba4d0d8d",
   "metadata": {},
   "outputs": [
    {
     "data": {
      "text/plain": [
       "{'matches': [{'id': '1',\n",
       "              'metadata': {'sentiment': 'positive',\n",
       "                           'text': '이 노트북은 부팅 속도도 빠르고 디자인도 세련됐어요.'},\n",
       "              'score': 0.727021098,\n",
       "              'values': []},\n",
       "             {'id': '4',\n",
       "              'metadata': {'sentiment': 'negative',\n",
       "                           'text': '배터리가 금방 닳아서 외출 시 불안해요.'},\n",
       "              'score': 0.700294375,\n",
       "              'values': []},\n",
       "             {'id': '8',\n",
       "              'metadata': {'sentiment': 'negative',\n",
       "                           'text': '생각보다 무겁고 휴대성이 떨어지네요.'},\n",
       "              'score': 0.675620735,\n",
       "              'values': []}],\n",
       " 'namespace': '',\n",
       " 'usage': {'read_units': 6}}"
      ]
     },
     "execution_count": 6,
     "metadata": {},
     "output_type": "execute_result"
    }
   ],
   "source": [
    "query_text = \"이 노트북의 성능은 괜찮은가요?\"\n",
    "query_embed = model.encode(query_text).tolist()\n",
    "\n",
    "results = idx.query(\n",
    "    vector=query_embed,\n",
    "    top_k=3,\n",
    "    include_metadata=True\n",
    ")\n",
    "\n",
    "results"
   ]
  },
  {
   "cell_type": "code",
   "execution_count": 7,
   "id": "db1c6f16",
   "metadata": {},
   "outputs": [
    {
     "name": "stdout",
     "output_type": "stream",
     "text": [
      "이 노트북은 부팅 속도도 빠르고 디자인도 세련됐어요. (감성: positive)\n",
      "배터리가 금방 닳아서 외출 시 불안해요. (감성: negative)\n",
      "생각보다 무겁고 휴대성이 떨어지네요. (감성: negative)\n"
     ]
    }
   ],
   "source": [
    "for review in results['matches']:\n",
    "    metadata = review['metadata']\n",
    "    print(metadata['text'], f'(감성: {metadata[\"sentiment\"]})')"
   ]
  },
  {
   "cell_type": "markdown",
   "id": "2e40cda4",
   "metadata": {},
   "source": [
    "### 리뷰 감성 분석"
   ]
  },
  {
   "cell_type": "code",
   "execution_count": 8,
   "id": "17b75b9f",
   "metadata": {},
   "outputs": [
    {
     "data": {
      "text/plain": [
       "{'matches': [{'id': '10',\n",
       "              'metadata': {'sentiment': 'negative',\n",
       "                           'text': '처음부터 키보드 일부가 안 눌리는 문제가 있었어요.'},\n",
       "              'score': 0.820163727,\n",
       "              'values': []},\n",
       "             {'id': '8',\n",
       "              'metadata': {'sentiment': 'negative',\n",
       "                           'text': '생각보다 무겁고 휴대성이 떨어지네요.'},\n",
       "              'score': 0.819359124,\n",
       "              'values': []},\n",
       "             {'id': '11',\n",
       "              'metadata': {'sentiment': 'positive',\n",
       "                           'text': '영상 편집도 무리 없이 돌아가서 만족해요.'},\n",
       "              'score': 0.807165384,\n",
       "              'values': []},\n",
       "             {'id': '12',\n",
       "              'metadata': {'sentiment': 'negative',\n",
       "                           'text': '충전기가 너무 크고 무거워서 불편해요.'},\n",
       "              'score': 0.802863061,\n",
       "              'values': []},\n",
       "             {'id': '20',\n",
       "              'metadata': {'sentiment': 'negative',\n",
       "                           'text': '지문 인식이 잘 안 되고 보안 기능도 미흡해요.'},\n",
       "              'score': 0.788409531,\n",
       "              'values': []}],\n",
       " 'namespace': '',\n",
       " 'usage': {'read_units': 6}}"
      ]
     },
     "execution_count": 8,
     "metadata": {},
     "output_type": "execute_result"
    }
   ],
   "source": [
    "query_text = \"배터리도 빨리 닳고 벽돌보다 무거워요. 비추천\"\n",
    "query_embed = model.encode(query_text).tolist()\n",
    "\n",
    "results = idx.query(\n",
    "    vector=query_embed,\n",
    "    top_k=5,\n",
    "    include_metadata=True\n",
    ")\n",
    "\n",
    "results"
   ]
  },
  {
   "cell_type": "code",
   "execution_count": 10,
   "id": "ecc8603b",
   "metadata": {},
   "outputs": [
    {
     "name": "stdout",
     "output_type": "stream",
     "text": [
      "리뷰 분석 결과: negative\n"
     ]
    }
   ],
   "source": [
    "sentiment_counts = {\n",
    "    \"positive\": 0,\n",
    "    \"negative\": 0\n",
    "}\n",
    "\n",
    "for review in results['matches']:\n",
    "    sentiment = review['metadata'][\"sentiment\"]     # 결과: \"positive\" or \"negative\"\n",
    "    sentiment_counts[sentiment] += 1\n",
    "\n",
    "print(f\"리뷰 분석 결과: {'positive' if sentiment_counts['positive'] > sentiment_counts['negative'] else 'negative'}\")"
   ]
  }
 ],
 "metadata": {
  "kernelspec": {
   "display_name": "Python 3",
   "language": "python",
   "name": "python3"
  },
  "language_info": {
   "codemirror_mode": {
    "name": "ipython",
    "version": 3
   },
   "file_extension": ".py",
   "mimetype": "text/x-python",
   "name": "python",
   "nbconvert_exporter": "python",
   "pygments_lexer": "ipython3",
   "version": "3.9.21"
  }
 },
 "nbformat": 4,
 "nbformat_minor": 5
}
