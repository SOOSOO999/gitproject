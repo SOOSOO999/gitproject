{
 "cells": [
  {
   "cell_type": "markdown",
   "id": "b11c1927",
   "metadata": {},
   "source": [
    "# FAISS DB\n",
    "- Facebook AI Similarity Search"
   ]
  },
  {
   "cell_type": "code",
   "execution_count": null,
   "id": "556bcec4",
   "metadata": {},
   "outputs": [],
   "source": [
    "# !pip install faiss-gpu\n",
    "# # !pip install faiss-cpu"
   ]
  },
  {
   "cell_type": "markdown",
   "id": "b23f1e45",
   "metadata": {},
   "source": [
    "### 영화 추천 시스템"
   ]
  },
  {
   "cell_type": "code",
   "execution_count": 1,
   "id": "8c9cd099",
   "metadata": {},
   "outputs": [],
   "source": [
    "import faiss\n",
    "import numpy as np\n",
    "import pandas as pd\n",
    "import json\n",
    "from sentence_transformers import SentenceTransformer\n",
    "\n",
    "model = SentenceTransformer('all-MiniLM-L6-v2')"
   ]
  },
  {
   "cell_type": "code",
   "execution_count": 2,
   "id": "f16ad7db",
   "metadata": {},
   "outputs": [],
   "source": [
    "with open('data/movie_list_100.json', 'r', encoding='utf-8') as f:\n",
    "    movies = json.load(f)"
   ]
  },
  {
   "cell_type": "code",
   "execution_count": 3,
   "id": "fcb3de35",
   "metadata": {},
   "outputs": [],
   "source": [
    "descriptions = [movie['description'] for movie in movies]\n",
    "desc_embed = np.array([model.encode(description) for description in descriptions], dtype=np.float32)\n",
    "\n",
    "dim = desc_embed.shape[1]\n",
    "idx = faiss.IndexFlatL2(dim)    # table과 비슷한 데이터 구조 -> 효율적인 벡터 검색 가능 | IndexFlatL2: 거리(L2)기반 | (dim): 임베딩 차원 만큼의 형태\n",
    "idx.add(desc_embed)"
   ]
  },
  {
   "cell_type": "code",
   "execution_count": 4,
   "id": "fbafab2f",
   "metadata": {},
   "outputs": [
    {
     "name": "stdout",
     "output_type": "stream",
     "text": [
      "[[0.6703637  0.67116827 0.75558627 0.7639918  0.7720646 ]]\n",
      "[[33 11 29 36 50]]\n"
     ]
    }
   ],
   "source": [
    "query_text = \"복수극\"\n",
    "query_embed = np.array([model.encode(query_text)], dtype='float32')\n",
    "\n",
    "top_n = 5\n",
    "distances, indices = idx.search(query_embed, top_n)\n",
    "\n",
    "print(distances)\n",
    "print(indices)"
   ]
  },
  {
   "cell_type": "code",
   "execution_count": 5,
   "id": "aaa62f37",
   "metadata": {},
   "outputs": [
    {
     "name": "stdout",
     "output_type": "stream",
     "text": [
      "1번째 추천: 코코 (유사도 거리: 0.67)\n",
      "2번째 추천: 반지의 제왕: 반지 원정대 (유사도 거리: 0.67)\n",
      "3번째 추천: 하울의 움직이는 성 (유사도 거리: 0.76)\n",
      "4번째 추천: 토이 스토리 (유사도 거리: 0.76)\n",
      "5번째 추천: 007 노 타임 투 다이 (유사도 거리: 0.77)\n"
     ]
    }
   ],
   "source": [
    "for i in range(top_n):\n",
    "    movie_id = indices[0][i]\n",
    "    print(f\"{i+1}번째 추천: {movies[movie_id]['title']} (유사도 거리: {distances[0][i]:.2f})\")"
   ]
  },
  {
   "cell_type": "markdown",
   "id": "b2d9b462",
   "metadata": {},
   "source": [
    "### 사용자 맞춤 뉴스 추천 <실습>"
   ]
  },
  {
   "cell_type": "code",
   "execution_count": 6,
   "id": "9cfc3253",
   "metadata": {},
   "outputs": [],
   "source": [
    "# 뉴스의 제목을 10, 20 크롤링\n",
    "# 키워드 입력\n",
    "# faiss 활용해 맞춤 뉴스 추천"
   ]
  }
 ],
 "metadata": {
  "kernelspec": {
   "display_name": "Python 3",
   "language": "python",
   "name": "python3"
  },
  "language_info": {
   "codemirror_mode": {
    "name": "ipython",
    "version": 3
   },
   "file_extension": ".py",
   "mimetype": "text/x-python",
   "name": "python",
   "nbconvert_exporter": "python",
   "pygments_lexer": "ipython3",
   "version": "3.9.21"
  }
 },
 "nbformat": 4,
 "nbformat_minor": 5
}
